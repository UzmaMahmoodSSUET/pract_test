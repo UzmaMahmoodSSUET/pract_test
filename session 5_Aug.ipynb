{
 "cells": [
  {
   "cell_type": "markdown",
   "id": "8ba50099",
   "metadata": {},
   "source": [
    "# create a table\n",
    "input a table number from user and generate the table up to 10"
   ]
  },
  {
   "cell_type": "code",
   "execution_count": 2,
   "id": "7295b60f",
   "metadata": {
    "scrolled": true
   },
   "outputs": [
    {
     "name": "stdout",
     "output_type": "stream",
     "text": [
      "Enter a table  :5\n",
      "5*1 =5\n",
      "5*2 =10\n",
      "5*3 =15\n",
      "5*4 =20\n",
      "5*5 =25\n",
      "5*6 =30\n",
      "5*7 =35\n",
      "5*8 =40\n",
      "5*9 =45\n",
      "5*10 =50\n"
     ]
    }
   ],
   "source": [
    "table = int(input(\"Enter a table  :\"))\n",
    "for a in range(1,11):\n",
    "    print(f\"{table}*{a} ={table*a}\")"
   ]
  },
  {
   "cell_type": "code",
   "execution_count": 2,
   "id": "0817378b",
   "metadata": {},
   "outputs": [
    {
     "name": "stdout",
     "output_type": "stream",
     "text": [
      "asad the smart boy\n",
      "asad  the intellegent\n",
      "daniyal the smart boy\n",
      "daniyal  the intellegent\n"
     ]
    }
   ],
   "source": [
    "tags=[\"the smart boy\", \" the intellegent\"]\n",
    "names=[\"asad\", \"daniyal\"]\n",
    "\n",
    "for name in names:\n",
    "    for tag in tags:\n",
    "        print(name, tag)"
   ]
  },
  {
   "cell_type": "code",
   "execution_count": 8,
   "id": "635ba288",
   "metadata": {},
   "outputs": [
    {
     "name": "stdout",
     "output_type": "stream",
     "text": [
      "enter table numbers: 3,4,5,6\n",
      "['3', '4', '5', '6']\n",
      "3*1=4\n",
      "3*2=5\n",
      "3*3=6\n",
      "3*4=7\n",
      "3*5=8\n",
      "3*6=9\n",
      "3*7=10\n",
      "3*8=11\n",
      "3*9=12\n",
      "3*10=13\n",
      "-------------------\n",
      "4*1=5\n",
      "4*2=6\n",
      "4*3=7\n",
      "4*4=8\n",
      "4*5=9\n",
      "4*6=10\n",
      "4*7=11\n",
      "4*8=12\n",
      "4*9=13\n",
      "4*10=14\n",
      "-------------------\n",
      "5*1=6\n",
      "5*2=7\n",
      "5*3=8\n",
      "5*4=9\n",
      "5*5=10\n",
      "5*6=11\n",
      "5*7=12\n",
      "5*8=13\n",
      "5*9=14\n",
      "5*10=15\n",
      "-------------------\n",
      "6*1=7\n",
      "6*2=8\n",
      "6*3=9\n",
      "6*4=10\n",
      "6*5=11\n",
      "6*6=12\n",
      "6*7=13\n",
      "6*8=14\n",
      "6*9=15\n",
      "6*10=16\n",
      "-------------------\n"
     ]
    }
   ],
   "source": [
    "table_numbers = input(\"enter table numbers: \").split(\",\")\n",
    "print(table_numbers)\n",
    "for table in table_numbers:\n",
    "    for a in range(1,11):\n",
    "        print(f\"{table}*{a}={int(table)+a}\")\n",
    "    print(\"-------------------\")\n",
    "    "
   ]
  },
  {
   "cell_type": "code",
   "execution_count": 11,
   "id": "1ca905ad",
   "metadata": {},
   "outputs": [
    {
     "name": "stdout",
     "output_type": "stream",
     "text": [
      "para: Python is a computer programming language often used to build websites and software, automate tasks, and conduct data analysis. Python is a general-purpose language,\n"
     ]
    },
    {
     "data": {
      "text/plain": [
       "{'a': 18,\n",
       " 'e': 12,\n",
       " 'i': 6,\n",
       " 'o': 10,\n",
       " 'u': 8,\n",
       " 'A': 0,\n",
       " 'E': 0,\n",
       " 'I': 0,\n",
       " 'O': 0,\n",
       " 'U': 0}"
      ]
     },
     "execution_count": 11,
     "metadata": {},
     "output_type": "execute_result"
    }
   ],
   "source": [
    "# take a paragraph and count the vowel\n",
    "\n",
    "text = input(\"para: \")\n",
    "vowels = 'aeiouAEIOU'\n",
    "vowel_count={}\n",
    "for vowel in vowels:\n",
    "    vowel_count[vowel]= text.count(vowel)\n",
    "    \n",
    "vowel_count   "
   ]
  },
  {
   "cell_type": "code",
   "execution_count": 15,
   "id": "57137527",
   "metadata": {
    "scrolled": true
   },
   "outputs": [
    {
     "name": "stdout",
     "output_type": "stream",
     "text": [
      "para: Python is a computer programming language often used to build websites and software, automate tasks, and conduct data analysis. Python is a general-purpose language,\n",
      "{'a': 18, 'e': 12, 'i': 6, 'o': 10, 'u': 8, 'A': 0, 'E': 0, 'I': 0, 'O': 0, 'U': 0}\n",
      "Max count is 18\n"
     ]
    }
   ],
   "source": [
    "text = input(\"para: \")\n",
    "vowels = 'aeiouAEIOU'\n",
    "vowel_count={}\n",
    "max=0\n",
    "for vowel in vowels:\n",
    "    vowel_count[vowel]= text.count(vowel)\n",
    "    if max< text.count(vowel):\n",
    "        max=text.count(vowel)\n",
    "print(vowel_count)\n",
    "print(f\"Max count is {max}\")"
   ]
  },
  {
   "cell_type": "code",
   "execution_count": 16,
   "id": "14605599",
   "metadata": {},
   "outputs": [
    {
     "data": {
      "text/plain": [
       "{'a': 18,\n",
       " 'e': 12,\n",
       " 'i': 6,\n",
       " 'o': 10,\n",
       " 'u': 8,\n",
       " 'A': 0,\n",
       " 'E': 0,\n",
       " 'I': 0,\n",
       " 'O': 0,\n",
       " 'U': 0}"
      ]
     },
     "execution_count": 16,
     "metadata": {},
     "output_type": "execute_result"
    }
   ],
   "source": [
    "vowel_count"
   ]
  },
  {
   "cell_type": "code",
   "execution_count": 5,
   "id": "69838c05",
   "metadata": {},
   "outputs": [],
   "source": [
    "winner=max(vowel_count,key=vowel_count.get)"
   ]
  },
  {
   "cell_type": "code",
   "execution_count": 7,
   "id": "a00ca52f",
   "metadata": {},
   "outputs": [
    {
     "name": "stdout",
     "output_type": "stream",
     "text": [
      "para: Python is a computer programming language often used to build websites and software, automate tasks, and conduct data analysis. Python is a general-purpose language,\n"
     ]
    },
    {
     "data": {
      "text/plain": [
       "'a'"
      ]
     },
     "execution_count": 7,
     "metadata": {},
     "output_type": "execute_result"
    }
   ],
   "source": [
    "text = input(\"para: \")\n",
    "vowels = 'aeiouAEIOU'\n",
    "vowel_count={}\n",
    "for vowel in vowels:\n",
    "    vowel_count[vowel]= text.count(vowel)\n",
    "\n",
    "winner=max(vowel_count,key=vowel_count.get)\n",
    "winner"
   ]
  },
  {
   "cell_type": "code",
   "execution_count": 8,
   "id": "afd77c47",
   "metadata": {},
   "outputs": [
    {
     "data": {
      "text/plain": [
       "{'a': 18,\n",
       " 'e': 12,\n",
       " 'i': 6,\n",
       " 'o': 10,\n",
       " 'u': 8,\n",
       " 'A': 0,\n",
       " 'E': 0,\n",
       " 'I': 0,\n",
       " 'O': 0,\n",
       " 'U': 0}"
      ]
     },
     "execution_count": 8,
     "metadata": {},
     "output_type": "execute_result"
    }
   ],
   "source": [
    "vowel_count"
   ]
  },
  {
   "cell_type": "code",
   "execution_count": 11,
   "id": "60763ff0",
   "metadata": {},
   "outputs": [
    {
     "name": "stdout",
     "output_type": "stream",
     "text": [
      "a\n",
      "e\n",
      "i\n",
      "o\n",
      "u\n",
      "A\n",
      "E\n",
      "I\n",
      "O\n",
      "U\n"
     ]
    }
   ],
   "source": [
    "for d in vowel_count:\n",
    "    print (d)"
   ]
  },
  {
   "cell_type": "code",
   "execution_count": 15,
   "id": "36ade37c",
   "metadata": {},
   "outputs": [
    {
     "name": "stdout",
     "output_type": "stream",
     "text": [
      "18\n",
      "12\n",
      "6\n",
      "10\n",
      "8\n",
      "0\n",
      "0\n",
      "0\n",
      "0\n",
      "0\n"
     ]
    }
   ],
   "source": [
    "for value in vowel_count.values():\n",
    "    print (value)"
   ]
  },
  {
   "cell_type": "code",
   "execution_count": 9,
   "id": "f681f69e",
   "metadata": {},
   "outputs": [
    {
     "data": {
      "text/plain": [
       "{'a': 18,\n",
       " 'e': 12,\n",
       " 'i': 6,\n",
       " 'o': 10,\n",
       " 'u': 8,\n",
       " 'A': 0,\n",
       " 'E': 0,\n",
       " 'I': 0,\n",
       " 'O': 0,\n",
       " 'U': 0}"
      ]
     },
     "execution_count": 9,
     "metadata": {},
     "output_type": "execute_result"
    }
   ],
   "source": [
    "vowel_count"
   ]
  },
  {
   "cell_type": "code",
   "execution_count": 11,
   "id": "d06af392",
   "metadata": {},
   "outputs": [
    {
     "name": "stdout",
     "output_type": "stream",
     "text": [
      "a\n",
      "e\n",
      "i\n",
      "o\n",
      "u\n",
      "A\n",
      "E\n",
      "I\n",
      "O\n",
      "U\n"
     ]
    }
   ],
   "source": [
    "for key in vowel_count.keys():\n",
    "    print(key)"
   ]
  },
  {
   "cell_type": "code",
   "execution_count": 12,
   "id": "5597add1",
   "metadata": {},
   "outputs": [
    {
     "name": "stdout",
     "output_type": "stream",
     "text": [
      "('a', 18)\n",
      "('e', 12)\n",
      "('i', 6)\n",
      "('o', 10)\n",
      "('u', 8)\n",
      "('A', 0)\n",
      "('E', 0)\n",
      "('I', 0)\n",
      "('O', 0)\n",
      "('U', 0)\n"
     ]
    }
   ],
   "source": [
    "for item in vowel_count.items():\n",
    "    print(item)"
   ]
  },
  {
   "cell_type": "code",
   "execution_count": null,
   "id": "a914cca2",
   "metadata": {},
   "outputs": [],
   "source": []
  },
  {
   "cell_type": "markdown",
   "id": "1cb7ded9",
   "metadata": {},
   "source": [
    "# While loop"
   ]
  },
  {
   "cell_type": "code",
   "execution_count": 13,
   "id": "58b25720",
   "metadata": {},
   "outputs": [
    {
     "ename": "IndentationError",
     "evalue": "unexpected indent (2533703048.py, line 4)",
     "output_type": "error",
     "traceback": [
      "\u001b[1;36m  Cell \u001b[1;32mIn[13], line 4\u001b[1;36m\u001b[0m\n\u001b[1;33m    guests.append(guest)\u001b[0m\n\u001b[1;37m    ^\u001b[0m\n\u001b[1;31mIndentationError\u001b[0m\u001b[1;31m:\u001b[0m unexpected indent\n"
     ]
    }
   ],
   "source": [
    "guests=[]\n",
    "for a in range(5):\n",
    "   guest = input(\"Enter the name guest :\")\n",
    "    guests.append(guest)\n",
    "\n",
    "\n"
   ]
  },
  {
   "cell_type": "code",
   "execution_count": 5,
   "id": "65a84bd8",
   "metadata": {},
   "outputs": [
    {
     "name": "stdout",
     "output_type": "stream",
     "text": [
      "0 Hello\n",
      "1 Hello\n",
      "2 Hello\n",
      "3 Hello\n",
      "4 Hello\n"
     ]
    }
   ],
   "source": [
    "counter = 0\n",
    "while counter <5:\n",
    "    print(counter, \"Hello\")\n",
    "    counter +=1"
   ]
  },
  {
   "cell_type": "code",
   "execution_count": 4,
   "id": "41b4338f",
   "metadata": {},
   "outputs": [
    {
     "name": "stdout",
     "output_type": "stream",
     "text": [
      "5 Hello\n",
      "4 Hello\n",
      "3 Hello\n",
      "2 Hello\n",
      "1 Hello\n"
     ]
    }
   ],
   "source": [
    "counter = 5\n",
    "while counter>0:\n",
    "    print(counter, \"Hello\")\n",
    "    counter +=-1"
   ]
  },
  {
   "cell_type": "code",
   "execution_count": 6,
   "id": "93a68ba9",
   "metadata": {},
   "outputs": [
    {
     "name": "stdout",
     "output_type": "stream",
     "text": [
      "5 Hello\n",
      "4 Hello\n",
      "3 Hello\n",
      "2 Hello\n",
      "1 Hello\n"
     ]
    }
   ],
   "source": [
    "counter = 5\n",
    "while counter>0:\n",
    "    print(counter, \"Hello\")\n",
    "    counter -=1"
   ]
  },
  {
   "cell_type": "code",
   "execution_count": 8,
   "id": "34a5b137",
   "metadata": {},
   "outputs": [
    {
     "name": "stdout",
     "output_type": "stream",
     "text": [
      "Enter guest name or Q to quit:amna\n",
      "Enter guest name or Q to quit:fatima\n",
      "Enter guest name or Q to quit:sehrish\n",
      "Enter guest name or Q to quit:asma\n",
      "Enter guest name or Q to quit:rida\n",
      "Enter guest name or Q to quit:q\n",
      "Enter guest name or Q to quit:Q\n"
     ]
    },
    {
     "data": {
      "text/plain": [
       "'Q'"
      ]
     },
     "execution_count": 8,
     "metadata": {},
     "output_type": "execute_result"
    }
   ],
   "source": [
    "guests = []\n",
    "while True:\n",
    "    guest = input(\"Enter guest name or Q to quit:\")\n",
    "    if guest == \"Q\":\n",
    "        break\n",
    "    else:\n",
    "        guests.append(guest)\n",
    "guest"
   ]
  },
  {
   "cell_type": "code",
   "execution_count": 1,
   "id": "c03ff68f",
   "metadata": {},
   "outputs": [
    {
     "name": "stdout",
     "output_type": "stream",
     "text": [
      "Enter guest name or (con) to quit:soap\n",
      "Enter guest name or (con) to quit:milk\n",
      "Enter guest name or (con) to quit:tea\n",
      "Enter guest name or (con) to quit:jeellies\n",
      "Enter guest name or (con) to quit:xylophone\n"
     ]
    },
    {
     "data": {
      "text/plain": [
       "['soap', 'milk', 'tea', 'jeellies']"
      ]
     },
     "execution_count": 1,
     "metadata": {},
     "output_type": "execute_result"
    }
   ],
   "source": [
    "items = []\n",
    "con = \"x\"\n",
    "while True:\n",
    "    item = input(\"Enter guest name or (con) to quit:\")\n",
    "    if item.startswith(con):\n",
    "        break\n",
    "    else:\n",
    "        items.append(item)\n",
    "items"
   ]
  },
  {
   "cell_type": "code",
   "execution_count": 2,
   "id": "26846e18",
   "metadata": {},
   "outputs": [
    {
     "name": "stdout",
     "output_type": "stream",
     "text": [
      "Enter guest name or (con) to quit:jellu\n",
      "Enter guest name or (con) to quit:gumies\n",
      "Enter guest name or (con) to quit:x-ray\n"
     ]
    },
    {
     "data": {
      "text/plain": [
       "['jellu', 'gumies']"
      ]
     },
     "execution_count": 2,
     "metadata": {},
     "output_type": "execute_result"
    }
   ],
   "source": [
    "items = []\n",
    "con = \"x\"\n",
    "while True:\n",
    "    groc = input(\"Enter guest name or (con) to quit:\")\n",
    "    if groc.startswith(con):\n",
    "        break\n",
    "    else:\n",
    "        items.append(groc)\n",
    "items"
   ]
  },
  {
   "cell_type": "code",
   "execution_count": 11,
   "id": "9bc64f21",
   "metadata": {},
   "outputs": [
    {
     "ename": "IndentationError",
     "evalue": "unindent does not match any outer indentation level (<tokenize>, line 6)",
     "output_type": "error",
     "traceback": [
      "\u001b[1;36m  File \u001b[1;32m<tokenize>:6\u001b[1;36m\u001b[0m\n\u001b[1;33m    if order == 'Q':\u001b[0m\n\u001b[1;37m    ^\u001b[0m\n\u001b[1;31mIndentationError\u001b[0m\u001b[1;31m:\u001b[0m unindent does not match any outer indentation level\n"
     ]
    }
   ],
   "source": [
    "groc_items ={\"oil\":200, \"soap\":100, \"noodles\":150, \"cream\": 300, \"surf\":230, \"milk\":220}\n",
    "order_item=[]\n",
    "cart=0\n",
    "while True:\n",
    "     order = input(\"Enter order item or Q to quit: \").lower()\n",
    "    if order == 'Q':\n",
    "        break\n",
    "    elif order not in groc_items.keys():\n",
    "        print(f\"{order} item not in store: \")\n",
    "        continue\n",
    "    else:\n",
    "        if(sum>=1500):\n",
    "            break\n",
    "        else:\n",
    "            cart += groc_items[order]\n",
    "            print(f\"You order amount is {cart}\")\n",
    "            order_Item.append(order)\n",
    "print(f\"{order_Item} your order amount exceeds order limit of 1500\")"
   ]
  },
  {
   "cell_type": "code",
   "execution_count": 13,
   "id": "8c2b87c8",
   "metadata": {},
   "outputs": [
    {
     "name": "stdout",
     "output_type": "stream",
     "text": [
      "Enter guest name or q to quit: rice\n",
      "You order amount is 300\n",
      "Enter guest name or q to quit: oil\n",
      "You order amount is 800\n",
      "Enter guest name or q to quit: water\n",
      "You order amount is 900\n",
      "Enter guest name or q to quit: choclates\n",
      "choclates item not in store: \n",
      "Enter guest name or q to quit: choclate\n",
      "You order amount is 1000\n",
      "Enter guest name or q to quit: fairnlovely\n",
      "['rice', 'oil', 'water', 'choclate'] your order amount exceeds order limit of 1000\n"
     ]
    }
   ],
   "source": [
    "store_items = {\"rice\":300, \"oil\":500,\"water\":100, \"choclate\":100, \"fairnlovely\":200}\n",
    "orderItem = []\n",
    "sum = 0\n",
    "\n",
    "while True:\n",
    "    order = input(\"Enter guest name or q to quit: \").lower()\n",
    "    if order == 'Q':\n",
    "        break\n",
    "    elif order not in store_items.keys():\n",
    "        print(f\"{order} item not in store: \")\n",
    "        continue\n",
    "    else:\n",
    "        if(order in store_items.keys()):\n",
    "            if(sum>=1000):\n",
    "                break\n",
    "            else:\n",
    "                sum += store_items[order]\n",
    "                print(f\"You order amount is {sum}\")\n",
    "                orderItem.append(order)\n",
    "print(f\"{orderItem} your order amount exceeds order limit of 1000\")"
   ]
  },
  {
   "cell_type": "code",
   "execution_count": null,
   "id": "cc9068e6",
   "metadata": {},
   "outputs": [
    {
     "name": "stdout",
     "output_type": "stream",
     "text": [
      "Enter order item or Q to quit: q\n",
      "q not in store\n",
      "Enter order item or Q to quit: oil\n",
      "200\n",
      "['oil']\n",
      "Enter order item or Q to quit: water\n",
      "water not in store\n",
      "Enter order item or Q to quit: rice\n",
      "rice not in store\n",
      "Enter order item or Q to quit: soap\n",
      "300\n",
      "['oil', 'soap']\n",
      "Enter order item or Q to quit: cream\n",
      "600\n",
      "['oil', 'soap', 'cream']\n",
      "Enter order item or Q to quit: surf\n",
      "830\n",
      "['oil', 'soap', 'cream', 'surf']\n",
      "Enter order item or Q to quit: milk\n",
      "['oil', 'soap', 'cream', 'surf']\n",
      "830\n",
      "your limit is exceed no more item in store\n",
      "Enter order item or Q to quit: soap\n",
      "930\n",
      "['oil', 'soap', 'cream', 'surf', 'soap']\n",
      "Enter order item or Q to quit: cream\n",
      "['oil', 'soap', 'cream', 'surf', 'soap']\n",
      "930\n",
      "your limit is exceed no more item in store\n"
     ]
    }
   ],
   "source": [
    "store_items ={\"oil\":200, \"soap\":100, \"noodles\":150, \"cream\": 300, \"surf\":230, \"milk\":220}\n",
    "cart=[]\n",
    "amt=0\n",
    "while True:\n",
    "    order = input(\"Enter order item or Q to quit: \").lower()\n",
    "    if order != \"Q\":\n",
    "        if order in store_items.keys():\n",
    "            if (amt+store_items [order]) <1000:\n",
    "                amt+=store_items[order]\n",
    "                cart.append(order)\n",
    "                print(amt)\n",
    "                print(cart)\n",
    "            else:\n",
    "                print(cart)\n",
    "                print(amt)\n",
    "                print(\"your limit is exceed no more item in store\")\n",
    "        else:\n",
    "            print(f\"{order} not in store\")\n",
    "            continue\n",
    "\n",
    "                    \n",
    "    else:\n",
    "        print(cart)\n",
    "        print(amt)\n",
    "        break\n",
    "           \n",
    "            "
   ]
  },
  {
   "cell_type": "code",
   "execution_count": null,
   "id": "80728a12",
   "metadata": {},
   "outputs": [],
   "source": []
  }
 ],
 "metadata": {
  "kernelspec": {
   "display_name": "Python 3 (ipykernel)",
   "language": "python",
   "name": "python3"
  },
  "language_info": {
   "codemirror_mode": {
    "name": "ipython",
    "version": 3
   },
   "file_extension": ".py",
   "mimetype": "text/x-python",
   "name": "python",
   "nbconvert_exporter": "python",
   "pygments_lexer": "ipython3",
   "version": "3.11.3"
  }
 },
 "nbformat": 4,
 "nbformat_minor": 5
}
