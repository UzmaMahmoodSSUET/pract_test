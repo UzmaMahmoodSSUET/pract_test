{
 "cells": [
  {
   "cell_type": "markdown",
   "id": "56a58985",
   "metadata": {},
   "source": [
    "# Function\n",
    "python function {print, input, len}\n",
    "class function\n",
    "user function\n",
    "userdefine class fuction\n",
    "\n"
   ]
  },
  {
   "cell_type": "code",
   "execution_count": 3,
   "id": "41587d7e",
   "metadata": {},
   "outputs": [
    {
     "name": "stdout",
     "output_type": "stream",
     "text": [
      "Help on class int in module builtins:\n",
      "\n",
      "class int(object)\n",
      " |  int([x]) -> integer\n",
      " |  int(x, base=10) -> integer\n",
      " |  \n",
      " |  Convert a number or string to an integer, or return 0 if no arguments\n",
      " |  are given.  If x is a number, return x.__int__().  For floating point\n",
      " |  numbers, this truncates towards zero.\n",
      " |  \n",
      " |  If x is not a number or if base is given, then x must be a string,\n",
      " |  bytes, or bytearray instance representing an integer literal in the\n",
      " |  given base.  The literal can be preceded by '+' or '-' and be surrounded\n",
      " |  by whitespace.  The base defaults to 10.  Valid bases are 0 and 2-36.\n",
      " |  Base 0 means to interpret the base from the string as an integer literal.\n",
      " |  >>> int('0b100', base=0)\n",
      " |  4\n",
      " |  \n",
      " |  Built-in subclasses:\n",
      " |      bool\n",
      " |  \n",
      " |  Methods defined here:\n",
      " |  \n",
      " |  __abs__(self, /)\n",
      " |      abs(self)\n",
      " |  \n",
      " |  __add__(self, value, /)\n",
      " |      Return self+value.\n",
      " |  \n",
      " |  __and__(self, value, /)\n",
      " |      Return self&value.\n",
      " |  \n",
      " |  __bool__(self, /)\n",
      " |      True if self else False\n",
      " |  \n",
      " |  __ceil__(...)\n",
      " |      Ceiling of an Integral returns itself.\n",
      " |  \n",
      " |  __divmod__(self, value, /)\n",
      " |      Return divmod(self, value).\n",
      " |  \n",
      " |  __eq__(self, value, /)\n",
      " |      Return self==value.\n",
      " |  \n",
      " |  __float__(self, /)\n",
      " |      float(self)\n",
      " |  \n",
      " |  __floor__(...)\n",
      " |      Flooring an Integral returns itself.\n",
      " |  \n",
      " |  __floordiv__(self, value, /)\n",
      " |      Return self//value.\n",
      " |  \n",
      " |  __format__(self, format_spec, /)\n",
      " |      Default object formatter.\n",
      " |  \n",
      " |  __ge__(self, value, /)\n",
      " |      Return self>=value.\n",
      " |  \n",
      " |  __getattribute__(self, name, /)\n",
      " |      Return getattr(self, name).\n",
      " |  \n",
      " |  __getnewargs__(self, /)\n",
      " |  \n",
      " |  __gt__(self, value, /)\n",
      " |      Return self>value.\n",
      " |  \n",
      " |  __hash__(self, /)\n",
      " |      Return hash(self).\n",
      " |  \n",
      " |  __index__(self, /)\n",
      " |      Return self converted to an integer, if self is suitable for use as an index into a list.\n",
      " |  \n",
      " |  __int__(self, /)\n",
      " |      int(self)\n",
      " |  \n",
      " |  __invert__(self, /)\n",
      " |      ~self\n",
      " |  \n",
      " |  __le__(self, value, /)\n",
      " |      Return self<=value.\n",
      " |  \n",
      " |  __lshift__(self, value, /)\n",
      " |      Return self<<value.\n",
      " |  \n",
      " |  __lt__(self, value, /)\n",
      " |      Return self<value.\n",
      " |  \n",
      " |  __mod__(self, value, /)\n",
      " |      Return self%value.\n",
      " |  \n",
      " |  __mul__(self, value, /)\n",
      " |      Return self*value.\n",
      " |  \n",
      " |  __ne__(self, value, /)\n",
      " |      Return self!=value.\n",
      " |  \n",
      " |  __neg__(self, /)\n",
      " |      -self\n",
      " |  \n",
      " |  __or__(self, value, /)\n",
      " |      Return self|value.\n",
      " |  \n",
      " |  __pos__(self, /)\n",
      " |      +self\n",
      " |  \n",
      " |  __pow__(self, value, mod=None, /)\n",
      " |      Return pow(self, value, mod).\n",
      " |  \n",
      " |  __radd__(self, value, /)\n",
      " |      Return value+self.\n",
      " |  \n",
      " |  __rand__(self, value, /)\n",
      " |      Return value&self.\n",
      " |  \n",
      " |  __rdivmod__(self, value, /)\n",
      " |      Return divmod(value, self).\n",
      " |  \n",
      " |  __repr__(self, /)\n",
      " |      Return repr(self).\n",
      " |  \n",
      " |  __rfloordiv__(self, value, /)\n",
      " |      Return value//self.\n",
      " |  \n",
      " |  __rlshift__(self, value, /)\n",
      " |      Return value<<self.\n",
      " |  \n",
      " |  __rmod__(self, value, /)\n",
      " |      Return value%self.\n",
      " |  \n",
      " |  __rmul__(self, value, /)\n",
      " |      Return value*self.\n",
      " |  \n",
      " |  __ror__(self, value, /)\n",
      " |      Return value|self.\n",
      " |  \n",
      " |  __round__(...)\n",
      " |      Rounding an Integral returns itself.\n",
      " |      \n",
      " |      Rounding with an ndigits argument also returns an integer.\n",
      " |  \n",
      " |  __rpow__(self, value, mod=None, /)\n",
      " |      Return pow(value, self, mod).\n",
      " |  \n",
      " |  __rrshift__(self, value, /)\n",
      " |      Return value>>self.\n",
      " |  \n",
      " |  __rshift__(self, value, /)\n",
      " |      Return self>>value.\n",
      " |  \n",
      " |  __rsub__(self, value, /)\n",
      " |      Return value-self.\n",
      " |  \n",
      " |  __rtruediv__(self, value, /)\n",
      " |      Return value/self.\n",
      " |  \n",
      " |  __rxor__(self, value, /)\n",
      " |      Return value^self.\n",
      " |  \n",
      " |  __sizeof__(self, /)\n",
      " |      Returns size in memory, in bytes.\n",
      " |  \n",
      " |  __sub__(self, value, /)\n",
      " |      Return self-value.\n",
      " |  \n",
      " |  __truediv__(self, value, /)\n",
      " |      Return self/value.\n",
      " |  \n",
      " |  __trunc__(...)\n",
      " |      Truncating an Integral returns itself.\n",
      " |  \n",
      " |  __xor__(self, value, /)\n",
      " |      Return self^value.\n",
      " |  \n",
      " |  as_integer_ratio(self, /)\n",
      " |      Return integer ratio.\n",
      " |      \n",
      " |      Return a pair of integers, whose ratio is exactly equal to the original int\n",
      " |      and with a positive denominator.\n",
      " |      \n",
      " |      >>> (10).as_integer_ratio()\n",
      " |      (10, 1)\n",
      " |      >>> (-10).as_integer_ratio()\n",
      " |      (-10, 1)\n",
      " |      >>> (0).as_integer_ratio()\n",
      " |      (0, 1)\n",
      " |  \n",
      " |  bit_count(self, /)\n",
      " |      Number of ones in the binary representation of the absolute value of self.\n",
      " |      \n",
      " |      Also known as the population count.\n",
      " |      \n",
      " |      >>> bin(13)\n",
      " |      '0b1101'\n",
      " |      >>> (13).bit_count()\n",
      " |      3\n",
      " |  \n",
      " |  bit_length(self, /)\n",
      " |      Number of bits necessary to represent self in binary.\n",
      " |      \n",
      " |      >>> bin(37)\n",
      " |      '0b100101'\n",
      " |      >>> (37).bit_length()\n",
      " |      6\n",
      " |  \n",
      " |  conjugate(...)\n",
      " |      Returns self, the complex conjugate of any int.\n",
      " |  \n",
      " |  to_bytes(self, /, length=1, byteorder='big', *, signed=False)\n",
      " |      Return an array of bytes representing an integer.\n",
      " |      \n",
      " |      length\n",
      " |        Length of bytes object to use.  An OverflowError is raised if the\n",
      " |        integer is not representable with the given number of bytes.  Default\n",
      " |        is length 1.\n",
      " |      byteorder\n",
      " |        The byte order used to represent the integer.  If byteorder is 'big',\n",
      " |        the most significant byte is at the beginning of the byte array.  If\n",
      " |        byteorder is 'little', the most significant byte is at the end of the\n",
      " |        byte array.  To request the native byte order of the host system, use\n",
      " |        `sys.byteorder' as the byte order value.  Default is to use 'big'.\n",
      " |      signed\n",
      " |        Determines whether two's complement is used to represent the integer.\n",
      " |        If signed is False and a negative integer is given, an OverflowError\n",
      " |        is raised.\n",
      " |  \n",
      " |  ----------------------------------------------------------------------\n",
      " |  Class methods defined here:\n",
      " |  \n",
      " |  from_bytes(bytes, byteorder='big', *, signed=False) from builtins.type\n",
      " |      Return the integer represented by the given array of bytes.\n",
      " |      \n",
      " |      bytes\n",
      " |        Holds the array of bytes to convert.  The argument must either\n",
      " |        support the buffer protocol or be an iterable object producing bytes.\n",
      " |        Bytes and bytearray are examples of built-in objects that support the\n",
      " |        buffer protocol.\n",
      " |      byteorder\n",
      " |        The byte order used to represent the integer.  If byteorder is 'big',\n",
      " |        the most significant byte is at the beginning of the byte array.  If\n",
      " |        byteorder is 'little', the most significant byte is at the end of the\n",
      " |        byte array.  To request the native byte order of the host system, use\n",
      " |        `sys.byteorder' as the byte order value.  Default is to use 'big'.\n",
      " |      signed\n",
      " |        Indicates whether two's complement is used to represent the integer.\n",
      " |  \n",
      " |  ----------------------------------------------------------------------\n",
      " |  Static methods defined here:\n",
      " |  \n",
      " |  __new__(*args, **kwargs) from builtins.type\n",
      " |      Create and return a new object.  See help(type) for accurate signature.\n",
      " |  \n",
      " |  ----------------------------------------------------------------------\n",
      " |  Data descriptors defined here:\n",
      " |  \n",
      " |  denominator\n",
      " |      the denominator of a rational number in lowest terms\n",
      " |  \n",
      " |  imag\n",
      " |      the imaginary part of a complex number\n",
      " |  \n",
      " |  numerator\n",
      " |      the numerator of a rational number in lowest terms\n",
      " |  \n",
      " |  real\n",
      " |      the real part of a complex number\n",
      "\n"
     ]
    }
   ],
   "source": [
    "help(int)"
   ]
  },
  {
   "cell_type": "code",
   "execution_count": 3,
   "id": "c14d7eb9",
   "metadata": {},
   "outputs": [],
   "source": [
    "# function definition\n",
    "# parameter less function\n",
    "def greet():\n",
    "    print(\"Welhome come to my home please !\") "
   ]
  },
  {
   "cell_type": "code",
   "execution_count": 4,
   "id": "ad661b7a",
   "metadata": {},
   "outputs": [
    {
     "name": "stdout",
     "output_type": "stream",
     "text": [
      "Welhome come to my home please !\n"
     ]
    }
   ],
   "source": [
    "greet()"
   ]
  },
  {
   "cell_type": "code",
   "execution_count": 13,
   "id": "de0c6a36",
   "metadata": {},
   "outputs": [],
   "source": [
    "def greet_user(name):\n",
    "    print(f\"Welcome {name}\")\n",
    "    print(\"Welcome\",name)"
   ]
  },
  {
   "cell_type": "code",
   "execution_count": 16,
   "id": "0a7f3aa7",
   "metadata": {},
   "outputs": [
    {
     "name": "stdout",
     "output_type": "stream",
     "text": [
      "Welcome Mr kamran khan!\n",
      "Welcome Mr kamran khan!\n"
     ]
    }
   ],
   "source": [
    "greet_user('Mr kamran khan!') #argument"
   ]
  },
  {
   "cell_type": "code",
   "execution_count": 17,
   "id": "e6e97f40",
   "metadata": {},
   "outputs": [
    {
     "name": "stdout",
     "output_type": "stream",
     "text": [
      "Welcome Mr nasir!\n",
      "Welcome Mr nasir!\n"
     ]
    }
   ],
   "source": [
    "greet_user('Mr nasir!')"
   ]
  },
  {
   "cell_type": "code",
   "execution_count": 12,
   "id": "d9098457",
   "metadata": {},
   "outputs": [],
   "source": [
    "def text_counts(txt):\n",
    "    char_counts = len(txt)\n",
    "    words_counts =len(txt.split())\n",
    "    sent_counts =len(txt.split (\".\"))-1\n",
    "    print(f\"\"\"\n",
    "            words : {words_counts}\n",
    "            sentence : {sent_counts}\n",
    "            char : {char_counts}\n",
    "    \"\"\")"
   ]
  },
  {
   "cell_type": "code",
   "execution_count": 13,
   "id": "96fd67b5",
   "metadata": {},
   "outputs": [
    {
     "name": "stdout",
     "output_type": "stream",
     "text": [
      "\n",
      "            words : 16\n",
      "            sentence : 3\n",
      "            char : 64\n",
      "    \n"
     ]
    }
   ],
   "source": [
    "text_counts(\"i am a lazy boy. i need some work. i want to stay with me alone.\")"
   ]
  },
  {
   "cell_type": "code",
   "execution_count": 16,
   "id": "2b3b663f",
   "metadata": {},
   "outputs": [
    {
     "name": "stdout",
     "output_type": "stream",
     "text": [
      "\n",
      "            words : 16\n",
      "            sentence : 2\n",
      "            char : 64\n",
      "    \n"
     ]
    }
   ],
   "source": [
    "text_counts(\"i am a lazy boy, i need some work. i want to stay with me alone.\")"
   ]
  },
  {
   "cell_type": "code",
   "execution_count": 17,
   "id": "92bfe231",
   "metadata": {},
   "outputs": [],
   "source": [
    "def text_counts(txt):\n",
    "    char_counts = len(txt)\n",
    "    words_counts =len(txt.split())\n",
    "    sent_counts =len(txt.split (\".\"))-1\n",
    "    print(f\"\"\"\n",
    "            words : {words_counts}\n",
    "            sentence : {sent_counts}\n",
    "            char : {char_counts}\n",
    "    \"\"\")"
   ]
  },
  {
   "cell_type": "code",
   "execution_count": 11,
   "id": "863f6dc6",
   "metadata": {},
   "outputs": [
    {
     "name": "stdout",
     "output_type": "stream",
     "text": [
      "\n",
      "            words : 11\n",
      "            sentence : 2\n",
      "            char : 49\n",
      "    \n"
     ]
    }
   ],
   "source": [
    "text_counts(\"I am text for counting. i am a text for counting.\")"
   ]
  },
  {
   "cell_type": "code",
   "execution_count": 18,
   "id": "92bad1a1",
   "metadata": {},
   "outputs": [
    {
     "name": "stdout",
     "output_type": "stream",
     "text": [
      "\n",
      "            words : 11\n",
      "            sentence : 1\n",
      "            char : 50\n",
      "    \n"
     ]
    }
   ],
   "source": [
    "text_counts(\"I am text for counting? i am a text? for counting.\")"
   ]
  },
  {
   "cell_type": "code",
   "execution_count": 7,
   "id": "1af55156",
   "metadata": {},
   "outputs": [],
   "source": [
    "def Calculator(num1, num2, opr):\n",
    "    \n",
    "    if opr=='+':\n",
    "        print(num1+num2)\n",
    "    elif opr=='-':\n",
    "        print(num1-num2)\n",
    "    elif opr=='*':\n",
    "        print(num1*num2)\n",
    "    elif opr=='/':\n",
    "        print(num1/num2)\n",
    "    else:\n",
    "        print(operation is not supported)"
   ]
  },
  {
   "cell_type": "code",
   "execution_count": 20,
   "id": "1bd7dbdc",
   "metadata": {},
   "outputs": [
    {
     "name": "stdout",
     "output_type": "stream",
     "text": [
      "9\n"
     ]
    }
   ],
   "source": [
    "Calculator(4,5,'+')"
   ]
  },
  {
   "cell_type": "code",
   "execution_count": 21,
   "id": "a200bd9e",
   "metadata": {},
   "outputs": [
    {
     "name": "stdout",
     "output_type": "stream",
     "text": [
      "20\n"
     ]
    }
   ],
   "source": [
    "Calculator(4,5,'*')"
   ]
  },
  {
   "cell_type": "code",
   "execution_count": 22,
   "id": "7b29e4f3",
   "metadata": {},
   "outputs": [
    {
     "name": "stdout",
     "output_type": "stream",
     "text": [
      "0.8\n"
     ]
    }
   ],
   "source": [
    "Calculator(4,5,'/')"
   ]
  },
  {
   "cell_type": "code",
   "execution_count": 11,
   "id": "d8927550",
   "metadata": {},
   "outputs": [
    {
     "name": "stdout",
     "output_type": "stream",
     "text": [
      "-1\n"
     ]
    }
   ],
   "source": [
    "Calculator(4,5,'-')"
   ]
  },
  {
   "cell_type": "code",
   "execution_count": 10,
   "id": "646c5c4c",
   "metadata": {},
   "outputs": [
    {
     "name": "stdout",
     "output_type": "stream",
     "text": [
      "2.0\n"
     ]
    }
   ],
   "source": [
    "Calculator(4,2,'/')"
   ]
  },
  {
   "cell_type": "code",
   "execution_count": 24,
   "id": "87f6936b",
   "metadata": {},
   "outputs": [],
   "source": [
    "def discount_calc(bill_amt):\n",
    "    if bill_amt > 30000:\n",
    "        discount = bill_amt*.30\n",
    "    elif bill_amt > 25000:\n",
    "        discount = bill_amt*.25        \n",
    "    elif bill_amt > 20000:\n",
    "        discount = bill_amt*.20\n",
    "    elif bill_amt > 15000:\n",
    "        discount = bill_amt*.15\n",
    "    elif bill_amt > 10000:\n",
    "        discount = bill_amt*.10        \n",
    "    else:\n",
    "        discount = bill_amt*0\n",
    "    return discount"
   ]
  },
  {
   "cell_type": "code",
   "execution_count": 22,
   "id": "3b912d38",
   "metadata": {},
   "outputs": [],
   "source": [
    "store_items = {\"rice\":3000, \"oil\":5000,\"water\":1000, \"choclate\":1000, \"fairnlovely\":2000, \"ghee\":5000, \"soap\": 4000}\n",
    "def store():\n",
    "    cart = []\n",
    "    amt = 0\n",
    "    while True:\n",
    "        order = input(\"Enter item name or q to quit: \").lower()\n",
    "        if order != 'q':\n",
    "            if order in store_items.keys():\n",
    "                if (amt+store_items[order])< 50000:\n",
    "                    amt+=store_items[order]\n",
    "                    cart.append(order)\n",
    "                    print(cart)\n",
    "                    print(amt)\n",
    "                else:\n",
    "                    print(cart)\n",
    "                    print(amt)\n",
    "                    return cart, amt, discount_calc(amt)\n",
    "            else:\n",
    "                print(f' [order] not in list')\n",
    "                continue\n",
    "        else:\n",
    "            break\n",
    "    return cart, amt, discount_calc(amt)\n"
   ]
  },
  {
   "cell_type": "code",
   "execution_count": 25,
   "id": "36c9748a",
   "metadata": {},
   "outputs": [
    {
     "name": "stdout",
     "output_type": "stream",
     "text": [
      "Enter item name or q to quit: ghee\n",
      "['ghee']\n",
      "5000\n",
      "Enter item name or q to quit: rice\n",
      "['ghee', 'rice']\n",
      "8000\n",
      "Enter item name or q to quit: rice\n",
      "['ghee', 'rice', 'rice']\n",
      "11000\n",
      "Enter item name or q to quit: oil\n",
      "['ghee', 'rice', 'rice', 'oil']\n",
      "16000\n",
      "Enter item name or q to quit: soap\n",
      "['ghee', 'rice', 'rice', 'oil', 'soap']\n",
      "20000\n",
      "Enter item name or q to quit: soap\n",
      "['ghee', 'rice', 'rice', 'oil', 'soap', 'soap']\n",
      "24000\n",
      "Enter item name or q to quit: q\\\n",
      " [order] not in list\n",
      "Enter item name or q to quit: q\n"
     ]
    },
    {
     "data": {
      "text/plain": [
       "(['ghee', 'rice', 'rice', 'oil', 'soap', 'soap'], 24000, 4800.0)"
      ]
     },
     "execution_count": 25,
     "metadata": {},
     "output_type": "execute_result"
    }
   ],
   "source": [
    "store()"
   ]
  },
  {
   "cell_type": "code",
   "execution_count": 26,
   "id": "ff9f17f3",
   "metadata": {},
   "outputs": [
    {
     "name": "stdout",
     "output_type": "stream",
     "text": [
      "Enter item name or q to quit: ghee\n",
      "['ghee']\n",
      "5000\n",
      "Enter item name or q to quit: oil\n",
      "['ghee', 'oil']\n",
      "10000\n",
      "Enter item name or q to quit: rice\n",
      "['ghee', 'oil', 'rice']\n",
      "13000\n",
      "Enter item name or q to quit: soap\n",
      "['ghee', 'oil', 'rice', 'soap']\n",
      "17000\n",
      "Enter item name or q to quit: water\n",
      "['ghee', 'oil', 'rice', 'soap', 'water']\n",
      "18000\n",
      "Enter item name or q to quit: fairnlovely\n",
      "['ghee', 'oil', 'rice', 'soap', 'water', 'fairnlovely']\n",
      "20000\n",
      "Enter item name or q to quit: q\n",
      "\n",
      "            ABC General Store \n",
      "            ___________________\n",
      "    Cart: ['ghee', 'oil', 'rice', 'soap', 'water', 'fairnlovely']\n",
      "    Amount: 20000\n",
      "    Discount: 3000.0\n",
      "    \n",
      "    Total_Bill : 17000.0\n",
      "\n",
      "\n",
      "      Thanks for shopping!\n",
      "\n",
      "\n"
     ]
    }
   ],
   "source": [
    "cart, amt, dis = store()\n",
    "print(f'''\n",
    "            ABC General Store \n",
    "            ___________________\n",
    "    Cart: {cart}\n",
    "    Amount: {amt}\n",
    "    Discount: {dis}\n",
    "    \n",
    "    Total_Bill : { amt-dis}\n",
    "\n",
    "\n",
    "      Thanks for shopping!\n",
    "\n",
    "''')"
   ]
  },
  {
   "cell_type": "raw",
   "id": "00d9ad8e",
   "metadata": {},
   "source": [
    "cart, amt, dis = store()\n",
    "print(f'''\n",
    "            ABC General Store \n",
    "            ___________________\n",
    "    Cart: {cart}\n",
    "    Amount: {amt}\n",
    "    Discount: {dis}\n",
    "    \n",
    "    Total_Bill : { amt-dis}\n",
    "\n",
    "\n",
    "      Thanks for shopping!\n",
    "\n",
    "''')\n",
    "        "
   ]
  },
  {
   "cell_type": "code",
   "execution_count": 31,
   "id": "30ba5776",
   "metadata": {},
   "outputs": [],
   "source": [
    "def add(v1,v2):\n",
    "    c= v1+v2\n",
    "#     print(c)"
   ]
  },
  {
   "cell_type": "code",
   "execution_count": 35,
   "id": "aaa1a83c",
   "metadata": {},
   "outputs": [
    {
     "name": "stdout",
     "output_type": "stream",
     "text": [
      "17\n",
      "None\n"
     ]
    }
   ],
   "source": [
    "print(add(12,5))"
   ]
  },
  {
   "cell_type": "code",
   "execution_count": null,
   "id": "e62798d7",
   "metadata": {},
   "outputs": [],
   "source": [
    "store()"
   ]
  },
  {
   "cell_type": "code",
   "execution_count": null,
   "id": "09d3bee1",
   "metadata": {},
   "outputs": [],
   "source": []
  },
  {
   "cell_type": "code",
   "execution_count": 37,
   "id": "48f836fb",
   "metadata": {},
   "outputs": [],
   "source": [
    "def discount_calc(bill_amt):\n",
    "    if bill_amt > 30000:\n",
    "        discount = bill_amt*.30\n",
    "    elif bill_amt > 25000:\n",
    "        discount = bill_amt*.25        \n",
    "    elif bill_amt > 20000:\n",
    "        discount = bill_amt*.20\n",
    "    elif bill_amt > 15000:\n",
    "        discount = bill_amt*.15\n",
    "    elif bill_amt > 10000:\n",
    "        discount = bill_amt*.10        \n",
    "    else:\n",
    "        discount = bill_amt*0\n",
    "    return discount"
   ]
  },
  {
   "cell_type": "code",
   "execution_count": 32,
   "id": "43d6b105",
   "metadata": {},
   "outputs": [],
   "source": [
    "def full_name(firstname, middlename, lastname):\n",
    "    fullname=(firstname+middlename+lastname)\n",
    "    return fullname"
   ]
  },
  {
   "cell_type": "code",
   "execution_count": 33,
   "id": "3762be43",
   "metadata": {},
   "outputs": [
    {
     "data": {
      "text/plain": [
       "'ahmedrazamuhammad'"
      ]
     },
     "execution_count": 33,
     "metadata": {},
     "output_type": "execute_result"
    }
   ],
   "source": [
    "full_name(\"ahmed\", \"raza\", \"muhammad\")"
   ]
  },
  {
   "cell_type": "code",
   "execution_count": 34,
   "id": "668c02ab",
   "metadata": {},
   "outputs": [
    {
     "data": {
      "text/plain": [
       "'Muhammadrazaahmed'"
      ]
     },
     "execution_count": 34,
     "metadata": {},
     "output_type": "execute_result"
    }
   ],
   "source": [
    "full_name(\"Muhammad\", \"raza\", \"ahmed\")"
   ]
  },
  {
   "cell_type": "code",
   "execution_count": 35,
   "id": "b3586e64",
   "metadata": {},
   "outputs": [],
   "source": [
    "def full_name(firstname, lastname, middlename=''):\n",
    "    fullname=(firstname+middlename+lastname)\n",
    "    return fullname"
   ]
  },
  {
   "cell_type": "code",
   "execution_count": 36,
   "id": "e6c73600",
   "metadata": {},
   "outputs": [
    {
     "data": {
      "text/plain": [
       "'nasirhussain'"
      ]
     },
     "execution_count": 36,
     "metadata": {},
     "output_type": "execute_result"
    }
   ],
   "source": [
    "full_name(\"nasir\", \"hussain\")"
   ]
  },
  {
   "cell_type": "code",
   "execution_count": 40,
   "id": "5c8144d0",
   "metadata": {},
   "outputs": [
    {
     "data": {
      "text/plain": [
       "'nasirhussainhello'"
      ]
     },
     "execution_count": 40,
     "metadata": {},
     "output_type": "execute_result"
    }
   ],
   "source": [
    "full_name(\"nasir\", middlename=\"hussain\", lastname='hello')"
   ]
  },
  {
   "cell_type": "code",
   "execution_count": 42,
   "id": "7eb719f1",
   "metadata": {},
   "outputs": [
    {
     "ename": "SyntaxError",
     "evalue": "positional argument follows keyword argument (1304527186.py, line 1)",
     "output_type": "error",
     "traceback": [
      "\u001b[1;36m  Cell \u001b[1;32mIn[42], line 1\u001b[1;36m\u001b[0m\n\u001b[1;33m    full_name(firstname=\"nasir\", middlename=\"hussain\", \"hello\")\u001b[0m\n\u001b[1;37m                                                              ^\u001b[0m\n\u001b[1;31mSyntaxError\u001b[0m\u001b[1;31m:\u001b[0m positional argument follows keyword argument\n"
     ]
    }
   ],
   "source": [
    "full_name(firstname=\"nasir\", middlename=\"hussain\", \"hello\")\n",
    "# positional argument is after the keyword argumentthats why error is occur"
   ]
  },
  {
   "cell_type": "markdown",
   "id": "c5c689b0",
   "metadata": {},
   "source": [
    "# Arbitrarty Arguments"
   ]
  },
  {
   "cell_type": "code",
   "execution_count": 43,
   "id": "af42265e",
   "metadata": {},
   "outputs": [],
   "source": [
    "def summing(n1,n2,n3 =0):\n",
    "    s= n1+n2+n3\n",
    "    return s"
   ]
  },
  {
   "cell_type": "code",
   "execution_count": 44,
   "id": "5a7d1cba",
   "metadata": {},
   "outputs": [
    {
     "data": {
      "text/plain": [
       "6"
      ]
     },
     "execution_count": 44,
     "metadata": {},
     "output_type": "execute_result"
    }
   ],
   "source": [
    "summing(1,2,3)"
   ]
  },
  {
   "cell_type": "code",
   "execution_count": 45,
   "id": "e59e83ba",
   "metadata": {},
   "outputs": [
    {
     "data": {
      "text/plain": [
       "9"
      ]
     },
     "execution_count": 45,
     "metadata": {},
     "output_type": "execute_result"
    }
   ],
   "source": [
    "summing(4,5)"
   ]
  },
  {
   "cell_type": "code",
   "execution_count": 49,
   "id": "ae67532f",
   "metadata": {},
   "outputs": [],
   "source": [
    "def summing(*n):\n",
    "    s= sum(n)\n",
    "    return s"
   ]
  },
  {
   "cell_type": "code",
   "execution_count": 51,
   "id": "2b38e2fb",
   "metadata": {},
   "outputs": [
    {
     "data": {
      "text/plain": [
       "8"
      ]
     },
     "execution_count": 51,
     "metadata": {},
     "output_type": "execute_result"
    }
   ],
   "source": [
    "summing(3,5)"
   ]
  },
  {
   "cell_type": "code",
   "execution_count": 52,
   "id": "7edffa59",
   "metadata": {},
   "outputs": [
    {
     "data": {
      "text/plain": [
       "36"
      ]
     },
     "execution_count": 52,
     "metadata": {},
     "output_type": "execute_result"
    }
   ],
   "source": [
    "summing (1,2,3,4,5,6,7,8)"
   ]
  },
  {
   "cell_type": "code",
   "execution_count": 61,
   "id": "373bcc28",
   "metadata": {},
   "outputs": [],
   "source": [
    "def invited_guest(*gst):\n",
    "    for g in gst:\n",
    "        print(f\"MR {g} you are invited !\")\n",
    "      \n",
    "    \n",
    "                  "
   ]
  },
  {
   "cell_type": "code",
   "execution_count": 63,
   "id": "e6a53ed3",
   "metadata": {},
   "outputs": [
    {
     "name": "stdout",
     "output_type": "stream",
     "text": [
      "MR nasir you are invited !\n",
      "MR waseem you are invited !\n",
      "MR asad you are invited !\n",
      "MR kashif you are invited !\n"
     ]
    }
   ],
   "source": [
    "invited_guest('nasir', 'waseem', 'asad', 'kashif')"
   ]
  },
  {
   "cell_type": "code",
   "execution_count": 66,
   "id": "caa33f24",
   "metadata": {},
   "outputs": [
    {
     "name": "stdout",
     "output_type": "stream",
     "text": [
      "excuation starts.....\n",
      "excution ends..\n"
     ]
    }
   ],
   "source": [
    "import test"
   ]
  },
  {
   "cell_type": "code",
   "execution_count": 67,
   "id": "992c30e6",
   "metadata": {},
   "outputs": [
    {
     "name": "stdout",
     "output_type": "stream",
     "text": [
      "79\n"
     ]
    }
   ],
   "source": [
    "test.summing(56,23)"
   ]
  },
  {
   "cell_type": "code",
   "execution_count": 69,
   "id": "af74c70b",
   "metadata": {},
   "outputs": [
    {
     "name": "stdout",
     "output_type": "stream",
     "text": [
      "enter an integerapple\n"
     ]
    },
    {
     "ename": "ValueError",
     "evalue": "invalid literal for int() with base 10: 'apple'",
     "output_type": "error",
     "traceback": [
      "\u001b[1;31m---------------------------------------------------------------------------\u001b[0m",
      "\u001b[1;31mValueError\u001b[0m                                Traceback (most recent call last)",
      "Cell \u001b[1;32mIn[69], line 1\u001b[0m\n\u001b[1;32m----> 1\u001b[0m fruits\u001b[38;5;241m=\u001b[39m\u001b[38;5;28mint\u001b[39m(\u001b[38;5;28minput\u001b[39m(\u001b[38;5;124m\"\u001b[39m\u001b[38;5;124menter an integer\u001b[39m\u001b[38;5;124m\"\u001b[39m))\n",
      "\u001b[1;31mValueError\u001b[0m: invalid literal for int() with base 10: 'apple'"
     ]
    }
   ],
   "source": [
    "fruits=int(input(\"enter an integer\"))"
   ]
  },
  {
   "cell_type": "code",
   "execution_count": 70,
   "id": "780fb1fa",
   "metadata": {},
   "outputs": [
    {
     "ename": "ZeroDivisionError",
     "evalue": "division by zero",
     "output_type": "error",
     "traceback": [
      "\u001b[1;31m---------------------------------------------------------------------------\u001b[0m",
      "\u001b[1;31mZeroDivisionError\u001b[0m                         Traceback (most recent call last)",
      "Cell \u001b[1;32mIn[70], line 1\u001b[0m\n\u001b[1;32m----> 1\u001b[0m \u001b[38;5;241m46\u001b[39m\u001b[38;5;241m/\u001b[39m\u001b[38;5;241m0\u001b[39m\n",
      "\u001b[1;31mZeroDivisionError\u001b[0m: division by zero"
     ]
    }
   ],
   "source": [
    "46/0"
   ]
  },
  {
   "cell_type": "code",
   "execution_count": 71,
   "id": "14000783",
   "metadata": {},
   "outputs": [
    {
     "name": "stdout",
     "output_type": "stream",
     "text": [
      "enter an integer23\n",
      "enter an integer5\n",
      "4.6\n"
     ]
    }
   ],
   "source": [
    "num1=int(input(\"enter an integer\"))\n",
    "num2=int(input(\"enter an integer\"))\n",
    "ans = num1/num2\n",
    "print(ans)"
   ]
  },
  {
   "cell_type": "code",
   "execution_count": 7,
   "id": "8a12641e",
   "metadata": {},
   "outputs": [
    {
     "name": "stdout",
     "output_type": "stream",
     "text": [
      "enter an integer10\n",
      "enter an integer0\n",
      "you can not didive by zero\n"
     ]
    }
   ],
   "source": [
    "num1=int(input(\"enter an integer\"))\n",
    "num2=int(input(\"enter an integer\"))\n",
    "try:\n",
    "    ans = num1/num2\n",
    "except ZeroDivisionError:\n",
    "    print(\"you can not didive by zero\")\n",
    "    \n",
    "else: \n",
    "    print(ans)"
   ]
  },
  {
   "cell_type": "code",
   "execution_count": 10,
   "id": "a4f2f130",
   "metadata": {},
   "outputs": [
    {
     "name": "stdout",
     "output_type": "stream",
     "text": [
      "enter an integer4\n",
      "enter an integer0\n",
      "you can not divide bynumber  zero\n"
     ]
    }
   ],
   "source": [
    "\n",
    "try:\n",
    "    num1=int(input(\"enter an integer\"))\n",
    "    num2=int(input(\"enter an integer\"))\n",
    "    ans = num1/num2\n",
    "except ZeroDivisionError:\n",
    "    print(\"you can not divide by number 0\")\n",
    "except ValueError:\n",
    "     print(\"you can only enter digit\")\n",
    "    \n",
    "else: \n",
    "    print(ans)"
   ]
  },
  {
   "cell_type": "code",
   "execution_count": 13,
   "id": "3b41c0d2",
   "metadata": {},
   "outputs": [
    {
     "name": "stdout",
     "output_type": "stream",
     "text": [
      "enter an integerhelo\n",
      "koi error to pakara gaya\n"
     ]
    }
   ],
   "source": [
    "try:\n",
    "    num1=int(input(\"enter an integer\"))\n",
    "    num2=int(input(\"enter an integer\"))\n",
    "    ans = num1/num2\n",
    "except: \n",
    "    print(\"koi error to pakara gaya\") \n",
    "else: \n",
    "    print(ans)"
   ]
  },
  {
   "cell_type": "code",
   "execution_count": 15,
   "id": "9ad29c61",
   "metadata": {},
   "outputs": [
    {
     "name": "stdout",
     "output_type": "stream",
     "text": [
      "enter an integer5\n",
      "enter an integer0\n",
      "division by zero\n"
     ]
    }
   ],
   "source": [
    "try:\n",
    "    num1=int(input(\"enter an integer\"))\n",
    "    num2=int(input(\"enter an integer\"))\n",
    "    ans = num1/num2\n",
    "except Exception as e:\n",
    "    print(e) \n",
    "else: \n",
    "    print(ans)"
   ]
  },
  {
   "cell_type": "code",
   "execution_count": 2,
   "id": "a0c818f5",
   "metadata": {},
   "outputs": [
    {
     "name": "stdout",
     "output_type": "stream",
     "text": [
      "enter your age:12\n",
      "childern and old ages are not allowed\n"
     ]
    }
   ],
   "source": [
    "try:\n",
    "    age=int(input(\"enter your age:\"))\n",
    "    if age<15 or age>100:\n",
    "        raise \"Age restriction Error\"\n",
    "    \n",
    "except Exception as e:\n",
    "    print(\"childern and old ages are not allowed\") \n"
   ]
  },
  {
   "cell_type": "code",
   "execution_count": 6,
   "id": "dea762ca",
   "metadata": {},
   "outputs": [
    {
     "ename": "SyntaxError",
     "evalue": "invalid syntax. Perhaps you forgot a comma? (1024782511.py, line 9)",
     "output_type": "error",
     "traceback": [
      "\u001b[1;36m  Cell \u001b[1;32mIn[6], line 9\u001b[1;36m\u001b[0m\n\u001b[1;33m    print (you are allowed)\u001b[0m\n\u001b[1;37m           ^\u001b[0m\n\u001b[1;31mSyntaxError\u001b[0m\u001b[1;31m:\u001b[0m invalid syntax. Perhaps you forgot a comma?\n"
     ]
    }
   ],
   "source": [
    "try:\n",
    "    age=int(input(\"enter your age:\"))\n",
    "    if age<15 or age>100:\n",
    "        raise \"Age restriction Error\"\n",
    "    \n",
    "except Exception as e:\n",
    "    print(\"you are admitted\") \n",
    "else:\n",
    "    print (you are allowed)"
   ]
  },
  {
   "cell_type": "code",
   "execution_count": 17,
   "id": "5c94dbcd",
   "metadata": {},
   "outputs": [],
   "source": [
    "store_items = {\"rice\":3000, \"oil\":5000,\"water\":1000, \"choclate\":1000, \"fairnlovely\":2000, \"ghee\":5000, \"soap\": 4000}"
   ]
  },
  {
   "cell_type": "code",
   "execution_count": 18,
   "id": "a9a43578",
   "metadata": {},
   "outputs": [
    {
     "data": {
      "text/plain": [
       "dict_keys(['rice', 'oil', 'water', 'choclate', 'fairnlovely', 'ghee', 'soap'])"
      ]
     },
     "execution_count": 18,
     "metadata": {},
     "output_type": "execute_result"
    }
   ],
   "source": [
    "store_items.keys()"
   ]
  },
  {
   "cell_type": "code",
   "execution_count": 19,
   "id": "fd9de419",
   "metadata": {},
   "outputs": [
    {
     "data": {
      "text/plain": [
       "dict_items([('rice', 3000), ('oil', 5000), ('water', 1000), ('choclate', 1000), ('fairnlovely', 2000), ('ghee', 5000), ('soap', 4000)])"
      ]
     },
     "execution_count": 19,
     "metadata": {},
     "output_type": "execute_result"
    }
   ],
   "source": [
    "store_items.items()"
   ]
  },
  {
   "cell_type": "code",
   "execution_count": 20,
   "id": "bfe355b1",
   "metadata": {},
   "outputs": [
    {
     "data": {
      "text/plain": [
       "dict_values([3000, 5000, 1000, 1000, 2000, 5000, 4000])"
      ]
     },
     "execution_count": 20,
     "metadata": {},
     "output_type": "execute_result"
    }
   ],
   "source": [
    "store_items.values()"
   ]
  },
  {
   "cell_type": "code",
   "execution_count": null,
   "id": "f7903b41",
   "metadata": {},
   "outputs": [],
   "source": []
  }
 ],
 "metadata": {
  "kernelspec": {
   "display_name": "Python 3 (ipykernel)",
   "language": "python",
   "name": "python3"
  },
  "language_info": {
   "codemirror_mode": {
    "name": "ipython",
    "version": 3
   },
   "file_extension": ".py",
   "mimetype": "text/x-python",
   "name": "python",
   "nbconvert_exporter": "python",
   "pygments_lexer": "ipython3",
   "version": "3.11.3"
  }
 },
 "nbformat": 4,
 "nbformat_minor": 5
}
