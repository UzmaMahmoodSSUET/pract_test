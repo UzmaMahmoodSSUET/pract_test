{
 "cells": [
  {
   "cell_type": "code",
   "execution_count": 8,
   "id": "c2a47c26",
   "metadata": {},
   "outputs": [
    {
     "name": "stdout",
     "output_type": "stream",
     "text": [
      "Feature1 is working\n",
      "Featur2 is working\n"
     ]
    }
   ],
   "source": [
    "class A:\n",
    "    def feature1(self):\n",
    "        print (\"Feature1 is working\")\n",
    "    def feature2(self):\n",
    "        print (\"Featur2 is working\")\n",
    "        \n",
    "a1=A()\n",
    "a1.feature1()\n",
    "a1.feature2()"
   ]
  },
  {
   "cell_type": "code",
   "execution_count": 9,
   "id": "0568086f",
   "metadata": {},
   "outputs": [
    {
     "name": "stdout",
     "output_type": "stream",
     "text": [
      "Feature3 is working\n",
      "Feature4 is working\n",
      "Feature1 is working\n",
      "Featur2 is working\n"
     ]
    }
   ],
   "source": [
    "class B(A):\n",
    "    def feature3(self):\n",
    "        print (\"Feature3 is working\")\n",
    "    def feature4(self):\n",
    "        print (\"Feature4 is working\")\n",
    "        \n",
    "b1= B()\n",
    "b1.feature3()\n",
    "b1.feature4()\n",
    "b1.feature1()\n",
    "b1.feature2()"
   ]
  },
  {
   "cell_type": "code",
   "execution_count": 10,
   "id": "0b9d8c73",
   "metadata": {},
   "outputs": [
    {
     "name": "stdout",
     "output_type": "stream",
     "text": [
      "Feature1 is working\n",
      "Featur2 is working\n",
      "Feature3 is working\n",
      "Feature4 is working\n",
      "Feature5 is working\n",
      "Feature6 is working\n"
     ]
    }
   ],
   "source": [
    "class C(B):\n",
    "    def feature5(self):\n",
    "        print (\"Feature5 is working\")\n",
    "    def feature6(self):\n",
    "        print (\"Feature6 is working\")\n",
    "        \n",
    "c1= C()\n",
    "c1.feature1()\n",
    "c1.feature2()\n",
    "c1.feature3()\n",
    "c1.feature4()\n",
    "c1.feature5()\n",
    "c1.feature6()"
   ]
  },
  {
   "cell_type": "code",
   "execution_count": 11,
   "id": "73400b28",
   "metadata": {},
   "outputs": [
    {
     "name": "stdout",
     "output_type": "stream",
     "text": [
      "Feature1 is working\n",
      "Feature2 is working\n"
     ]
    }
   ],
   "source": [
    "class A:\n",
    "    def feature1(self):\n",
    "        print(\"Feature1 is working\")\n",
    "    def feature2(self):\n",
    "        print(\"Feature2 is working\")\n",
    "        \n",
    "        \n",
    "\n",
    "a1 = A()\n",
    "a1.feature1()\n",
    "a1.feature2()"
   ]
  },
  {
   "cell_type": "code",
   "execution_count": 12,
   "id": "63238811",
   "metadata": {},
   "outputs": [
    {
     "name": "stdout",
     "output_type": "stream",
     "text": [
      "Feature3 is working\n",
      "Feature4 is working\n"
     ]
    }
   ],
   "source": [
    "class B():\n",
    "    def feature3(self):\n",
    "        print(\"Feature3 is working\")\n",
    "    def feature4(self):\n",
    "        print(\"Feature4 is working\")\n",
    "b1 = B()\n",
    "b1.feature3()\n",
    "b1.feature4()"
   ]
  },
  {
   "cell_type": "code",
   "execution_count": 13,
   "id": "eb833c00",
   "metadata": {},
   "outputs": [
    {
     "name": "stdout",
     "output_type": "stream",
     "text": [
      "Feature1 is working\n",
      "Feature2 is working\n",
      "Feature3 is working\n",
      "Feature4 is working\n",
      "Feature5 is working\n"
     ]
    }
   ],
   "source": [
    "class C(A,B):\n",
    "    def feature5(self):\n",
    "        print(\"Feature5 is working\")\n",
    "c1 = C()\n",
    "c1.feature1()\n",
    "c1.feature2()\n",
    "c1.feature3()\n",
    "c1.feature4()\n",
    "c1.feature5()"
   ]
  },
  {
   "cell_type": "code",
   "execution_count": 14,
   "id": "cfc5bf2f",
   "metadata": {},
   "outputs": [
    {
     "name": "stdout",
     "output_type": "stream",
     "text": [
      "In init of A\n",
      "In init of A\n"
     ]
    }
   ],
   "source": [
    "class A:\n",
    "    \n",
    "    def __init__(self):\n",
    "        print(\"In init of A\")\n",
    "        \n",
    "    def feature1(self):\n",
    "        print(\"Feature1 is working\")\n",
    "    def feature2(self):\n",
    "        print(\"Feature2 is working\")\n",
    "\n",
    "class B(A):\n",
    "    \n",
    "    def feature3(self):\n",
    "        print(\"Feature3 is working\")\n",
    "        \n",
    "    def feature4(self):\n",
    "        print(\"Feature4 is working\")\n",
    "a1=A()\n",
    "b1=B()\n"
   ]
  },
  {
   "cell_type": "code",
   "execution_count": 15,
   "id": "309ab57e",
   "metadata": {},
   "outputs": [
    {
     "name": "stdout",
     "output_type": "stream",
     "text": [
      "In init of A\n",
      "in init of B\n"
     ]
    }
   ],
   "source": [
    "class A:\n",
    "    \n",
    "    def __init__(self):\n",
    "        print(\"In init of A\")\n",
    "        \n",
    "    def feature1(self):\n",
    "        print(\"Feature1 is working\")\n",
    "    def feature2(self):\n",
    "        print(\"Feature2 is working\")\n",
    "\n",
    "class B(A):\n",
    "    def __init__(self):\n",
    "        print(\"in init of B\")\n",
    "       \n",
    "    \n",
    "    def feature3(self):\n",
    "        print(\"Feature3 is working\")\n",
    "        \n",
    "    def feature4(self):\n",
    "        print(\"Feature4 is working\")\n",
    "a1=A()\n",
    "b1=B()\n"
   ]
  },
  {
   "cell_type": "code",
   "execution_count": 16,
   "id": "89675204",
   "metadata": {},
   "outputs": [
    {
     "name": "stdout",
     "output_type": "stream",
     "text": [
      "In init of A\n",
      "In Init of B\n",
      "In init of A\n"
     ]
    }
   ],
   "source": [
    "class A: \n",
    "    def __init__(self):\n",
    "        print(\"In init of A\")\n",
    "        \n",
    "    def feature1(self):\n",
    "        print(\"Feature1 is working\")\n",
    "    def feature2(self):\n",
    "        print(\"Feature2 is working\")\n",
    "        \n",
    "class B(A):\n",
    "    def __init__(self):\n",
    "        print(\"In Init of B\")\n",
    "        super().__init__()\n",
    "        \n",
    "    def feature3(self):\n",
    "        print(\"Feature3 is working\")\n",
    "        \n",
    "    def feature4(self):\n",
    "        print(\"Feature4 is working\")\n",
    "        \n",
    "a1=A()\n",
    "b1=B()\n",
    "        \n",
    "    "
   ]
  },
  {
   "cell_type": "code",
   "execution_count": 17,
   "id": "3d0983d8",
   "metadata": {},
   "outputs": [],
   "source": [
    "class A:    \n",
    "    def __init__(self):\n",
    "        print(\"In init of A\")\n",
    "        \n",
    "    def feature1(self):\n",
    "        print(\"Feature1 is working\")\n",
    "        \n",
    "    def feature2(self):\n",
    "        print(\"Feature2 is working\")\n",
    "    def show(self):\n",
    "        print(\"I am showing class A\")"
   ]
  },
  {
   "cell_type": "code",
   "execution_count": 18,
   "id": "591ba83a",
   "metadata": {},
   "outputs": [],
   "source": [
    "class B():\n",
    "    def __init__(self):\n",
    "        print(\"in init of B\")\n",
    "       \n",
    "    \n",
    "    def feature3(self):\n",
    "        print(\"Feature3 is working\")\n",
    "        \n",
    "    def feature4(self):\n",
    "        print(\"Feature4 is working\")\n",
    "\n",
    "    def show(self):\n",
    "        print(\"I am showing class B\")"
   ]
  },
  {
   "cell_type": "code",
   "execution_count": 19,
   "id": "d526b7ed",
   "metadata": {},
   "outputs": [
    {
     "name": "stdout",
     "output_type": "stream",
     "text": [
      "init of C\n",
      "in init of B\n"
     ]
    }
   ],
   "source": [
    "class C(B,A):\n",
    "    def __init__(self):\n",
    "        print(\"init of C\")\n",
    "        super().__init__()\n",
    "        # now we have two parent classes super will call init of???\n",
    "        # There is a term called MRO  Method Resolution Order\n",
    "        # Method resolution is from Left to Right\n",
    "        # init of A will be called \n",
    "c  = C()"
   ]
  },
  {
   "cell_type": "code",
   "execution_count": 21,
   "id": "9e6ac6b5",
   "metadata": {},
   "outputs": [
    {
     "name": "stdout",
     "output_type": "stream",
     "text": [
      "I am showing class A\n",
      "I am showing class B\n"
     ]
    }
   ],
   "source": [
    "A.show(c)\n",
    "c.show()"
   ]
  },
  {
   "cell_type": "code",
   "execution_count": 22,
   "id": "fe329d0f",
   "metadata": {},
   "outputs": [
    {
     "name": "stdout",
     "output_type": "stream",
     "text": [
      "init of C\n",
      "In init of A\n",
      "I am showing class A\n",
      "Feature2 B is working\n"
     ]
    }
   ],
   "source": [
    "class A:    \n",
    "    def __init__(self):\n",
    "        print(\"In init of A\")\n",
    "   \n",
    "    def feature1(self):\n",
    "        print(\"Feature1 is working\")\n",
    "        \n",
    "#     def feature2(self):\n",
    "#         print(\"Feature2 is A working\")\n",
    "        \n",
    "    def show(self):\n",
    "        print(\"I am showing class A\")\n",
    "class B():\n",
    "    def __init__(self):\n",
    "        print(\"in init of B\")\n",
    "       \n",
    "    \n",
    "    def feature2(self):\n",
    "        print(\"Feature2 B is working\")\n",
    "        \n",
    "    def feature4(self):\n",
    "        print(\"Feature4 is working\")\n",
    "\n",
    "    def show(self):\n",
    "        print(\"I am showing class B\")       \n",
    "        \n",
    "class C(A,B):\n",
    "    def __init__(self):\n",
    "        print(\"init of C\")\n",
    "        super().__init__()\n",
    "        super().show()\n",
    "        \n",
    "    def feature2(self):\n",
    "        print(\"I m in C\")\n",
    "    \n",
    "    def feat(self):\n",
    "       \n",
    "        super().feature2()\n",
    "        \n",
    "c  = C()\n",
    "c.feat()"
   ]
  },
  {
   "cell_type": "markdown",
   "id": "368b22da",
   "metadata": {},
   "source": [
    "# Polymorphism"
   ]
  },
  {
   "cell_type": "markdown",
   "id": "78ee0d2a",
   "metadata": {},
   "source": [
    "# ducking"
   ]
  },
  {
   "cell_type": "code",
   "execution_count": 23,
   "id": "8eb5e536",
   "metadata": {},
   "outputs": [
    {
     "name": "stdout",
     "output_type": "stream",
     "text": [
      "Compiling\n",
      "Running\n",
      "Grammar Checking\n",
      "Spell checking\n",
      "Compiling\n",
      "Running\n"
     ]
    }
   ],
   "source": [
    "class PyCharm:\n",
    "    def execute(self):\n",
    "        print(\"Compiling\")\n",
    "        print(\"Running\")\n",
    "ide1 = PyCharm()\n",
    "\n",
    "#################\n",
    "\n",
    "\n",
    "class VsCode:\n",
    "    def execute(self):\n",
    "        print(\"Grammar Checking\")\n",
    "        print(\"Spell checking\")\n",
    "        print(\"Compiling\")\n",
    "        print(\"Running\")\n",
    "ide2 = VsCode()\n",
    "#############################\n",
    "\n",
    "class Laptop:\n",
    "    def code(self,ide):\n",
    "        ide.execute()\n",
    "        \n",
    "lap1 = Laptop()\n",
    "lap1.code(ide1)\n",
    "lap1.code(ide2)\n"
   ]
  },
  {
   "cell_type": "code",
   "execution_count": 24,
   "id": "db546fd0",
   "metadata": {},
   "outputs": [
    {
     "name": "stdout",
     "output_type": "stream",
     "text": [
      "Reading Books\n",
      "Making Notes\n",
      "Reading Books\n",
      "Making Notes\n",
      "Prepare Question Paper\n"
     ]
    }
   ],
   "source": [
    "class Student:\n",
    "    def useLibrary(self):\n",
    "        print(\"Reading Books\")\n",
    "        print(\"Making Notes\")\n",
    "\n",
    "s1 = Student()\n",
    "################################\n",
    "class Teacher:\n",
    "    def useLibrary(self):\n",
    "        print(\"Reading Books\")\n",
    "        print(\"Making Notes\")\n",
    "        print(\"Prepare Question Paper\")\n",
    "\n",
    "t1 = Teacher()\n",
    "#####################################\n",
    "class Library:\n",
    "    def welcome(self, obj):\n",
    "        obj.useLibrary()\n",
    "\n",
    "        \n",
    "lib  =Library()\n",
    "        \n",
    "lib.welcome(s1)\n",
    "lib.welcome(t1)  "
   ]
  },
  {
   "cell_type": "markdown",
   "id": "5feb5c41",
   "metadata": {},
   "source": [
    "# Operator Overloading"
   ]
  },
  {
   "cell_type": "code",
   "execution_count": 25,
   "id": "9f6cf25a",
   "metadata": {},
   "outputs": [
    {
     "name": "stdout",
     "output_type": "stream",
     "text": [
      "30\n",
      "30\n"
     ]
    }
   ],
   "source": [
    "a = 10\n",
    "b = 20 \n",
    "\n",
    "print(a + b)\n",
    "# when we use a + operator, in backend it calls add method of int class(that sums) \n",
    "# because both the supplied operands are of type(class) integers \\\n",
    "# or we can say that both are objects of int class\n",
    "print(int.__add__(a,b))"
   ]
  },
  {
   "cell_type": "code",
   "execution_count": 26,
   "id": "e73af213",
   "metadata": {},
   "outputs": [
    {
     "data": {
      "text/plain": [
       "5"
      ]
     },
     "execution_count": 26,
     "metadata": {},
     "output_type": "execute_result"
    }
   ],
   "source": [
    "def add(a,b):\n",
    "    return a+b\n",
    "add(2,3)"
   ]
  },
  {
   "cell_type": "code",
   "execution_count": 27,
   "id": "c1e854c5",
   "metadata": {},
   "outputs": [
    {
     "data": {
      "text/plain": [
       "['__abs__',\n",
       " '__add__',\n",
       " '__and__',\n",
       " '__bool__',\n",
       " '__ceil__',\n",
       " '__class__',\n",
       " '__delattr__',\n",
       " '__dir__',\n",
       " '__divmod__',\n",
       " '__doc__',\n",
       " '__eq__',\n",
       " '__float__',\n",
       " '__floor__',\n",
       " '__floordiv__',\n",
       " '__format__',\n",
       " '__ge__',\n",
       " '__getattribute__',\n",
       " '__getnewargs__',\n",
       " '__getstate__',\n",
       " '__gt__',\n",
       " '__hash__',\n",
       " '__index__',\n",
       " '__init__',\n",
       " '__init_subclass__',\n",
       " '__int__',\n",
       " '__invert__',\n",
       " '__le__',\n",
       " '__lshift__',\n",
       " '__lt__',\n",
       " '__mod__',\n",
       " '__mul__',\n",
       " '__ne__',\n",
       " '__neg__',\n",
       " '__new__',\n",
       " '__or__',\n",
       " '__pos__',\n",
       " '__pow__',\n",
       " '__radd__',\n",
       " '__rand__',\n",
       " '__rdivmod__',\n",
       " '__reduce__',\n",
       " '__reduce_ex__',\n",
       " '__repr__',\n",
       " '__rfloordiv__',\n",
       " '__rlshift__',\n",
       " '__rmod__',\n",
       " '__rmul__',\n",
       " '__ror__',\n",
       " '__round__',\n",
       " '__rpow__',\n",
       " '__rrshift__',\n",
       " '__rshift__',\n",
       " '__rsub__',\n",
       " '__rtruediv__',\n",
       " '__rxor__',\n",
       " '__setattr__',\n",
       " '__sizeof__',\n",
       " '__str__',\n",
       " '__sub__',\n",
       " '__subclasshook__',\n",
       " '__truediv__',\n",
       " '__trunc__',\n",
       " '__xor__',\n",
       " 'as_integer_ratio',\n",
       " 'bit_count',\n",
       " 'bit_length',\n",
       " 'conjugate',\n",
       " 'denominator',\n",
       " 'from_bytes',\n",
       " 'imag',\n",
       " 'numerator',\n",
       " 'real',\n",
       " 'to_bytes']"
      ]
     },
     "execution_count": 27,
     "metadata": {},
     "output_type": "execute_result"
    }
   ],
   "source": [
    "dir(a)"
   ]
  },
  {
   "cell_type": "code",
   "execution_count": 28,
   "id": "7804f8d0",
   "metadata": {},
   "outputs": [],
   "source": [
    "class Student:\n",
    "    def __init__(self, m1,m2):\n",
    "        self.m1 = m1\n",
    "        self.m2 = m2\n",
    "    \n",
    "    def __add__(s1,s2):  \n",
    "                               \n",
    "        m1 = s1.m1 + s2.m1\n",
    "        m2 = s1.m2 + s2.m2\n",
    "        \n",
    "        st = Student(m1,m2)\n",
    "        return st\n",
    "    \n",
    "    \n",
    "    def __gt__(s1,s2):\n",
    "        sum_s1 = s1.m1 + s1.m2\n",
    "        sum_s2 = s2.m1 + s2.m2\n",
    "        if sum_s1 > sum_s2:return True\n",
    "        else:return False\n",
    "        \n",
    "        \n",
    "s1 = Student(80,90)\n",
    "s2 = Student(70,90)"
   ]
  },
  {
   "cell_type": "code",
   "execution_count": 29,
   "id": "46681ac1",
   "metadata": {},
   "outputs": [
    {
     "data": {
      "text/plain": [
       "<__main__.Student at 0x1eafbc58b10>"
      ]
     },
     "execution_count": 29,
     "metadata": {},
     "output_type": "execute_result"
    }
   ],
   "source": [
    "s3 = s1 + s2\n",
    "s3"
   ]
  },
  {
   "cell_type": "code",
   "execution_count": 30,
   "id": "8cafaf85",
   "metadata": {},
   "outputs": [
    {
     "data": {
      "text/plain": [
       "150"
      ]
     },
     "execution_count": 30,
     "metadata": {},
     "output_type": "execute_result"
    }
   ],
   "source": [
    "s3.m1"
   ]
  },
  {
   "cell_type": "code",
   "execution_count": 31,
   "id": "5da01490",
   "metadata": {},
   "outputs": [
    {
     "data": {
      "text/plain": [
       "180"
      ]
     },
     "execution_count": 31,
     "metadata": {},
     "output_type": "execute_result"
    }
   ],
   "source": [
    "s3.m2"
   ]
  },
  {
   "cell_type": "code",
   "execution_count": 32,
   "id": "a5e741de",
   "metadata": {},
   "outputs": [
    {
     "data": {
      "text/plain": [
       "True"
      ]
     },
     "execution_count": 32,
     "metadata": {},
     "output_type": "execute_result"
    }
   ],
   "source": [
    "12>10"
   ]
  },
  {
   "cell_type": "code",
   "execution_count": 33,
   "id": "29cd9a93",
   "metadata": {},
   "outputs": [
    {
     "data": {
      "text/plain": [
       "True"
      ]
     },
     "execution_count": 33,
     "metadata": {},
     "output_type": "execute_result"
    }
   ],
   "source": [
    "12>10"
   ]
  },
  {
   "cell_type": "code",
   "execution_count": 34,
   "id": "32a1c731",
   "metadata": {},
   "outputs": [
    {
     "data": {
      "text/plain": [
       "False"
      ]
     },
     "execution_count": 34,
     "metadata": {},
     "output_type": "execute_result"
    }
   ],
   "source": [
    "s2>s1"
   ]
  },
  {
   "cell_type": "code",
   "execution_count": 40,
   "id": "99dbffee",
   "metadata": {},
   "outputs": [],
   "source": [
    "class Student:\n",
    "    \n",
    "    def __init__(self, m1,m2):\n",
    "        self.m1 = m1\n",
    "        self.m2 = m2\n",
    "    \n",
    "    def __add__(self,other):\n",
    "        m1 = self.m1 + other.m1\n",
    "        m2 = self.m2 + other.m2\n",
    "        newObj = Student(m1,m2)\n",
    "        return newObj\n",
    "    \n",
    "    def __str__(self):\n",
    "        return f\"{self.m1} {self.m2}\"\n",
    "    \n",
    "    \n",
    "    def __gt__(self,other):\n",
    "        sum_s1 = other.m1 + other.m2\n",
    "        sum_s2 = self.m1 + self.m2\n",
    "        if sum_s1 > sum_s2:return True\n",
    "        else:return False\n",
    "        \n",
    "        \n",
    "s1 = Student(80,100)\n",
    "s2 = Student(70,60)"
   ]
  },
  {
   "cell_type": "code",
   "execution_count": 41,
   "id": "7893461b",
   "metadata": {},
   "outputs": [],
   "source": [
    "s4=s1+s2"
   ]
  },
  {
   "cell_type": "code",
   "execution_count": 42,
   "id": "bc23e71d",
   "metadata": {},
   "outputs": [
    {
     "name": "stdout",
     "output_type": "stream",
     "text": [
      "150 160\n"
     ]
    }
   ],
   "source": [
    "print(s4)"
   ]
  },
  {
   "cell_type": "code",
   "execution_count": 43,
   "id": "61252d49",
   "metadata": {},
   "outputs": [],
   "source": [
    "class Student:\n",
    "    def __init__(self, m):\n",
    "        self.m = m\n",
    "        \n",
    "    \n",
    "    def __add__(self,other):\n",
    "        new_m = self.m + other.m\n",
    "        \n",
    "        newObj = Student(new_m)\n",
    "        return newObj\n",
    "    \n",
    "    def __str__(self):\n",
    "        return f\"{self.m}\"\n",
    "    \n",
    "    \n",
    "    def __gt__(self,other):\n",
    "        other = other.m \n",
    "        self = self.m \n",
    "        if self > other:return True\n",
    "        else:return False\n",
    "        \n",
    "        \n",
    "s1 = Student(60)\n",
    "s2 = Student(70)"
   ]
  },
  {
   "cell_type": "code",
   "execution_count": 44,
   "id": "083c427f",
   "metadata": {},
   "outputs": [
    {
     "data": {
      "text/plain": [
       "__main__.Student"
      ]
     },
     "execution_count": 44,
     "metadata": {},
     "output_type": "execute_result"
    }
   ],
   "source": [
    "s3 = s1 + s2\n",
    "type(s3)"
   ]
  },
  {
   "cell_type": "code",
   "execution_count": 45,
   "id": "e694fbdc",
   "metadata": {},
   "outputs": [
    {
     "name": "stdout",
     "output_type": "stream",
     "text": [
      "130\n"
     ]
    }
   ],
   "source": [
    "print(s3)"
   ]
  },
  {
   "cell_type": "code",
   "execution_count": 4,
   "id": "59d21efe",
   "metadata": {},
   "outputs": [],
   "source": [
    "class Computer:\n",
    "    def process(self):\n",
    "        print('running')"
   ]
  },
  {
   "cell_type": "code",
   "execution_count": 5,
   "id": "d5f3ff98",
   "metadata": {},
   "outputs": [],
   "source": [
    "# A method that only has declaration but has nothing in it is abstract method\n",
    "class Computer:\n",
    "    def process(self):\n",
    "        pass\n",
    "# A class having a methods that has no body"
   ]
  },
  {
   "cell_type": "code",
   "execution_count": 6,
   "id": "dc530353",
   "metadata": {},
   "outputs": [],
   "source": [
    "com1 = Computer()\n",
    "com1.process()"
   ]
  },
  {
   "cell_type": "code",
   "execution_count": 12,
   "id": "406db995",
   "metadata": {},
   "outputs": [],
   "source": [
    "from abc import ABC, abstractmethod"
   ]
  },
  {
   "cell_type": "code",
   "execution_count": 13,
   "id": "f12f333b",
   "metadata": {},
   "outputs": [],
   "source": [
    "class Computer(ABC):\n",
    "    \n",
    "    @abstractmethod\n",
    "    def process(self):\n",
    "        print(\"I am a process in computer class\")\n",
    "    \n",
    "    @abstractmethod\n",
    "    def greet(self):\n",
    "        pass\n",
    "#        To make a class abstract \n",
    "#           - It must inherit the ABC class from abc module\n",
    "#           - It must have atleast a abstract method \n",
    "#             (which is defined using a decorator @abstractmethod)\n",
    "    "
   ]
  },
  {
   "cell_type": "code",
   "execution_count": 14,
   "id": "7aabf0a3",
   "metadata": {},
   "outputs": [
    {
     "ename": "TypeError",
     "evalue": "Can't instantiate abstract class Computer with abstract methods greet, process",
     "output_type": "error",
     "traceback": [
      "\u001b[1;31m---------------------------------------------------------------------------\u001b[0m",
      "\u001b[1;31mTypeError\u001b[0m                                 Traceback (most recent call last)",
      "Cell \u001b[1;32mIn[14], line 1\u001b[0m\n\u001b[1;32m----> 1\u001b[0m com1 \u001b[38;5;241m=\u001b[39m Computer()\n",
      "\u001b[1;31mTypeError\u001b[0m: Can't instantiate abstract class Computer with abstract methods greet, process"
     ]
    }
   ],
   "source": [
    "com1 = Computer()"
   ]
  },
  {
   "cell_type": "code",
   "execution_count": 15,
   "id": "6bc70a45",
   "metadata": {},
   "outputs": [],
   "source": [
    "class Laptop(Computer):\n",
    "    \n",
    "    def process(self):\n",
    "        print(\"It is running\")\n",
    "    def greet(self):\n",
    "        print(\"Salam\")\n",
    "    def run(self):\n",
    "        print(\"Lap runs\")\n",
    "lap1 = Laptop()  "
   ]
  },
  {
   "cell_type": "code",
   "execution_count": 16,
   "id": "4b13c629",
   "metadata": {},
   "outputs": [
    {
     "name": "stdout",
     "output_type": "stream",
     "text": [
      "It is running\n",
      "Salam\n",
      "Lap runs\n"
     ]
    }
   ],
   "source": [
    "lap1.process()\n",
    "lap1.greet()\n",
    "lap1.run()"
   ]
  },
  {
   "cell_type": "code",
   "execution_count": 18,
   "id": "9baacfd0",
   "metadata": {},
   "outputs": [
    {
     "name": "stdout",
     "output_type": "stream",
     "text": [
      "The mileage is Tesla 30kmph\n",
      "The mileage is Renault 27kmph \n",
      "The mileage is Suzuki 25kmph \n",
      "The mileage is Duster 24kmph \n"
     ]
    }
   ],
   "source": [
    "from abc import ABC, abstractmethod   \n",
    "\n",
    "class Car(ABC):   \n",
    "    @abstractmethod\n",
    "    def mileage(self):   \n",
    "        pass  \n",
    "    \n",
    "class Tesla(Car):   \n",
    "    def mileage(self):   \n",
    "        print(\"The mileage is Tesla 30kmph\")  \n",
    "        \n",
    "        \n",
    "class Suzuki(Car):   \n",
    "    def mileage(self):   \n",
    "        print(\"The mileage is Suzuki 25kmph \")   \n",
    "        \n",
    "        \n",
    "class Duster(Car):   \n",
    "     def mileage(self):   \n",
    "        print(\"The mileage is Duster 24kmph \")   \n",
    "        \n",
    "        \n",
    "        \n",
    "class Renault(Car):   \n",
    "    def mileage(self):   \n",
    "            print(\"The mileage is Renault 27kmph \")   \n",
    "# Driver code   \n",
    "t= Tesla ()   \n",
    "t.mileage()   \n",
    "  \n",
    "r = Renault()   \n",
    "r.mileage()   \n",
    "  \n",
    "s = Suzuki()   \n",
    "s.mileage()   \n",
    "d = Duster()   \n",
    "d.mileage()  "
   ]
  },
  {
   "cell_type": "code",
   "execution_count": 20,
   "id": "b4a966f6",
   "metadata": {},
   "outputs": [
    {
     "name": "stdout",
     "output_type": "stream",
     "text": [
      "Triangle has 3 sides\n",
      "Square have 4 sides\n",
      "Pentagon has 5 sides\n",
      "Hexagon has 6 sides\n"
     ]
    }
   ],
   "source": [
    "from abc import ABC  \n",
    "class Polygon(ABC):\n",
    "    @abstractmethod   \n",
    "    def sides(self):\n",
    "        pass  \n",
    "\n",
    "class Triangle(Polygon):\n",
    "    def sides(self):print(\"Triangle has 3 sides\")   \n",
    "class Pentagon(Polygon):\n",
    "    def sides(self):print(\"Pentagon has 5 sides\")   \n",
    "class Hexagon(Polygon):\n",
    "    def sides(self):print(\"Hexagon has 6 sides\")   \n",
    "class square(Polygon):\n",
    "    def sides(self):print(\"Square have 4 sides\")   \n",
    "# Driver code   \n",
    "t = Triangle()   \n",
    "t.sides()   \n",
    "  \n",
    "s = square()   \n",
    "s.sides()   \n",
    "  \n",
    "p = Pentagon()   \n",
    "p.sides()   \n",
    "  \n",
    "k = Hexagon()   \n",
    "k.sides()"
   ]
  },
  {
   "cell_type": "code",
   "execution_count": 21,
   "id": "a43f4fb8",
   "metadata": {},
   "outputs": [],
   "source": [
    "# All class ariables are public by defualt\n",
    "# All instance variables are public by default \n",
    "class Car():\n",
    "    # public class variable can be accessed from any where \n",
    "    wheels = 4\n",
    "    def __init__(self,windows, doors, enginetype):\n",
    "        \n",
    "        #Public instance Variable can be acceesed from anywhere \n",
    "        self.windows =windows\n",
    "        self.doors =doors\n",
    "        self.enginetype =enginetype\n",
    "car = Car(3,4,\"Petrol\")\n"
   ]
  },
  {
   "cell_type": "code",
   "execution_count": 22,
   "id": "0b014c68",
   "metadata": {},
   "outputs": [
    {
     "data": {
      "text/plain": [
       "['__class__',\n",
       " '__delattr__',\n",
       " '__dict__',\n",
       " '__dir__',\n",
       " '__doc__',\n",
       " '__eq__',\n",
       " '__format__',\n",
       " '__ge__',\n",
       " '__getattribute__',\n",
       " '__getstate__',\n",
       " '__gt__',\n",
       " '__hash__',\n",
       " '__init__',\n",
       " '__init_subclass__',\n",
       " '__le__',\n",
       " '__lt__',\n",
       " '__module__',\n",
       " '__ne__',\n",
       " '__new__',\n",
       " '__reduce__',\n",
       " '__reduce_ex__',\n",
       " '__repr__',\n",
       " '__setattr__',\n",
       " '__sizeof__',\n",
       " '__str__',\n",
       " '__subclasshook__',\n",
       " '__weakref__',\n",
       " 'doors',\n",
       " 'enginetype',\n",
       " 'hp',\n",
       " 'wheels',\n",
       " 'windows']"
      ]
     },
     "execution_count": 22,
     "metadata": {},
     "output_type": "execute_result"
    }
   ],
   "source": [
    "class Suzuki(Car):\n",
    "    def __init__(self,windows,doors,enginetype, hp):\n",
    "        super().__init__(windows,doors,enginetype)\n",
    "        self.hp = hp\n",
    "suz = Suzuki(4,4,\"Petrol\",\"1600\")\n",
    "\n",
    "# you will notice public variables are all accessible to child class also\n",
    "dir(suz)"
   ]
  },
  {
   "cell_type": "code",
   "execution_count": 23,
   "id": "04282eaa",
   "metadata": {},
   "outputs": [
    {
     "data": {
      "text/plain": [
       "['__class__',\n",
       " '__delattr__',\n",
       " '__dict__',\n",
       " '__dir__',\n",
       " '__doc__',\n",
       " '__eq__',\n",
       " '__format__',\n",
       " '__ge__',\n",
       " '__getattribute__',\n",
       " '__getstate__',\n",
       " '__gt__',\n",
       " '__hash__',\n",
       " '__init__',\n",
       " '__init_subclass__',\n",
       " '__le__',\n",
       " '__lt__',\n",
       " '__module__',\n",
       " '__ne__',\n",
       " '__new__',\n",
       " '__reduce__',\n",
       " '__reduce_ex__',\n",
       " '__repr__',\n",
       " '__setattr__',\n",
       " '__sizeof__',\n",
       " '__str__',\n",
       " '__subclasshook__',\n",
       " '__weakref__',\n",
       " '_doors',\n",
       " '_enginetype',\n",
       " '_windows',\n",
       " 'hello']"
      ]
     },
     "execution_count": 23,
     "metadata": {},
     "output_type": "execute_result"
    }
   ],
   "source": [
    "# to make a variable protected use a single underscore before a variable name like _name = \"Asad\"\n",
    "class Car():\n",
    "    def __init__(self,windows, doors, enginetype):\n",
    "        \n",
    "        #Protected variables: should be acceesed from a sub class only by definition but python has no restriction it can also be accessed from any where\n",
    "        # but python dont restrict actually\n",
    "        self._windows =windows\n",
    "        self._doors =doors\n",
    "        self._enginetype =enginetype\n",
    "        self.hello = \"heooooooo\" # public\n",
    "        \n",
    "\n",
    "audi = Car(4,5,\"Diesel\")\n",
    "car2 = Car(2,4,\"abc\")\n",
    " \n",
    "dir(audi)\n"
   ]
  },
  {
   "cell_type": "code",
   "execution_count": 25,
   "id": "bfea521e",
   "metadata": {},
   "outputs": [
    {
     "data": {
      "text/plain": [
       "4"
      ]
     },
     "execution_count": 25,
     "metadata": {},
     "output_type": "execute_result"
    }
   ],
   "source": [
    "audi._windows"
   ]
  },
  {
   "cell_type": "code",
   "execution_count": 27,
   "id": "39092ab0",
   "metadata": {},
   "outputs": [],
   "source": [
    "class Car:\n",
    "    # static or class level variable\n",
    "    #can be updated using class name for all objects\n",
    "    wheels = 4\n",
    "    def __init__(self):\n",
    "    # non static or object/instance level variable\n",
    "    # can be updated using object name for a particular object\n",
    "        self.mileage = 10\n",
    "        self.company = \"BMW\""
   ]
  },
  {
   "cell_type": "code",
   "execution_count": 29,
   "id": "5e835a48",
   "metadata": {},
   "outputs": [],
   "source": [
    "c1  = Car()\n",
    "c2 = Car()"
   ]
  },
  {
   "cell_type": "code",
   "execution_count": 30,
   "id": "418870a4",
   "metadata": {},
   "outputs": [
    {
     "data": {
      "text/plain": [
       "(4, 4, 4)"
      ]
     },
     "execution_count": 30,
     "metadata": {},
     "output_type": "execute_result"
    }
   ],
   "source": [
    "Car.wheels, c1.wheels,c2.wheels"
   ]
  },
  {
   "cell_type": "code",
   "execution_count": 31,
   "id": "62076c2c",
   "metadata": {},
   "outputs": [],
   "source": [
    "Car.wheels = 5"
   ]
  },
  {
   "cell_type": "code",
   "execution_count": 32,
   "id": "c1565e27",
   "metadata": {},
   "outputs": [
    {
     "data": {
      "text/plain": [
       "(5, 5, 5)"
      ]
     },
     "execution_count": 32,
     "metadata": {},
     "output_type": "execute_result"
    }
   ],
   "source": [
    "Car.wheels, c1.wheels,c2.wheels"
   ]
  },
  {
   "cell_type": "code",
   "execution_count": 39,
   "id": "33a00489",
   "metadata": {},
   "outputs": [],
   "source": [
    "c1.wheels = 6"
   ]
  },
  {
   "cell_type": "code",
   "execution_count": 40,
   "id": "deb3e080",
   "metadata": {},
   "outputs": [
    {
     "data": {
      "text/plain": [
       "(10, 6, 15)"
      ]
     },
     "execution_count": 40,
     "metadata": {},
     "output_type": "execute_result"
    }
   ],
   "source": [
    "Car.wheels, c1.wheels,c2.wheels"
   ]
  },
  {
   "cell_type": "code",
   "execution_count": 36,
   "id": "70860110",
   "metadata": {},
   "outputs": [],
   "source": [
    "c2.wheels = 15"
   ]
  },
  {
   "cell_type": "code",
   "execution_count": 37,
   "id": "466d31a8",
   "metadata": {},
   "outputs": [
    {
     "data": {
      "text/plain": [
       "(10, 6, 15)"
      ]
     },
     "execution_count": 37,
     "metadata": {},
     "output_type": "execute_result"
    }
   ],
   "source": [
    "Car.wheels, c1.wheels,c2.wheels"
   ]
  },
  {
   "cell_type": "code",
   "execution_count": 41,
   "id": "2c22474c",
   "metadata": {},
   "outputs": [
    {
     "data": {
      "text/plain": [
       "(10, 6, 15)"
      ]
     },
     "execution_count": 41,
     "metadata": {},
     "output_type": "execute_result"
    }
   ],
   "source": [
    "Car.wheels = 10\n",
    "\n",
    "\n",
    "# Since an object c1 has make it own copy it will not be affected. \n",
    "Car.wheels, c1.wheels,c2.wheels"
   ]
  },
  {
   "cell_type": "code",
   "execution_count": 42,
   "id": "8384dc7d",
   "metadata": {},
   "outputs": [],
   "source": [
    "class Student:\n",
    "    school = \"SSUET\"\n",
    "    def __init__(self, m1,m2,m3):\n",
    "        self.m1 = m1\n",
    "        self.m2 = m2\n",
    "        self.m3 = m3\n",
    "    def avg(self):\n",
    "        return (self.m1+self.m2+self.m3)/3\n",
    "    \n",
    "    def information(self):\n",
    "        return self.school\n",
    "    "
   ]
  },
  {
   "cell_type": "code",
   "execution_count": 43,
   "id": "8506fec1",
   "metadata": {},
   "outputs": [
    {
     "name": "stdout",
     "output_type": "stream",
     "text": [
      "92.33333333333333\n",
      "80.0\n",
      "SSUET\n",
      "SSUET\n"
     ]
    },
    {
     "ename": "TypeError",
     "evalue": "Student.information() missing 1 required positional argument: 'self'",
     "output_type": "error",
     "traceback": [
      "\u001b[1;31m---------------------------------------------------------------------------\u001b[0m",
      "\u001b[1;31mTypeError\u001b[0m                                 Traceback (most recent call last)",
      "Cell \u001b[1;32mIn[43], line 15\u001b[0m\n\u001b[0;32m     12\u001b[0m \u001b[38;5;28mprint\u001b[39m(Student\u001b[38;5;241m.\u001b[39minformation(s2))\n\u001b[0;32m     14\u001b[0m \u001b[38;5;66;03m# instance method called using class name oooooonlyyyyyyyyyyyyyyy>>>>>>>>error\u001b[39;00m\n\u001b[1;32m---> 15\u001b[0m \u001b[38;5;28mprint\u001b[39m(Student\u001b[38;5;241m.\u001b[39minformation())\n\u001b[0;32m     16\u001b[0m \u001b[38;5;28mprint\u001b[39m(Student\u001b[38;5;241m.\u001b[39minformation())\n",
      "\u001b[1;31mTypeError\u001b[0m: Student.information() missing 1 required positional argument: 'self'"
     ]
    }
   ],
   "source": [
    "s1 = Student(89,98,90)\n",
    "s2 = Student(80,90,70)\n",
    "\n",
    "# instance method called using instance  s1\n",
    "print(s1.avg())\n",
    "\n",
    "# instance method called using instance  s2\n",
    "print(s2.avg())\n",
    "\n",
    "# instance method called using class name but instance is passed a argument\n",
    "print(Student.information(s1))\n",
    "print(Student.information(s2))\n",
    "\n",
    "# instance method called using class name oooooonlyyyyyyyyyyyyyyy>>>>>>>>error\n",
    "print(Student.information())\n",
    "print(Student.information())"
   ]
  },
  {
   "cell_type": "code",
   "execution_count": 44,
   "id": "f4ee5ccc",
   "metadata": {},
   "outputs": [],
   "source": [
    "class Student:\n",
    "    \n",
    "    school = \"SSUET\"\n",
    "    \n",
    "    def __init__(self, m1,m2,m3):\n",
    "        self.m1 = m1\n",
    "        self.m2 = m2\n",
    "        self.m3 = m3\n",
    "    \n",
    "    def avg(self):\n",
    "        return (self.m1+self.m2+self.m3)/3\n",
    "    \n",
    "    @classmethod\n",
    "    def information(c):\n",
    "        return c.school"
   ]
  },
  {
   "cell_type": "code",
   "execution_count": 45,
   "id": "0fb57cca",
   "metadata": {},
   "outputs": [
    {
     "name": "stdout",
     "output_type": "stream",
     "text": [
      "92.33333333333333\n",
      "80.0\n",
      "SSUET\n",
      "SSUET\n",
      "SSUET\n",
      "SSUET\n"
     ]
    }
   ],
   "source": [
    "s1 = Student(89,98,90)\n",
    "s2 = Student(80,90,70)\n",
    "\n",
    "# instance method called using instance  s1\n",
    "print(s1.avg())\n",
    "\n",
    "# instance method called using instance  s2\n",
    "print(s2.avg())\n",
    "\n",
    "                                              ########\n",
    "#                 Class method CAN BE CAN BE CAN BE CAN BE CAN BE called using class as well as instance  \n",
    "                                                ######\n",
    "\n",
    "# class method is called using instance\n",
    "print(s1.information())\n",
    "print(s1.information())\n",
    "\n",
    "# class method is called using class name\n",
    "print(Student.information())\n",
    "print(Student.information())"
   ]
  },
  {
   "cell_type": "markdown",
   "id": "e23e3f75",
   "metadata": {},
   "source": [
    "# static methods"
   ]
  },
  {
   "cell_type": "code",
   "execution_count": 46,
   "id": "b33efc22",
   "metadata": {},
   "outputs": [],
   "source": [
    "class Student:\n",
    "    school = \"SSUET\"\n",
    "    def __init__(self, m1,m2,m3):\n",
    "        self.m1 = m1\n",
    "        self.m2 = m2\n",
    "        self.m3 = m3\n",
    "    def avg(self):\n",
    "        return (self.m1+self.m2+self.m3)/3\n",
    "    \n",
    "    @classmethod\n",
    "    def information(c):\n",
    "        return c.school\n",
    "    \n",
    "    @staticmethod\n",
    "    def hello():   # no self required\n",
    "        return \"Im a static method\""
   ]
  },
  {
   "cell_type": "code",
   "execution_count": 47,
   "id": "e4271c39",
   "metadata": {},
   "outputs": [],
   "source": [
    "s4 = Student (23,24,25)"
   ]
  },
  {
   "cell_type": "code",
   "execution_count": 48,
   "id": "05fee415",
   "metadata": {},
   "outputs": [
    {
     "data": {
      "text/plain": [
       "'Im a static method'"
      ]
     },
     "execution_count": 48,
     "metadata": {},
     "output_type": "execute_result"
    }
   ],
   "source": [
    "s4.hello()"
   ]
  },
  {
   "cell_type": "markdown",
   "id": "3f34b24e",
   "metadata": {},
   "source": [
    "# Function_copy"
   ]
  }
 ],
 "metadata": {
  "kernelspec": {
   "display_name": "Python 3 (ipykernel)",
   "language": "python",
   "name": "python3"
  },
  "language_info": {
   "codemirror_mode": {
    "name": "ipython",
    "version": 3
   },
   "file_extension": ".py",
   "mimetype": "text/x-python",
   "name": "python",
   "nbconvert_exporter": "python",
   "pygments_lexer": "ipython3",
   "version": "3.11.3"
  }
 },
 "nbformat": 4,
 "nbformat_minor": 5
}
