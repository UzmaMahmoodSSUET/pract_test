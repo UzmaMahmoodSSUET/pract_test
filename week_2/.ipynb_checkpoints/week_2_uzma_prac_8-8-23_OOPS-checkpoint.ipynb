{
 "cells": [
  {
   "cell_type": "code",
   "execution_count": 22,
   "id": "62b9427a",
   "metadata": {},
   "outputs": [],
   "source": [
    "class Laptop():\n",
    "#     attributes/charachteristics/properties\n",
    "    color = \"Blue\"\n",
    "    ram = \"20Gb\"\n",
    "    storage = \"1Tb\"\n",
    "    make = \"Lenovo\"\n",
    "    model = \"ideapad330s\"\n",
    "    processor = \"corei5\"\n",
    "    generation = \"8th\"\n",
    "    \n",
    "#     behaviour/functionalities/methods\n",
    "\n",
    "    def switch_on(self):\n",
    "        print (\"Laptop is switched on\")\n",
    "    \n",
    "    def shutdown(self):\n",
    "        print (\"Laptop is shutting down\")\n",
    "        \n",
    "    def runapp(self):\n",
    "        print (\"MS word is runing on my laptop\")\n",
    "        "
   ]
  },
  {
   "cell_type": "code",
   "execution_count": 19,
   "id": "e6ad847a",
   "metadata": {},
   "outputs": [],
   "source": [
    "nabeel_laptop = Laptop()"
   ]
  },
  {
   "cell_type": "code",
   "execution_count": 5,
   "id": "a1c37b7b",
   "metadata": {},
   "outputs": [
    {
     "data": {
      "text/plain": [
       "'20Gb'"
      ]
     },
     "execution_count": 5,
     "metadata": {},
     "output_type": "execute_result"
    }
   ],
   "source": [
    "nabeel_laptop.ram"
   ]
  },
  {
   "cell_type": "code",
   "execution_count": 6,
   "id": "978a50a4",
   "metadata": {},
   "outputs": [
    {
     "data": {
      "text/plain": [
       "'Lenovo'"
      ]
     },
     "execution_count": 6,
     "metadata": {},
     "output_type": "execute_result"
    }
   ],
   "source": [
    "nabeel_laptop.make"
   ]
  },
  {
   "cell_type": "code",
   "execution_count": 7,
   "id": "72870036",
   "metadata": {},
   "outputs": [],
   "source": [
    "rafy_laptop = Laptop()"
   ]
  },
  {
   "cell_type": "code",
   "execution_count": 8,
   "id": "ea43bd56",
   "metadata": {},
   "outputs": [
    {
     "data": {
      "text/plain": [
       "'Blue'"
      ]
     },
     "execution_count": 8,
     "metadata": {},
     "output_type": "execute_result"
    }
   ],
   "source": [
    "rafy_laptop.color"
   ]
  },
  {
   "cell_type": "code",
   "execution_count": 15,
   "id": "846263d0",
   "metadata": {},
   "outputs": [
    {
     "ename": "TypeError",
     "evalue": "Laptop.shutdown() takes 0 positional arguments but 1 was given",
     "output_type": "error",
     "traceback": [
      "\u001b[1;31m---------------------------------------------------------------------------\u001b[0m",
      "\u001b[1;31mTypeError\u001b[0m                                 Traceback (most recent call last)",
      "Cell \u001b[1;32mIn[15], line 1\u001b[0m\n\u001b[1;32m----> 1\u001b[0m nabeel_laptop\u001b[38;5;241m.\u001b[39mshutdown()\n",
      "\u001b[1;31mTypeError\u001b[0m: Laptop.shutdown() takes 0 positional arguments but 1 was given"
     ]
    }
   ],
   "source": [
    "nabeel_laptop.shutdown()"
   ]
  },
  {
   "cell_type": "code",
   "execution_count": 23,
   "id": "95c3b71d",
   "metadata": {},
   "outputs": [],
   "source": [
    "waqas_laptop=Laptop()"
   ]
  },
  {
   "cell_type": "code",
   "execution_count": 24,
   "id": "d5fb2654",
   "metadata": {
    "scrolled": true
   },
   "outputs": [
    {
     "name": "stdout",
     "output_type": "stream",
     "text": [
      "MS word is runing on my laptop\n"
     ]
    }
   ],
   "source": [
    "waqas_laptop.runapp()"
   ]
  },
  {
   "cell_type": "code",
   "execution_count": 1,
   "id": "93c283d8",
   "metadata": {},
   "outputs": [],
   "source": [
    "class Laptop():\n",
    "#     constructor/initalizer\n",
    "    def __init__(self, color, ram, storage, model, generation, processor, make):\n",
    "        self.color = color\n",
    "        self.ram= ram\n",
    "        self.storage= storage\n",
    "        self. model = model\n",
    "        self.generation = generation\n",
    "        self.processor = processor\n",
    "        self.make = make\n",
    "        \n",
    "    def specification(self):\n",
    "        print(f'''\n",
    "                    Color: {self.color}\n",
    "                    Ram: {self.ram}\n",
    "                    Storage: {self.storage}\n",
    "                    Model: {self.model}\n",
    "                    Generation:{self.generation}\n",
    "                    make: {self.make}\n",
    "                    Processor: {self.processor}\n",
    "                            \n",
    "        ''')\n",
    "        "
   ]
  },
  {
   "cell_type": "code",
   "execution_count": 4,
   "id": "94e41026",
   "metadata": {},
   "outputs": [
    {
     "ename": "TypeError",
     "evalue": "Laptop.__init__() missing 7 required positional arguments: 'color', 'ram', 'storage', 'model', 'generation', 'processor', and 'make'",
     "output_type": "error",
     "traceback": [
      "\u001b[1;31m---------------------------------------------------------------------------\u001b[0m",
      "\u001b[1;31mTypeError\u001b[0m                                 Traceback (most recent call last)",
      "Cell \u001b[1;32mIn[4], line 1\u001b[0m\n\u001b[1;32m----> 1\u001b[0m lpt \u001b[38;5;241m=\u001b[39m Laptop()\n",
      "\u001b[1;31mTypeError\u001b[0m: Laptop.__init__() missing 7 required positional arguments: 'color', 'ram', 'storage', 'model', 'generation', 'processor', and 'make'"
     ]
    }
   ],
   "source": [
    "lpt = Laptop()"
   ]
  },
  {
   "cell_type": "code",
   "execution_count": 5,
   "id": "d38901a8",
   "metadata": {},
   "outputs": [],
   "source": [
    "lpt1= Laptop(\"golden\", \"16Gb\", \"2Tb\",\"az340\",\"11th\",\"HP\", \"cori7\" )"
   ]
  },
  {
   "cell_type": "code",
   "execution_count": 6,
   "id": "6883bbc7",
   "metadata": {},
   "outputs": [
    {
     "name": "stdout",
     "output_type": "stream",
     "text": [
      "\n",
      "                    Color: golden\n",
      "                    Ram: 16Gb\n",
      "                    Storage: 2Tb\n",
      "                    Model: az340\n",
      "                    Generation:11th\n",
      "                    make: cori7\n",
      "                    Processor: HP\n",
      "                            \n",
      "        \n"
     ]
    }
   ],
   "source": [
    "lpt1.specification()"
   ]
  },
  {
   "cell_type": "code",
   "execution_count": 17,
   "id": "d2edb013",
   "metadata": {},
   "outputs": [
    {
     "data": {
      "text/plain": [
       "'golden'"
      ]
     },
     "execution_count": 17,
     "metadata": {},
     "output_type": "execute_result"
    }
   ],
   "source": [
    "lpt1.color"
   ]
  },
  {
   "cell_type": "code",
   "execution_count": 10,
   "id": "1c266dd6",
   "metadata": {},
   "outputs": [
    {
     "data": {
      "text/plain": [
       "'cori7'"
      ]
     },
     "execution_count": 10,
     "metadata": {},
     "output_type": "execute_result"
    }
   ],
   "source": [
    "lpt1.make\n"
   ]
  },
  {
   "cell_type": "code",
   "execution_count": 11,
   "id": "b83ddf91",
   "metadata": {},
   "outputs": [
    {
     "data": {
      "text/plain": [
       "'2Tb'"
      ]
     },
     "execution_count": 11,
     "metadata": {},
     "output_type": "execute_result"
    }
   ],
   "source": [
    "lpt1.storage"
   ]
  },
  {
   "cell_type": "code",
   "execution_count": 12,
   "id": "802d5df5",
   "metadata": {},
   "outputs": [
    {
     "data": {
      "text/plain": [
       "'11th'"
      ]
     },
     "execution_count": 12,
     "metadata": {},
     "output_type": "execute_result"
    }
   ],
   "source": [
    "lpt1.generation"
   ]
  },
  {
   "cell_type": "code",
   "execution_count": 13,
   "id": "b2cd6da2",
   "metadata": {},
   "outputs": [
    {
     "data": {
      "text/plain": [
       "'HP'"
      ]
     },
     "execution_count": 13,
     "metadata": {},
     "output_type": "execute_result"
    }
   ],
   "source": [
    "lpt1.processor"
   ]
  },
  {
   "cell_type": "code",
   "execution_count": 14,
   "id": "076138c7",
   "metadata": {},
   "outputs": [
    {
     "data": {
      "text/plain": [
       "'16Gb'"
      ]
     },
     "execution_count": 14,
     "metadata": {},
     "output_type": "execute_result"
    }
   ],
   "source": [
    "lpt1.ram"
   ]
  },
  {
   "cell_type": "code",
   "execution_count": 15,
   "id": "c662cab8",
   "metadata": {},
   "outputs": [],
   "source": [
    "lpt2= Laptop(\"black\", \"16Gb\", \"4Tb\",\"az340\",\"11th\",\"HP\", \"cori7\" )"
   ]
  },
  {
   "cell_type": "code",
   "execution_count": 18,
   "id": "db9c1293",
   "metadata": {},
   "outputs": [
    {
     "data": {
      "text/plain": [
       "'golden'"
      ]
     },
     "execution_count": 18,
     "metadata": {},
     "output_type": "execute_result"
    }
   ],
   "source": [
    "lpt1.color"
   ]
  },
  {
   "cell_type": "code",
   "execution_count": 19,
   "id": "d562ecb2",
   "metadata": {},
   "outputs": [
    {
     "data": {
      "text/plain": [
       "'black'"
      ]
     },
     "execution_count": 19,
     "metadata": {},
     "output_type": "execute_result"
    }
   ],
   "source": [
    "lpt2.color"
   ]
  },
  {
   "cell_type": "code",
   "execution_count": 20,
   "id": "74da20af",
   "metadata": {},
   "outputs": [
    {
     "name": "stdout",
     "output_type": "stream",
     "text": [
      "\n",
      "                    Color: golden\n",
      "                    Ram: 16Gb\n",
      "                    Storage: 2Tb\n",
      "                    Model: az340\n",
      "                    Generation:11th\n",
      "                    make: cori7\n",
      "                    Processor: HP\n",
      "                            \n",
      "        \n"
     ]
    }
   ],
   "source": [
    "Laptop.specification(lpt1)"
   ]
  },
  {
   "cell_type": "code",
   "execution_count": 21,
   "id": "4e59025a",
   "metadata": {},
   "outputs": [
    {
     "name": "stdout",
     "output_type": "stream",
     "text": [
      "\n",
      "                    Color: black\n",
      "                    Ram: 16Gb\n",
      "                    Storage: 4Tb\n",
      "                    Model: az340\n",
      "                    Generation:11th\n",
      "                    make: cori7\n",
      "                    Processor: HP\n",
      "                            \n",
      "        \n"
     ]
    }
   ],
   "source": [
    "Laptop.specification(lpt2)"
   ]
  },
  {
   "cell_type": "code",
   "execution_count": 22,
   "id": "bad50efb",
   "metadata": {},
   "outputs": [
    {
     "name": "stdout",
     "output_type": "stream",
     "text": [
      "\n",
      "                    Color: golden\n",
      "                    Ram: 16Gb\n",
      "                    Storage: 2Tb\n",
      "                    Model: az340\n",
      "                    Generation:11th\n",
      "                    make: cori7\n",
      "                    Processor: HP\n",
      "                            \n",
      "        \n"
     ]
    }
   ],
   "source": [
    "lpt1.specification()"
   ]
  },
  {
   "cell_type": "code",
   "execution_count": 26,
   "id": "904827dd",
   "metadata": {},
   "outputs": [
    {
     "name": "stdout",
     "output_type": "stream",
     "text": [
      "Blu is 10 years old\n",
      "Woo is 15 years old\n"
     ]
    }
   ],
   "source": [
    "class Parrot:\n",
    "\n",
    "    # class attribute\n",
    "    name = \"\"\n",
    "    age = 0\n",
    "\n",
    "# create parrot1 object\n",
    "parrot1 = Parrot()\n",
    "parrot1.name = \"Blu\"\n",
    "parrot1.age = 10\n",
    "\n",
    "# create another object parrot2\n",
    "parrot2 = Parrot()\n",
    "parrot2.name = \"Woo\"\n",
    "parrot2.age = 15\n",
    "\n",
    "# access attributes\n",
    "print(f\"{parrot1.name} is {parrot1.age} years old\")\n",
    "print(f\"{parrot2.name} is {parrot2.age} years old\") "
   ]
  },
  {
   "cell_type": "code",
   "execution_count": null,
   "id": "b7bcba6f",
   "metadata": {},
   "outputs": [],
   "source": []
  },
  {
   "cell_type": "code",
   "execution_count": 28,
   "id": "df4745cb",
   "metadata": {},
   "outputs": [],
   "source": [
    "class Student():\n",
    "    \n",
    "    Name= \" \"\n",
    "    Roll_num =\"\"\n",
    "    Semester = \"\"\n",
    "    year = \"\"\n",
    "    \n",
    "    "
   ]
  },
  {
   "cell_type": "code",
   "execution_count": 29,
   "id": "3a631acf",
   "metadata": {},
   "outputs": [],
   "source": [
    "student1= Student()"
   ]
  },
  {
   "cell_type": "code",
   "execution_count": 30,
   "id": "b2f6558c",
   "metadata": {},
   "outputs": [
    {
     "name": "stdout",
     "output_type": "stream",
     "text": [
      "Enter your name  !yusra\n"
     ]
    }
   ],
   "source": [
    "student1=(input(\"Enter your name  !\"))"
   ]
  },
  {
   "cell_type": "code",
   "execution_count": 16,
   "id": "02bcdb39",
   "metadata": {},
   "outputs": [],
   "source": [
    "class Student():\n",
    "#     attributes/charachteristics/properties\n",
    "    Name = \"Fatima\"\n",
    "    roll_num = \"BI_28_2018\"\n",
    "    section = \"B\"\n",
    "    semester = \"6th\"\n",
    "    year = \"2018\"\n",
    "    department = \"computer science\"\n",
    "    \n",
    "    \n",
    "#     behaviour/functionalities/methods\n",
    "\n",
    "    def attendance(self):\n",
    "        print (\"Attendance mark daily on 9:30am \")\n",
    "    \n",
    "    def timetable(self):\n",
    "        print (\"follow the time table according to the days \")\n",
    "        \n",
    "    def labs(self):\n",
    "        print (\"as per subjection credit hours enrolled i n lab\")"
   ]
  },
  {
   "cell_type": "code",
   "execution_count": 30,
   "id": "c0d4fcf9",
   "metadata": {},
   "outputs": [
    {
     "ename": "TypeError",
     "evalue": "Student.__init__() missing 5 required positional arguments: 'roll_num', 'section', 'semeter', 'year', and 'department'",
     "output_type": "error",
     "traceback": [
      "\u001b[1;31m---------------------------------------------------------------------------\u001b[0m",
      "\u001b[1;31mTypeError\u001b[0m                                 Traceback (most recent call last)",
      "Cell \u001b[1;32mIn[30], line 1\u001b[0m\n\u001b[1;32m----> 1\u001b[0m student1\u001b[38;5;241m=\u001b[39m Student()\n",
      "\u001b[1;31mTypeError\u001b[0m: Student.__init__() missing 5 required positional arguments: 'roll_num', 'section', 'semeter', 'year', and 'department'"
     ]
    }
   ],
   "source": [
    "student1= Student()"
   ]
  },
  {
   "cell_type": "code",
   "execution_count": 85,
   "id": "33493e29",
   "metadata": {},
   "outputs": [],
   "source": [
    "class Student():\n",
    "#     constructor/initalizer\n",
    "    def __init__(self, name, roll_num, section, semeter, year, department, email):\n",
    "        self.name = name\n",
    "        self.roll_num= roll_num\n",
    "        self.section= section\n",
    "        self.semeter =semeter\n",
    "        self.year = year\n",
    "        self.department = department\n",
    "        self.email = email\n",
    "        \n",
    "        \n",
    "    def specification(self):\n",
    "        print(f'''\n",
    "                    _____________________\n",
    "                    STUDENT PROFILE******\n",
    "                    ______________________\n",
    "                    \n",
    "                    Name: {self.name}\n",
    "                    Roll_num: {self.roll_num}\n",
    "                    Section: {self.section}\n",
    "                    Semester: {self.semeter}\n",
    "                    Year:{self.year}\n",
    "                    Department: {self.department}\n",
    "                    Email: {self.email}\n",
    "                    \n",
    "        ''')\n",
    "        \n",
    "    def exam_criteria(self):\n",
    "        attendance= float(input(\"enter the student attendance\"))\n",
    "        subject = int(input(\"enter the student subject of SOA\"))\n",
    "        if attendance > 75:\n",
    "            fine = 0\n",
    "            print(\"you will appear in final exam\")\n",
    "        elif attendance > 70:\n",
    "            fine = subject*2000 \n",
    "            print(\"you will appear in final exam after pay the fine\")\n",
    "        elif attendance > 65:\n",
    "            fine = subject*3000\n",
    "            print(\"you will appear in final exam after pay the fine\")\n",
    "        elif attendance == 60:\n",
    "            fine = subject*4000\n",
    "            print(\"you will appear in final exam after pay the fine but appear in only 2 subjects\")\n",
    "        else:\n",
    "            print(\"short of attendance\")"
   ]
  },
  {
   "cell_type": "code",
   "execution_count": 86,
   "id": "74e03fd4",
   "metadata": {},
   "outputs": [],
   "source": [
    "student1= Student(\"fatima\", \"BI_27_2018\", \"B\", \"4th\", \"2018\", \"Bioinformatics\", \"fatima@gmail.com\")"
   ]
  },
  {
   "cell_type": "code",
   "execution_count": 87,
   "id": "30d6be0c",
   "metadata": {},
   "outputs": [],
   "source": [
    "student1= Student(\"fatima\", \"BI_27_2018\", \"B\", \"4th\", \"2018\", \"Bioinformatics\",\"fatima@gmail.com\")"
   ]
  },
  {
   "cell_type": "code",
   "execution_count": 88,
   "id": "fa709554",
   "metadata": {},
   "outputs": [
    {
     "name": "stdout",
     "output_type": "stream",
     "text": [
      "\n",
      "                    _____________________\n",
      "                    STUDENT PROFILE******\n",
      "                    ______________________\n",
      "                    \n",
      "                    Name: fatima\n",
      "                    Roll_num: BI_27_2018\n",
      "                    Section: B\n",
      "                    Semester: 4th\n",
      "                    Year:2018\n",
      "                    Department: Bioinformatics\n",
      "                    Email: fatima@gmail.com\n",
      "                    \n",
      "        \n"
     ]
    }
   ],
   "source": [
    "student1.specification()"
   ]
  },
  {
   "cell_type": "code",
   "execution_count": 91,
   "id": "661d929d",
   "metadata": {},
   "outputs": [
    {
     "name": "stdout",
     "output_type": "stream",
     "text": [
      "enter the student attendance65\n",
      "enter the student subject of SOA4\n",
      "short of attendance\n"
     ]
    }
   ],
   "source": [
    "student1.exam_criteria()"
   ]
  },
  {
   "cell_type": "code",
   "execution_count": null,
   "id": "a3bf6b40",
   "metadata": {},
   "outputs": [],
   "source": [
    "# Exam_criteria():\n"
   ]
  },
  {
   "cell_type": "markdown",
   "id": "18e4332d",
   "metadata": {},
   "source": [
    "# Pillor of oop\n",
    "#-encapulation\n",
    "#-inheritance\n",
    "#-abstraction\n",
    "#-polymorphism"
   ]
  },
  {
   "cell_type": "markdown",
   "id": "a414ca4a",
   "metadata": {},
   "source": [
    "# -encapulation\n",
    "\n",
    "store method and variable in single capule\n"
   ]
  },
  {
   "cell_type": "code",
   "execution_count": 62,
   "id": "a1eee609",
   "metadata": {},
   "outputs": [
    {
     "ename": "NameError",
     "evalue": "name 'abc' is not defined",
     "output_type": "error",
     "traceback": [
      "\u001b[1;31m---------------------------------------------------------------------------\u001b[0m",
      "\u001b[1;31mNameError\u001b[0m                                 Traceback (most recent call last)",
      "Cell \u001b[1;32mIn[62], line 1\u001b[0m\n\u001b[1;32m----> 1\u001b[0m \u001b[38;5;28;01mclass\u001b[39;00m \u001b[38;5;21;01mmy_Laptop\u001b[39;00m(abc):\n\u001b[0;32m      2\u001b[0m \u001b[38;5;66;03m#     constructor/initalizer\u001b[39;00m\n\u001b[0;32m      3\u001b[0m     \u001b[38;5;28;01mdef\u001b[39;00m \u001b[38;5;21m__init__\u001b[39m(\u001b[38;5;28mself\u001b[39m, color, ram, storage, model, generation, processor, make):\n\u001b[0;32m      4\u001b[0m         \u001b[38;5;28mself\u001b[39m\u001b[38;5;241m.\u001b[39mcolor \u001b[38;5;241m=\u001b[39m color\n",
      "\u001b[1;31mNameError\u001b[0m: name 'abc' is not defined"
     ]
    }
   ],
   "source": [
    "class my_Laptop():\n",
    "#     constructor/initalizer\n",
    "    def __init__(self, color, ram, storage, model, generation, processor, make):\n",
    "        self.color = color\n",
    "        self.ram= ram\n",
    "        self.storage= storage\n",
    "        self. model = model\n",
    "        self.generation = generation\n",
    "        self.processor = processor\n",
    "        self.make = make\n",
    "        \n",
    "    def specification(self):\n",
    "        print(f'''\n",
    "                    Color: {self.color}\n",
    "                    Ram: {self.ram}\n",
    "                    Storage: {self.storage}\n",
    "                    Model: {self.model}\n",
    "                    Generation:{self.generation}\n",
    "                    make: {self.make}\n",
    "                    Processor: {self.processor}\n",
    "                            \n",
    "        ''')\n",
    "    def get_color(self):\n",
    "        print (f\"the color of laptop is {self.color}\")\n",
    "\n",
    "    def set_color (self, newcolor):\n",
    "        colors=['black', \"blue\",\"white\", \"silver\"]\n",
    "        if newcolor in colors:\n",
    "            self.color = newcolor\n",
    "        else:\n",
    "            print(\"color not available\")\n",
    "                "
   ]
  },
  {
   "cell_type": "code",
   "execution_count": 37,
   "id": "7e588f7a",
   "metadata": {},
   "outputs": [],
   "source": [
    "lpt1= Laptop(\"golden\", \"16Gb\", \"2Tb\",\"az340\",\"11th\",\"HP\", \"cori7\" )"
   ]
  },
  {
   "cell_type": "code",
   "execution_count": 38,
   "id": "26354288",
   "metadata": {},
   "outputs": [
    {
     "name": "stdout",
     "output_type": "stream",
     "text": [
      "\n",
      "                    Color: golden\n",
      "                    Ram: 16Gb\n",
      "                    Storage: 2Tb\n",
      "                    Model: az340\n",
      "                    Generation:11th\n",
      "                    make: cori7\n",
      "                    Processor: HP\n",
      "                            \n",
      "        \n"
     ]
    }
   ],
   "source": [
    "lpt1.specification()"
   ]
  },
  {
   "cell_type": "code",
   "execution_count": 44,
   "id": "74f0d68b",
   "metadata": {},
   "outputs": [
    {
     "name": "stdout",
     "output_type": "stream",
     "text": [
      "the color of laptop is golden\n"
     ]
    }
   ],
   "source": [
    "lpt1.get_color()"
   ]
  },
  {
   "cell_type": "code",
   "execution_count": 45,
   "id": "68d599eb",
   "metadata": {},
   "outputs": [
    {
     "name": "stdout",
     "output_type": "stream",
     "text": [
      "the color of laptop is golden\n"
     ]
    }
   ],
   "source": [
    "lpt1.get_color()"
   ]
  },
  {
   "cell_type": "code",
   "execution_count": 47,
   "id": "8973e43c",
   "metadata": {},
   "outputs": [],
   "source": [
    "lpt1.set_color(\"black\")"
   ]
  },
  {
   "cell_type": "code",
   "execution_count": 48,
   "id": "15e24f8e",
   "metadata": {},
   "outputs": [
    {
     "name": "stdout",
     "output_type": "stream",
     "text": [
      "the color of laptop is black\n"
     ]
    }
   ],
   "source": [
    "lpt1.get_color()"
   ]
  },
  {
   "cell_type": "code",
   "execution_count": 49,
   "id": "a0796dce",
   "metadata": {},
   "outputs": [
    {
     "name": "stdout",
     "output_type": "stream",
     "text": [
      "color not available\n"
     ]
    }
   ],
   "source": [
    "lpt1.set_color(\"orange\")"
   ]
  },
  {
   "cell_type": "code",
   "execution_count": 50,
   "id": "6dc9f6de",
   "metadata": {},
   "outputs": [
    {
     "name": "stdout",
     "output_type": "stream",
     "text": [
      "the color of laptop is black\n"
     ]
    }
   ],
   "source": [
    "lpt1.get_color()"
   ]
  },
  {
   "cell_type": "code",
   "execution_count": 57,
   "id": "577bdb36",
   "metadata": {},
   "outputs": [
    {
     "ename": "ModuleNotFoundError",
     "evalue": "No module named 'laptop'",
     "output_type": "error",
     "traceback": [
      "\u001b[1;31m---------------------------------------------------------------------------\u001b[0m",
      "\u001b[1;31mModuleNotFoundError\u001b[0m                       Traceback (most recent call last)",
      "Cell \u001b[1;32mIn[57], line 1\u001b[0m\n\u001b[1;32m----> 1\u001b[0m \u001b[38;5;28;01mfrom\u001b[39;00m \u001b[38;5;21;01mlaptop\u001b[39;00m \u001b[38;5;28;01mimport\u001b[39;00m abc\n",
      "\u001b[1;31mModuleNotFoundError\u001b[0m: No module named 'laptop'"
     ]
    }
   ],
   "source": [
    "from laptop import abc"
   ]
  },
  {
   "cell_type": "code",
   "execution_count": 58,
   "id": "c685269a",
   "metadata": {},
   "outputs": [
    {
     "ename": "NameError",
     "evalue": "name 'abc' is not defined",
     "output_type": "error",
     "traceback": [
      "\u001b[1;31m---------------------------------------------------------------------------\u001b[0m",
      "\u001b[1;31mNameError\u001b[0m                                 Traceback (most recent call last)",
      "Cell \u001b[1;32mIn[58], line 1\u001b[0m\n\u001b[1;32m----> 1\u001b[0m abc()\n",
      "\u001b[1;31mNameError\u001b[0m: name 'abc' is not defined"
     ]
    }
   ],
   "source": [
    "abc()"
   ]
  },
  {
   "cell_type": "code",
   "execution_count": 73,
   "id": "d0b7e55a",
   "metadata": {},
   "outputs": [],
   "source": [
    "from laptop import my_Laptop"
   ]
  },
  {
   "cell_type": "code",
   "execution_count": 74,
   "id": "a4126984",
   "metadata": {},
   "outputs": [],
   "source": [
    "laptop1= my_Laptop(\"golden\", \"16Gb\", \"2Tb\",\"az340\",\"11th\",\"HP\", \"cori7\" )"
   ]
  },
  {
   "cell_type": "code",
   "execution_count": 76,
   "id": "390db3f4",
   "metadata": {},
   "outputs": [
    {
     "name": "stdout",
     "output_type": "stream",
     "text": [
      "color not available\n"
     ]
    }
   ],
   "source": [
    "laptop1.set_color('Red')"
   ]
  },
  {
   "cell_type": "markdown",
   "id": "77d9fc9e",
   "metadata": {},
   "source": [
    "# inheritance"
   ]
  },
  {
   "cell_type": "code",
   "execution_count": 37,
   "id": "b30444cb",
   "metadata": {},
   "outputs": [],
   "source": [
    "class car():\n",
    "    def __init__(self, model, make, capacity):\n",
    "        self.model=model\n",
    "        self.make=make\n",
    "        self.capacity=capacity\n",
    "        self.odometer_reading =0\n",
    "    def get_mileage(self):\n",
    "        print(f\"{self.make} car has travelled {self.odometer_reading} km\")\n",
    "    def set_mileage(self, newreading):\n",
    "        if newreading > self.odometer_reading:\n",
    "            self.odometer_reading = newreading\n",
    "        else:\n",
    "            print (\"car meter is not be reserved\")\n",
    "    def describe_car(self):\n",
    "        print(self.make, self.model, self.capacity, self.odometer_reading)\n",
    "        \n",
    "        "
   ]
  },
  {
   "cell_type": "code",
   "execution_count": 5,
   "id": "9f224b03",
   "metadata": {},
   "outputs": [],
   "source": [
    "car1=car(\"2023\", \"toyota\", \"8_person\")"
   ]
  },
  {
   "cell_type": "markdown",
   "id": "af3dfd07",
   "metadata": {},
   "source": [
    "car1=car(\"2023\", \"toyota\", \"8_person\")"
   ]
  },
  {
   "cell_type": "code",
   "execution_count": 5,
   "id": "b536cfde",
   "metadata": {},
   "outputs": [],
   "source": [
    "car1=car(\"2023\", \"toyota\", \"8_person\")\n"
   ]
  },
  {
   "cell_type": "markdown",
   "id": "b9706f02",
   "metadata": {},
   "source": [
    "# "
   ]
  },
  {
   "cell_type": "markdown",
   "id": "5b079628",
   "metadata": {},
   "source": [
    "car1.get_mileage()"
   ]
  },
  {
   "cell_type": "code",
   "execution_count": 3,
   "id": "8d74d917",
   "metadata": {},
   "outputs": [],
   "source": [
    "car1=car(\"2023\", \"toyota\", \"8_person\")"
   ]
  },
  {
   "cell_type": "code",
   "execution_count": 6,
   "id": "b1744d24",
   "metadata": {},
   "outputs": [
    {
     "name": "stdout",
     "output_type": "stream",
     "text": [
      "toyota car has travelled 0 km\n"
     ]
    }
   ],
   "source": [
    "car1.get_mileage()"
   ]
  },
  {
   "cell_type": "code",
   "execution_count": 28,
   "id": "6aac75d0",
   "metadata": {},
   "outputs": [],
   "source": [
    "class elecric_car():\n",
    "    def __init__(self, model, make, capacity):\n",
    "        self.model=model\n",
    "        self.make=make\n",
    "        self.capacity=capacity\n",
    "        self.odometer_reading =0\n",
    "    def fuel_tank(self):\n",
    "            print(f\"{self.make} car is being filled with fuel\")\n",
    "    \n",
    "    def get_mileage(self):\n",
    "        print(f\"{self.make} car has travelled {self.odometer_reading} km\")\n",
    "    def set_mileage(self, newreading):\n",
    "        if newreading > self.odometer_reading:\n",
    "            self.odometer_reading = newreading\n",
    "        else:\n",
    "            print (\"car meter is not be reserved\")\n",
    "    def describe_car(self):\n",
    "        print(self.make, self.model, self.capacity, self.odometer_reading)\n",
    "    "
   ]
  },
  {
   "cell_type": "code",
   "execution_count": 40,
   "id": "65078dce",
   "metadata": {},
   "outputs": [],
   "source": [
    "class Electriccar(car):\n",
    "    def fuel_tank(self):\n",
    "        print(\"electric car has no fuel tank\")\n",
    "    "
   ]
  },
  {
   "cell_type": "markdown",
   "id": "566b239b",
   "metadata": {},
   "source": []
  },
  {
   "cell_type": "code",
   "execution_count": 41,
   "id": "58882edd",
   "metadata": {},
   "outputs": [],
   "source": [
    "ec1= Electriccar (\"2009\", \"honda\", 4)"
   ]
  },
  {
   "cell_type": "code",
   "execution_count": 42,
   "id": "96ef6904",
   "metadata": {},
   "outputs": [
    {
     "name": "stdout",
     "output_type": "stream",
     "text": [
      "honda 2009 4 0\n"
     ]
    }
   ],
   "source": [
    "ec1.describe_car()"
   ]
  },
  {
   "cell_type": "code",
   "execution_count": 43,
   "id": "62b420d8",
   "metadata": {},
   "outputs": [
    {
     "name": "stdout",
     "output_type": "stream",
     "text": [
      "honda car has travelled 0 km\n"
     ]
    }
   ],
   "source": [
    "ec1.get_mileage()"
   ]
  },
  {
   "cell_type": "code",
   "execution_count": 44,
   "id": "db411cf8",
   "metadata": {},
   "outputs": [],
   "source": [
    "ec1.set_mileage(100)"
   ]
  },
  {
   "cell_type": "code",
   "execution_count": 45,
   "id": "6ef00061",
   "metadata": {},
   "outputs": [
    {
     "name": "stdout",
     "output_type": "stream",
     "text": [
      "honda car has travelled 100 km\n"
     ]
    }
   ],
   "source": [
    "ec1.get_mileage() "
   ]
  },
  {
   "cell_type": "code",
   "execution_count": 47,
   "id": "8c37052c",
   "metadata": {},
   "outputs": [
    {
     "name": "stdout",
     "output_type": "stream",
     "text": [
      "electric car has no fuel tank\n"
     ]
    }
   ],
   "source": [
    "ec1.fuel_tank()"
   ]
  },
  {
   "cell_type": "code",
   "execution_count": 48,
   "id": "5467c801",
   "metadata": {},
   "outputs": [
    {
     "name": "stdout",
     "output_type": "stream",
     "text": [
      "I can eat!\n",
      "I can sleep!\n",
      "I can bark! Woof woof!!\n"
     ]
    }
   ],
   "source": [
    "# base class\n",
    "class Animal:\n",
    "    \n",
    "    def eat(self):\n",
    "        print( \"I can eat!\")\n",
    "    \n",
    "    def sleep(self):\n",
    "        print(\"I can sleep!\")\n",
    "\n",
    "# derived class\n",
    "class Dog(Animal):\n",
    "    \n",
    "    def bark(self):\n",
    "        print(\"I can bark! Woof woof!!\")\n",
    "\n",
    "# Create object of the Dog class\n",
    "dog1 = Dog()\n",
    "\n",
    "# Calling members of the base class\n",
    "dog1.eat()\n",
    "dog1.sleep()\n",
    "\n",
    "# Calling member of the derived class\n",
    "dog1.bark();"
   ]
  },
  {
   "cell_type": "code",
   "execution_count": 49,
   "id": "b3bb6bfc",
   "metadata": {},
   "outputs": [],
   "source": [
    "class animal():\n",
    "    def __init__(self, eat, sleep, voice, jump):\n",
    "        self.eat=eat\n",
    "        self.sleep=sleep\n",
    "        self.voice=voice\n",
    "        self.jump=jump\n",
    "        self.jump= 0\n",
    "        \n",
    "    def get_jump(self):\n",
    "        print(f\"{self.eat} banana {self.sleep} hours\")\n",
    "    def set_food(self, newjumpreading ):\n",
    "        if newjumpreading > self.jump_reading:\n",
    "            self.jump_reading = newjumpreading\n",
    "        else:\n",
    "            print (\"animal can jump on height without food\")\n",
    "    def describe_animal(self):\n",
    "        print(self.eat, self.sleep, self.voice, self.jump_reading)\n",
    "        "
   ]
  },
  {
   "cell_type": "code",
   "execution_count": 50,
   "id": "d268803b",
   "metadata": {},
   "outputs": [],
   "source": [
    "animal1=animal(\"banana\", \"2 hours\", \"harsh\", \"3 meter\")"
   ]
  },
  {
   "cell_type": "code",
   "execution_count": 51,
   "id": "e9158e6f",
   "metadata": {},
   "outputs": [
    {
     "name": "stdout",
     "output_type": "stream",
     "text": [
      "banana banana 2 hours hours\n"
     ]
    }
   ],
   "source": [
    "animal1.get_jump()"
   ]
  },
  {
   "cell_type": "code",
   "execution_count": 54,
   "id": "4b90253a",
   "metadata": {},
   "outputs": [
    {
     "ename": "AttributeError",
     "evalue": "type object 'animal' has no attribute 'set_jump'",
     "output_type": "error",
     "traceback": [
      "\u001b[1;31m---------------------------------------------------------------------------\u001b[0m",
      "\u001b[1;31mAttributeError\u001b[0m                            Traceback (most recent call last)",
      "Cell \u001b[1;32mIn[54], line 1\u001b[0m\n\u001b[1;32m----> 1\u001b[0m animal\u001b[38;5;241m.\u001b[39mset_jump(\u001b[38;5;241m5\u001b[39m)\n",
      "\u001b[1;31mAttributeError\u001b[0m: type object 'animal' has no attribute 'set_jump'"
     ]
    }
   ],
   "source": [
    "animal.set_jump(5)"
   ]
  },
  {
   "cell_type": "code",
   "execution_count": null,
   "id": "05471d32",
   "metadata": {},
   "outputs": [],
   "source": []
  }
 ],
 "metadata": {
  "kernelspec": {
   "display_name": "Python 3 (ipykernel)",
   "language": "python",
   "name": "python3"
  },
  "language_info": {
   "codemirror_mode": {
    "name": "ipython",
    "version": 3
   },
   "file_extension": ".py",
   "mimetype": "text/x-python",
   "name": "python",
   "nbconvert_exporter": "python",
   "pygments_lexer": "ipython3",
   "version": "3.11.3"
  }
 },
 "nbformat": 4,
 "nbformat_minor": 5
}
