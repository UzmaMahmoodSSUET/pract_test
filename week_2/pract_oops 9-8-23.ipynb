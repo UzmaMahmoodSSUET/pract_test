{
 "cells": [
  {
   "cell_type": "code",
   "execution_count": 8,
   "id": "5a3e088c",
   "metadata": {},
   "outputs": [
    {
     "name": "stdout",
     "output_type": "stream",
     "text": [
      "Feature1 is working\n",
      "Featur2 is working\n"
     ]
    }
   ],
   "source": [
    "class A:\n",
    "    def feature1(self):\n",
    "        print (\"Feature1 is working\")\n",
    "    def feature2(self):\n",
    "        print (\"Featur2 is working\")\n",
    "        \n",
    "a1=A()\n",
    "a1.feature1()\n",
    "a1.feature2()"
   ]
  },
  {
   "cell_type": "code",
   "execution_count": 9,
   "id": "8a8b6248",
   "metadata": {},
   "outputs": [
    {
     "name": "stdout",
     "output_type": "stream",
     "text": [
      "Feature3 is working\n",
      "Feature4 is working\n",
      "Feature1 is working\n",
      "Featur2 is working\n"
     ]
    }
   ],
   "source": [
    "class B(A):\n",
    "    def feature3(self):\n",
    "        print (\"Feature3 is working\")\n",
    "    def feature4(self):\n",
    "        print (\"Feature4 is working\")\n",
    "        \n",
    "b1= B()\n",
    "b1.feature3()\n",
    "b1.feature4()\n",
    "b1.feature1()\n",
    "b1.feature2()"
   ]
  },
  {
   "cell_type": "code",
   "execution_count": 10,
   "id": "8e5635b8",
   "metadata": {},
   "outputs": [
    {
     "name": "stdout",
     "output_type": "stream",
     "text": [
      "Feature1 is working\n",
      "Featur2 is working\n",
      "Feature3 is working\n",
      "Feature4 is working\n",
      "Feature5 is working\n",
      "Feature6 is working\n"
     ]
    }
   ],
   "source": [
    "class C(B):\n",
    "    def feature5(self):\n",
    "        print (\"Feature5 is working\")\n",
    "    def feature6(self):\n",
    "        print (\"Feature6 is working\")\n",
    "        \n",
    "c1= C()\n",
    "c1.feature1()\n",
    "c1.feature2()\n",
    "c1.feature3()\n",
    "c1.feature4()\n",
    "c1.feature5()\n",
    "c1.feature6()"
   ]
  },
  {
   "cell_type": "code",
   "execution_count": 11,
   "id": "29f66f92",
   "metadata": {},
   "outputs": [
    {
     "name": "stdout",
     "output_type": "stream",
     "text": [
      "Feature1 is working\n",
      "Feature2 is working\n"
     ]
    }
   ],
   "source": [
    "class A:\n",
    "    def feature1(self):\n",
    "        print(\"Feature1 is working\")\n",
    "    def feature2(self):\n",
    "        print(\"Feature2 is working\")\n",
    "        \n",
    "        \n",
    "\n",
    "a1 = A()\n",
    "a1.feature1()\n",
    "a1.feature2()"
   ]
  },
  {
   "cell_type": "code",
   "execution_count": 12,
   "id": "114bc1d2",
   "metadata": {},
   "outputs": [
    {
     "name": "stdout",
     "output_type": "stream",
     "text": [
      "Feature3 is working\n",
      "Feature4 is working\n"
     ]
    }
   ],
   "source": [
    "class B():\n",
    "    def feature3(self):\n",
    "        print(\"Feature3 is working\")\n",
    "    def feature4(self):\n",
    "        print(\"Feature4 is working\")\n",
    "b1 = B()\n",
    "b1.feature3()\n",
    "b1.feature4()"
   ]
  },
  {
   "cell_type": "code",
   "execution_count": 13,
   "id": "1f2675c3",
   "metadata": {},
   "outputs": [
    {
     "name": "stdout",
     "output_type": "stream",
     "text": [
      "Feature1 is working\n",
      "Feature2 is working\n",
      "Feature3 is working\n",
      "Feature4 is working\n",
      "Feature5 is working\n"
     ]
    }
   ],
   "source": [
    "class C(A,B):\n",
    "    def feature5(self):\n",
    "        print(\"Feature5 is working\")\n",
    "c1 = C()\n",
    "c1.feature1()\n",
    "c1.feature2()\n",
    "c1.feature3()\n",
    "c1.feature4()\n",
    "c1.feature5()"
   ]
  },
  {
   "cell_type": "code",
   "execution_count": 14,
   "id": "c1d050de",
   "metadata": {},
   "outputs": [
    {
     "name": "stdout",
     "output_type": "stream",
     "text": [
      "In init of A\n",
      "In init of A\n"
     ]
    }
   ],
   "source": [
    "class A:\n",
    "    \n",
    "    def __init__(self):\n",
    "        print(\"In init of A\")\n",
    "        \n",
    "    def feature1(self):\n",
    "        print(\"Feature1 is working\")\n",
    "    def feature2(self):\n",
    "        print(\"Feature2 is working\")\n",
    "\n",
    "class B(A):\n",
    "    \n",
    "    def feature3(self):\n",
    "        print(\"Feature3 is working\")\n",
    "        \n",
    "    def feature4(self):\n",
    "        print(\"Feature4 is working\")\n",
    "a1=A()\n",
    "b1=B()\n"
   ]
  },
  {
   "cell_type": "code",
   "execution_count": 15,
   "id": "f5961309",
   "metadata": {},
   "outputs": [
    {
     "name": "stdout",
     "output_type": "stream",
     "text": [
      "In init of A\n",
      "in init of B\n"
     ]
    }
   ],
   "source": [
    "class A:\n",
    "    \n",
    "    def __init__(self):\n",
    "        print(\"In init of A\")\n",
    "        \n",
    "    def feature1(self):\n",
    "        print(\"Feature1 is working\")\n",
    "    def feature2(self):\n",
    "        print(\"Feature2 is working\")\n",
    "\n",
    "class B(A):\n",
    "    def __init__(self):\n",
    "        print(\"in init of B\")\n",
    "       \n",
    "    \n",
    "    def feature3(self):\n",
    "        print(\"Feature3 is working\")\n",
    "        \n",
    "    def feature4(self):\n",
    "        print(\"Feature4 is working\")\n",
    "a1=A()\n",
    "b1=B()\n"
   ]
  },
  {
   "cell_type": "code",
   "execution_count": 16,
   "id": "faca959e",
   "metadata": {},
   "outputs": [
    {
     "name": "stdout",
     "output_type": "stream",
     "text": [
      "In init of A\n",
      "In Init of B\n",
      "In init of A\n"
     ]
    }
   ],
   "source": [
    "class A: \n",
    "    def __init__(self):\n",
    "        print(\"In init of A\")\n",
    "        \n",
    "    def feature1(self):\n",
    "        print(\"Feature1 is working\")\n",
    "    def feature2(self):\n",
    "        print(\"Feature2 is working\")\n",
    "        \n",
    "class B(A):\n",
    "    def __init__(self):\n",
    "        print(\"In Init of B\")\n",
    "        super().__init__()\n",
    "        \n",
    "    def feature3(self):\n",
    "        print(\"Feature3 is working\")\n",
    "        \n",
    "    def feature4(self):\n",
    "        print(\"Feature4 is working\")\n",
    "        \n",
    "a1=A()\n",
    "b1=B()\n",
    "        \n",
    "    "
   ]
  },
  {
   "cell_type": "code",
   "execution_count": 17,
   "id": "4cc33d4c",
   "metadata": {},
   "outputs": [],
   "source": [
    "class A:    \n",
    "    def __init__(self):\n",
    "        print(\"In init of A\")\n",
    "        \n",
    "    def feature1(self):\n",
    "        print(\"Feature1 is working\")\n",
    "        \n",
    "    def feature2(self):\n",
    "        print(\"Feature2 is working\")\n",
    "    def show(self):\n",
    "        print(\"I am showing class A\")"
   ]
  },
  {
   "cell_type": "code",
   "execution_count": 18,
   "id": "3ca817b8",
   "metadata": {},
   "outputs": [],
   "source": [
    "class B():\n",
    "    def __init__(self):\n",
    "        print(\"in init of B\")\n",
    "       \n",
    "    \n",
    "    def feature3(self):\n",
    "        print(\"Feature3 is working\")\n",
    "        \n",
    "    def feature4(self):\n",
    "        print(\"Feature4 is working\")\n",
    "\n",
    "    def show(self):\n",
    "        print(\"I am showing class B\")"
   ]
  },
  {
   "cell_type": "code",
   "execution_count": 19,
   "id": "80d4df3e",
   "metadata": {},
   "outputs": [
    {
     "name": "stdout",
     "output_type": "stream",
     "text": [
      "init of C\n",
      "in init of B\n"
     ]
    }
   ],
   "source": [
    "class C(B,A):\n",
    "    def __init__(self):\n",
    "        print(\"init of C\")\n",
    "        super().__init__()\n",
    "        # now we have two parent classes super will call init of???\n",
    "        # There is a term called MRO  Method Resolution Order\n",
    "        # Method resolution is from Left to Right\n",
    "        # init of A will be called \n",
    "c  = C()"
   ]
  },
  {
   "cell_type": "code",
   "execution_count": 21,
   "id": "bb86d82a",
   "metadata": {},
   "outputs": [
    {
     "name": "stdout",
     "output_type": "stream",
     "text": [
      "I am showing class A\n",
      "I am showing class B\n"
     ]
    }
   ],
   "source": [
    "A.show(c)\n",
    "c.show()"
   ]
  },
  {
   "cell_type": "code",
   "execution_count": 22,
   "id": "ad913a26",
   "metadata": {},
   "outputs": [
    {
     "name": "stdout",
     "output_type": "stream",
     "text": [
      "init of C\n",
      "In init of A\n",
      "I am showing class A\n",
      "Feature2 B is working\n"
     ]
    }
   ],
   "source": [
    "class A:    \n",
    "    def __init__(self):\n",
    "        print(\"In init of A\")\n",
    "   \n",
    "    def feature1(self):\n",
    "        print(\"Feature1 is working\")\n",
    "        \n",
    "#     def feature2(self):\n",
    "#         print(\"Feature2 is A working\")\n",
    "        \n",
    "    def show(self):\n",
    "        print(\"I am showing class A\")\n",
    "class B():\n",
    "    def __init__(self):\n",
    "        print(\"in init of B\")\n",
    "       \n",
    "    \n",
    "    def feature2(self):\n",
    "        print(\"Feature2 B is working\")\n",
    "        \n",
    "    def feature4(self):\n",
    "        print(\"Feature4 is working\")\n",
    "\n",
    "    def show(self):\n",
    "        print(\"I am showing class B\")       \n",
    "        \n",
    "class C(A,B):\n",
    "    def __init__(self):\n",
    "        print(\"init of C\")\n",
    "        super().__init__()\n",
    "        super().show()\n",
    "        \n",
    "    def feature2(self):\n",
    "        print(\"I m in C\")\n",
    "    \n",
    "    def feat(self):\n",
    "       \n",
    "        super().feature2()\n",
    "        \n",
    "c  = C()\n",
    "c.feat()"
   ]
  },
  {
   "cell_type": "markdown",
   "id": "c27a35c8",
   "metadata": {},
   "source": [
    "# Polymorphism"
   ]
  },
  {
   "cell_type": "markdown",
   "id": "f5a5e547",
   "metadata": {},
   "source": [
    "# ducking"
   ]
  },
  {
   "cell_type": "code",
   "execution_count": 23,
   "id": "beb76e30",
   "metadata": {},
   "outputs": [
    {
     "name": "stdout",
     "output_type": "stream",
     "text": [
      "Compiling\n",
      "Running\n",
      "Grammar Checking\n",
      "Spell checking\n",
      "Compiling\n",
      "Running\n"
     ]
    }
   ],
   "source": [
    "class PyCharm:\n",
    "    def execute(self):\n",
    "        print(\"Compiling\")\n",
    "        print(\"Running\")\n",
    "ide1 = PyCharm()\n",
    "\n",
    "#################\n",
    "\n",
    "\n",
    "class VsCode:\n",
    "    def execute(self):\n",
    "        print(\"Grammar Checking\")\n",
    "        print(\"Spell checking\")\n",
    "        print(\"Compiling\")\n",
    "        print(\"Running\")\n",
    "ide2 = VsCode()\n",
    "#############################\n",
    "\n",
    "class Laptop:\n",
    "    def code(self,ide):\n",
    "        ide.execute()\n",
    "        \n",
    "lap1 = Laptop()\n",
    "lap1.code(ide1)\n",
    "lap1.code(ide2)\n"
   ]
  },
  {
   "cell_type": "code",
   "execution_count": 24,
   "id": "8ed3c84b",
   "metadata": {},
   "outputs": [
    {
     "name": "stdout",
     "output_type": "stream",
     "text": [
      "Reading Books\n",
      "Making Notes\n",
      "Reading Books\n",
      "Making Notes\n",
      "Prepare Question Paper\n"
     ]
    }
   ],
   "source": [
    "class Student:\n",
    "    def useLibrary(self):\n",
    "        print(\"Reading Books\")\n",
    "        print(\"Making Notes\")\n",
    "\n",
    "s1 = Student()\n",
    "################################\n",
    "class Teacher:\n",
    "    def useLibrary(self):\n",
    "        print(\"Reading Books\")\n",
    "        print(\"Making Notes\")\n",
    "        print(\"Prepare Question Paper\")\n",
    "\n",
    "t1 = Teacher()\n",
    "#####################################\n",
    "class Library:\n",
    "    def welcome(self, obj):\n",
    "        obj.useLibrary()\n",
    "\n",
    "        \n",
    "lib  =Library()\n",
    "        \n",
    "lib.welcome(s1)\n",
    "lib.welcome(t1)  "
   ]
  },
  {
   "cell_type": "markdown",
   "id": "f556ad93",
   "metadata": {},
   "source": [
    "# Operator Overloading"
   ]
  },
  {
   "cell_type": "code",
   "execution_count": 25,
   "id": "291d0fba",
   "metadata": {},
   "outputs": [
    {
     "name": "stdout",
     "output_type": "stream",
     "text": [
      "30\n",
      "30\n"
     ]
    }
   ],
   "source": [
    "a = 10\n",
    "b = 20 \n",
    "\n",
    "print(a + b)\n",
    "# when we use a + operator, in backend it calls add method of int class(that sums) \n",
    "# because both the supplied operands are of type(class) integers \\\n",
    "# or we can say that both are objects of int class\n",
    "print(int.__add__(a,b))"
   ]
  },
  {
   "cell_type": "code",
   "execution_count": 26,
   "id": "aa163457",
   "metadata": {},
   "outputs": [
    {
     "data": {
      "text/plain": [
       "5"
      ]
     },
     "execution_count": 26,
     "metadata": {},
     "output_type": "execute_result"
    }
   ],
   "source": [
    "def add(a,b):\n",
    "    return a+b\n",
    "add(2,3)"
   ]
  },
  {
   "cell_type": "code",
   "execution_count": 27,
   "id": "5e228483",
   "metadata": {},
   "outputs": [
    {
     "data": {
      "text/plain": [
       "['__abs__',\n",
       " '__add__',\n",
       " '__and__',\n",
       " '__bool__',\n",
       " '__ceil__',\n",
       " '__class__',\n",
       " '__delattr__',\n",
       " '__dir__',\n",
       " '__divmod__',\n",
       " '__doc__',\n",
       " '__eq__',\n",
       " '__float__',\n",
       " '__floor__',\n",
       " '__floordiv__',\n",
       " '__format__',\n",
       " '__ge__',\n",
       " '__getattribute__',\n",
       " '__getnewargs__',\n",
       " '__getstate__',\n",
       " '__gt__',\n",
       " '__hash__',\n",
       " '__index__',\n",
       " '__init__',\n",
       " '__init_subclass__',\n",
       " '__int__',\n",
       " '__invert__',\n",
       " '__le__',\n",
       " '__lshift__',\n",
       " '__lt__',\n",
       " '__mod__',\n",
       " '__mul__',\n",
       " '__ne__',\n",
       " '__neg__',\n",
       " '__new__',\n",
       " '__or__',\n",
       " '__pos__',\n",
       " '__pow__',\n",
       " '__radd__',\n",
       " '__rand__',\n",
       " '__rdivmod__',\n",
       " '__reduce__',\n",
       " '__reduce_ex__',\n",
       " '__repr__',\n",
       " '__rfloordiv__',\n",
       " '__rlshift__',\n",
       " '__rmod__',\n",
       " '__rmul__',\n",
       " '__ror__',\n",
       " '__round__',\n",
       " '__rpow__',\n",
       " '__rrshift__',\n",
       " '__rshift__',\n",
       " '__rsub__',\n",
       " '__rtruediv__',\n",
       " '__rxor__',\n",
       " '__setattr__',\n",
       " '__sizeof__',\n",
       " '__str__',\n",
       " '__sub__',\n",
       " '__subclasshook__',\n",
       " '__truediv__',\n",
       " '__trunc__',\n",
       " '__xor__',\n",
       " 'as_integer_ratio',\n",
       " 'bit_count',\n",
       " 'bit_length',\n",
       " 'conjugate',\n",
       " 'denominator',\n",
       " 'from_bytes',\n",
       " 'imag',\n",
       " 'numerator',\n",
       " 'real',\n",
       " 'to_bytes']"
      ]
     },
     "execution_count": 27,
     "metadata": {},
     "output_type": "execute_result"
    }
   ],
   "source": [
    "dir(a)"
   ]
  },
  {
   "cell_type": "code",
   "execution_count": 28,
   "id": "8282e8c2",
   "metadata": {},
   "outputs": [],
   "source": [
    "class Student:\n",
    "    def __init__(self, m1,m2):\n",
    "        self.m1 = m1\n",
    "        self.m2 = m2\n",
    "    \n",
    "    def __add__(s1,s2):  \n",
    "                               \n",
    "        m1 = s1.m1 + s2.m1\n",
    "        m2 = s1.m2 + s2.m2\n",
    "        \n",
    "        st = Student(m1,m2)\n",
    "        return st\n",
    "    \n",
    "    \n",
    "    def __gt__(s1,s2):\n",
    "        sum_s1 = s1.m1 + s1.m2\n",
    "        sum_s2 = s2.m1 + s2.m2\n",
    "        if sum_s1 > sum_s2:return True\n",
    "        else:return False\n",
    "        \n",
    "        \n",
    "s1 = Student(80,90)\n",
    "s2 = Student(70,90)"
   ]
  },
  {
   "cell_type": "code",
   "execution_count": 29,
   "id": "403ab8e2",
   "metadata": {},
   "outputs": [
    {
     "data": {
      "text/plain": [
       "<__main__.Student at 0x1eafbc58b10>"
      ]
     },
     "execution_count": 29,
     "metadata": {},
     "output_type": "execute_result"
    }
   ],
   "source": [
    "s3 = s1 + s2\n",
    "s3"
   ]
  },
  {
   "cell_type": "code",
   "execution_count": 30,
   "id": "f094b675",
   "metadata": {},
   "outputs": [
    {
     "data": {
      "text/plain": [
       "150"
      ]
     },
     "execution_count": 30,
     "metadata": {},
     "output_type": "execute_result"
    }
   ],
   "source": [
    "s3.m1"
   ]
  },
  {
   "cell_type": "code",
   "execution_count": 31,
   "id": "117e7f76",
   "metadata": {},
   "outputs": [
    {
     "data": {
      "text/plain": [
       "180"
      ]
     },
     "execution_count": 31,
     "metadata": {},
     "output_type": "execute_result"
    }
   ],
   "source": [
    "s3.m2"
   ]
  },
  {
   "cell_type": "code",
   "execution_count": 32,
   "id": "e4375ac6",
   "metadata": {},
   "outputs": [
    {
     "data": {
      "text/plain": [
       "True"
      ]
     },
     "execution_count": 32,
     "metadata": {},
     "output_type": "execute_result"
    }
   ],
   "source": [
    "12>10"
   ]
  },
  {
   "cell_type": "code",
   "execution_count": 33,
   "id": "b750d05e",
   "metadata": {},
   "outputs": [
    {
     "data": {
      "text/plain": [
       "True"
      ]
     },
     "execution_count": 33,
     "metadata": {},
     "output_type": "execute_result"
    }
   ],
   "source": [
    "12>10"
   ]
  },
  {
   "cell_type": "code",
   "execution_count": 34,
   "id": "d89062c4",
   "metadata": {},
   "outputs": [
    {
     "data": {
      "text/plain": [
       "False"
      ]
     },
     "execution_count": 34,
     "metadata": {},
     "output_type": "execute_result"
    }
   ],
   "source": [
    "s2>s1"
   ]
  },
  {
   "cell_type": "code",
   "execution_count": 40,
   "id": "cc6a2bd9",
   "metadata": {},
   "outputs": [],
   "source": [
    "class Student:\n",
    "    \n",
    "    def __init__(self, m1,m2):\n",
    "        self.m1 = m1\n",
    "        self.m2 = m2\n",
    "    \n",
    "    def __add__(self,other):\n",
    "        m1 = self.m1 + other.m1\n",
    "        m2 = self.m2 + other.m2\n",
    "        newObj = Student(m1,m2)\n",
    "        return newObj\n",
    "    \n",
    "    def __str__(self):\n",
    "        return f\"{self.m1} {self.m2}\"\n",
    "    \n",
    "    \n",
    "    def __gt__(self,other):\n",
    "        sum_s1 = other.m1 + other.m2\n",
    "        sum_s2 = self.m1 + self.m2\n",
    "        if sum_s1 > sum_s2:return True\n",
    "        else:return False\n",
    "        \n",
    "        \n",
    "s1 = Student(80,100)\n",
    "s2 = Student(70,60)"
   ]
  },
  {
   "cell_type": "code",
   "execution_count": 41,
   "id": "27b7fa42",
   "metadata": {},
   "outputs": [],
   "source": [
    "s4=s1+s2"
   ]
  },
  {
   "cell_type": "code",
   "execution_count": 42,
   "id": "800627bb",
   "metadata": {},
   "outputs": [
    {
     "name": "stdout",
     "output_type": "stream",
     "text": [
      "150 160\n"
     ]
    }
   ],
   "source": [
    "print(s4)"
   ]
  },
  {
   "cell_type": "code",
   "execution_count": 43,
   "id": "22b7fb9b",
   "metadata": {},
   "outputs": [],
   "source": [
    "class Student:\n",
    "    def __init__(self, m):\n",
    "        self.m = m\n",
    "        \n",
    "    \n",
    "    def __add__(self,other):\n",
    "        new_m = self.m + other.m\n",
    "        \n",
    "        newObj = Student(new_m)\n",
    "        return newObj\n",
    "    \n",
    "    def __str__(self):\n",
    "        return f\"{self.m}\"\n",
    "    \n",
    "    \n",
    "    def __gt__(self,other):\n",
    "        other = other.m \n",
    "        self = self.m \n",
    "        if self > other:return True\n",
    "        else:return False\n",
    "        \n",
    "        \n",
    "s1 = Student(60)\n",
    "s2 = Student(70)"
   ]
  },
  {
   "cell_type": "code",
   "execution_count": 44,
   "id": "9bb6d457",
   "metadata": {},
   "outputs": [
    {
     "data": {
      "text/plain": [
       "__main__.Student"
      ]
     },
     "execution_count": 44,
     "metadata": {},
     "output_type": "execute_result"
    }
   ],
   "source": [
    "s3 = s1 + s2\n",
    "type(s3)"
   ]
  },
  {
   "cell_type": "code",
   "execution_count": 45,
   "id": "a23b66a3",
   "metadata": {},
   "outputs": [
    {
     "name": "stdout",
     "output_type": "stream",
     "text": [
      "130\n"
     ]
    }
   ],
   "source": [
    "print(s3)"
   ]
  },
  {
   "cell_type": "code",
   "execution_count": 4,
   "id": "1543321f",
   "metadata": {},
   "outputs": [],
   "source": [
    "class Computer:\n",
    "    def process(self):\n",
    "        print('running')"
   ]
  },
  {
   "cell_type": "code",
   "execution_count": 5,
   "id": "dcc6a0f8",
   "metadata": {},
   "outputs": [],
   "source": [
    "# A method that only has declaration but has nothing in it is abstract method\n",
    "class Computer:\n",
    "    def process(self):\n",
    "        pass\n",
    "# A class having a methods that has no body"
   ]
  },
  {
   "cell_type": "code",
   "execution_count": 6,
   "id": "835fdf14",
   "metadata": {},
   "outputs": [],
   "source": [
    "com1 = Computer()\n",
    "com1.process()"
   ]
  },
  {
   "cell_type": "code",
   "execution_count": 12,
   "id": "78132ee1",
   "metadata": {},
   "outputs": [],
   "source": [
    "from abc import ABC, abstractmethod"
   ]
  },
  {
   "cell_type": "code",
   "execution_count": 13,
   "id": "7f347ed3",
   "metadata": {},
   "outputs": [],
   "source": [
    "class Computer(ABC):\n",
    "    \n",
    "    @abstractmethod\n",
    "    def process(self):\n",
    "        print(\"I am a process in computer class\")\n",
    "    \n",
    "    @abstractmethod\n",
    "    def greet(self):\n",
    "        pass\n",
    "#        To make a class abstract \n",
    "#           - It must inherit the ABC class from abc module\n",
    "#           - It must have atleast a abstract method \n",
    "#             (which is defined using a decorator @abstractmethod)\n",
    "    "
   ]
  },
  {
   "cell_type": "code",
   "execution_count": 14,
   "id": "caedb766",
   "metadata": {},
   "outputs": [
    {
     "ename": "TypeError",
     "evalue": "Can't instantiate abstract class Computer with abstract methods greet, process",
     "output_type": "error",
     "traceback": [
      "\u001b[1;31m---------------------------------------------------------------------------\u001b[0m",
      "\u001b[1;31mTypeError\u001b[0m                                 Traceback (most recent call last)",
      "Cell \u001b[1;32mIn[14], line 1\u001b[0m\n\u001b[1;32m----> 1\u001b[0m com1 \u001b[38;5;241m=\u001b[39m Computer()\n",
      "\u001b[1;31mTypeError\u001b[0m: Can't instantiate abstract class Computer with abstract methods greet, process"
     ]
    }
   ],
   "source": [
    "com1 = Computer()"
   ]
  },
  {
   "cell_type": "code",
   "execution_count": 15,
   "id": "17059524",
   "metadata": {},
   "outputs": [],
   "source": [
    "class Laptop(Computer):\n",
    "    \n",
    "    def process(self):\n",
    "        print(\"It is running\")\n",
    "    def greet(self):\n",
    "        print(\"Salam\")\n",
    "    def run(self):\n",
    "        print(\"Lap runs\")\n",
    "lap1 = Laptop()  "
   ]
  },
  {
   "cell_type": "code",
   "execution_count": 16,
   "id": "125fa060",
   "metadata": {},
   "outputs": [
    {
     "name": "stdout",
     "output_type": "stream",
     "text": [
      "It is running\n",
      "Salam\n",
      "Lap runs\n"
     ]
    }
   ],
   "source": [
    "lap1.process()\n",
    "lap1.greet()\n",
    "lap1.run()"
   ]
  },
  {
   "cell_type": "code",
   "execution_count": 18,
   "id": "43ac5ba7",
   "metadata": {},
   "outputs": [
    {
     "name": "stdout",
     "output_type": "stream",
     "text": [
      "The mileage is Tesla 30kmph\n",
      "The mileage is Renault 27kmph \n",
      "The mileage is Suzuki 25kmph \n",
      "The mileage is Duster 24kmph \n"
     ]
    }
   ],
   "source": [
    "from abc import ABC, abstractmethod   \n",
    "\n",
    "class Car(ABC):   \n",
    "    @abstractmethod\n",
    "    def mileage(self):   \n",
    "        pass  \n",
    "    \n",
    "class Tesla(Car):   \n",
    "    def mileage(self):   \n",
    "        print(\"The mileage is Tesla 30kmph\")  \n",
    "        \n",
    "        \n",
    "class Suzuki(Car):   \n",
    "    def mileage(self):   \n",
    "        print(\"The mileage is Suzuki 25kmph \")   \n",
    "        \n",
    "        \n",
    "class Duster(Car):   \n",
    "     def mileage(self):   \n",
    "        print(\"The mileage is Duster 24kmph \")   \n",
    "        \n",
    "        \n",
    "        \n",
    "class Renault(Car):   \n",
    "    def mileage(self):   \n",
    "            print(\"The mileage is Renault 27kmph \")   \n",
    "# Driver code   \n",
    "t= Tesla ()   \n",
    "t.mileage()   \n",
    "  \n",
    "r = Renault()   \n",
    "r.mileage()   \n",
    "  \n",
    "s = Suzuki()   \n",
    "s.mileage()   \n",
    "d = Duster()   \n",
    "d.mileage()  "
   ]
  },
  {
   "cell_type": "code",
   "execution_count": 20,
   "id": "dc5c9fdc",
   "metadata": {},
   "outputs": [
    {
     "name": "stdout",
     "output_type": "stream",
     "text": [
      "Triangle has 3 sides\n",
      "Square have 4 sides\n",
      "Pentagon has 5 sides\n",
      "Hexagon has 6 sides\n"
     ]
    }
   ],
   "source": [
    "from abc import ABC  \n",
    "class Polygon(ABC):\n",
    "    @abstractmethod   \n",
    "    def sides(self):\n",
    "        pass  \n",
    "\n",
    "class Triangle(Polygon):\n",
    "    def sides(self):print(\"Triangle has 3 sides\")   \n",
    "class Pentagon(Polygon):\n",
    "    def sides(self):print(\"Pentagon has 5 sides\")   \n",
    "class Hexagon(Polygon):\n",
    "    def sides(self):print(\"Hexagon has 6 sides\")   \n",
    "class square(Polygon):\n",
    "    def sides(self):print(\"Square have 4 sides\")   \n",
    "# Driver code   \n",
    "t = Triangle()   \n",
    "t.sides()   \n",
    "  \n",
    "s = square()   \n",
    "s.sides()   \n",
    "  \n",
    "p = Pentagon()   \n",
    "p.sides()   \n",
    "  \n",
    "k = Hexagon()   \n",
    "k.sides()"
   ]
  },
  {
   "cell_type": "code",
   "execution_count": 21,
   "id": "c04f26d0",
   "metadata": {},
   "outputs": [],
   "source": [
    "# All class ariables are public by defualt\n",
    "# All instance variables are public by default \n",
    "class Car():\n",
    "    # public class variable can be accessed from any where \n",
    "    wheels = 4\n",
    "    def __init__(self,windows, doors, enginetype):\n",
    "        \n",
    "        #Public instance Variable can be acceesed from anywhere \n",
    "        self.windows =windows\n",
    "        self.doors =doors\n",
    "        self.enginetype =enginetype\n",
    "car = Car(3,4,\"Petrol\")\n"
   ]
  },
  {
   "cell_type": "code",
   "execution_count": 22,
   "id": "49fc1e0c",
   "metadata": {},
   "outputs": [
    {
     "data": {
      "text/plain": [
       "['__class__',\n",
       " '__delattr__',\n",
       " '__dict__',\n",
       " '__dir__',\n",
       " '__doc__',\n",
       " '__eq__',\n",
       " '__format__',\n",
       " '__ge__',\n",
       " '__getattribute__',\n",
       " '__getstate__',\n",
       " '__gt__',\n",
       " '__hash__',\n",
       " '__init__',\n",
       " '__init_subclass__',\n",
       " '__le__',\n",
       " '__lt__',\n",
       " '__module__',\n",
       " '__ne__',\n",
       " '__new__',\n",
       " '__reduce__',\n",
       " '__reduce_ex__',\n",
       " '__repr__',\n",
       " '__setattr__',\n",
       " '__sizeof__',\n",
       " '__str__',\n",
       " '__subclasshook__',\n",
       " '__weakref__',\n",
       " 'doors',\n",
       " 'enginetype',\n",
       " 'hp',\n",
       " 'wheels',\n",
       " 'windows']"
      ]
     },
     "execution_count": 22,
     "metadata": {},
     "output_type": "execute_result"
    }
   ],
   "source": [
    "class Suzuki(Car):\n",
    "    def __init__(self,windows,doors,enginetype, hp):\n",
    "        super().__init__(windows,doors,enginetype)\n",
    "        self.hp = hp\n",
    "suz = Suzuki(4,4,\"Petrol\",\"1600\")\n",
    "\n",
    "# you will notice public variables are all accessible to child class also\n",
    "dir(suz)"
   ]
  },
  {
   "cell_type": "code",
   "execution_count": 23,
   "id": "a7f9bce9",
   "metadata": {},
   "outputs": [
    {
     "data": {
      "text/plain": [
       "['__class__',\n",
       " '__delattr__',\n",
       " '__dict__',\n",
       " '__dir__',\n",
       " '__doc__',\n",
       " '__eq__',\n",
       " '__format__',\n",
       " '__ge__',\n",
       " '__getattribute__',\n",
       " '__getstate__',\n",
       " '__gt__',\n",
       " '__hash__',\n",
       " '__init__',\n",
       " '__init_subclass__',\n",
       " '__le__',\n",
       " '__lt__',\n",
       " '__module__',\n",
       " '__ne__',\n",
       " '__new__',\n",
       " '__reduce__',\n",
       " '__reduce_ex__',\n",
       " '__repr__',\n",
       " '__setattr__',\n",
       " '__sizeof__',\n",
       " '__str__',\n",
       " '__subclasshook__',\n",
       " '__weakref__',\n",
       " '_doors',\n",
       " '_enginetype',\n",
       " '_windows',\n",
       " 'hello']"
      ]
     },
     "execution_count": 23,
     "metadata": {},
     "output_type": "execute_result"
    }
   ],
   "source": [
    "# to make a variable protected use a single underscore before a variable name like _name = \"Asad\"\n",
    "class Car():\n",
    "    def __init__(self,windows, doors, enginetype):\n",
    "        \n",
    "        #Protected variables: should be acceesed from a sub class only by definition but python has no restriction it can also be accessed from any where\n",
    "        # but python dont restrict actually\n",
    "        self._windows =windows\n",
    "        self._doors =doors\n",
    "        self._enginetype =enginetype\n",
    "        self.hello = \"heooooooo\" # public\n",
    "        \n",
    "\n",
    "audi = Car(4,5,\"Diesel\")\n",
    "car2 = Car(2,4,\"abc\")\n",
    " \n",
    "dir(audi)\n"
   ]
  },
  {
   "cell_type": "code",
   "execution_count": 25,
   "id": "760ba98b",
   "metadata": {},
   "outputs": [
    {
     "data": {
      "text/plain": [
       "4"
      ]
     },
     "execution_count": 25,
     "metadata": {},
     "output_type": "execute_result"
    }
   ],
   "source": [
    "audi._windows"
   ]
  },
  {
   "cell_type": "code",
   "execution_count": 27,
   "id": "dcd4ac6a",
   "metadata": {},
   "outputs": [],
   "source": [
    "class Car:\n",
    "    # static or class level variable\n",
    "    #can be updated using class name for all objects\n",
    "    wheels = 4\n",
    "    def __init__(self):\n",
    "    # non static or object/instance level variable\n",
    "    # can be updated using object name for a particular object\n",
    "        self.mileage = 10\n",
    "        self.company = \"BMW\""
   ]
  },
  {
   "cell_type": "code",
   "execution_count": 29,
   "id": "65693d89",
   "metadata": {},
   "outputs": [],
   "source": [
    "c1  = Car()\n",
    "c2 = Car()"
   ]
  },
  {
   "cell_type": "code",
   "execution_count": 30,
   "id": "29b9084d",
   "metadata": {},
   "outputs": [
    {
     "data": {
      "text/plain": [
       "(4, 4, 4)"
      ]
     },
     "execution_count": 30,
     "metadata": {},
     "output_type": "execute_result"
    }
   ],
   "source": [
    "Car.wheels, c1.wheels,c2.wheels"
   ]
  },
  {
   "cell_type": "code",
   "execution_count": 31,
   "id": "eaaf2f50",
   "metadata": {},
   "outputs": [],
   "source": [
    "Car.wheels = 5"
   ]
  },
  {
   "cell_type": "code",
   "execution_count": 32,
   "id": "9cff98d6",
   "metadata": {},
   "outputs": [
    {
     "data": {
      "text/plain": [
       "(5, 5, 5)"
      ]
     },
     "execution_count": 32,
     "metadata": {},
     "output_type": "execute_result"
    }
   ],
   "source": [
    "Car.wheels, c1.wheels,c2.wheels"
   ]
  },
  {
   "cell_type": "code",
   "execution_count": 39,
   "id": "8a923a41",
   "metadata": {},
   "outputs": [],
   "source": [
    "c1.wheels = 6"
   ]
  },
  {
   "cell_type": "code",
   "execution_count": 40,
   "id": "2c0741a6",
   "metadata": {},
   "outputs": [
    {
     "data": {
      "text/plain": [
       "(10, 6, 15)"
      ]
     },
     "execution_count": 40,
     "metadata": {},
     "output_type": "execute_result"
    }
   ],
   "source": [
    "Car.wheels, c1.wheels,c2.wheels"
   ]
  },
  {
   "cell_type": "code",
   "execution_count": 36,
   "id": "938466da",
   "metadata": {},
   "outputs": [],
   "source": [
    "c2.wheels = 15"
   ]
  },
  {
   "cell_type": "code",
   "execution_count": 37,
   "id": "6c707435",
   "metadata": {},
   "outputs": [
    {
     "data": {
      "text/plain": [
       "(10, 6, 15)"
      ]
     },
     "execution_count": 37,
     "metadata": {},
     "output_type": "execute_result"
    }
   ],
   "source": [
    "Car.wheels, c1.wheels,c2.wheels"
   ]
  },
  {
   "cell_type": "code",
   "execution_count": 41,
   "id": "1b92e1e8",
   "metadata": {},
   "outputs": [
    {
     "data": {
      "text/plain": [
       "(10, 6, 15)"
      ]
     },
     "execution_count": 41,
     "metadata": {},
     "output_type": "execute_result"
    }
   ],
   "source": [
    "Car.wheels = 10\n",
    "\n",
    "\n",
    "# Since an object c1 has make it own copy it will not be affected. \n",
    "Car.wheels, c1.wheels,c2.wheels"
   ]
  },
  {
   "cell_type": "code",
   "execution_count": 42,
   "id": "430c20c1",
   "metadata": {},
   "outputs": [],
   "source": [
    "class Student:\n",
    "    school = \"SSUET\"\n",
    "    def __init__(self, m1,m2,m3):\n",
    "        self.m1 = m1\n",
    "        self.m2 = m2\n",
    "        self.m3 = m3\n",
    "    def avg(self):\n",
    "        return (self.m1+self.m2+self.m3)/3\n",
    "    \n",
    "    def information(self):\n",
    "        return self.school\n",
    "    "
   ]
  },
  {
   "cell_type": "code",
   "execution_count": 43,
   "id": "279d7f78",
   "metadata": {},
   "outputs": [
    {
     "name": "stdout",
     "output_type": "stream",
     "text": [
      "92.33333333333333\n",
      "80.0\n",
      "SSUET\n",
      "SSUET\n"
     ]
    },
    {
     "ename": "TypeError",
     "evalue": "Student.information() missing 1 required positional argument: 'self'",
     "output_type": "error",
     "traceback": [
      "\u001b[1;31m---------------------------------------------------------------------------\u001b[0m",
      "\u001b[1;31mTypeError\u001b[0m                                 Traceback (most recent call last)",
      "Cell \u001b[1;32mIn[43], line 15\u001b[0m\n\u001b[0;32m     12\u001b[0m \u001b[38;5;28mprint\u001b[39m(Student\u001b[38;5;241m.\u001b[39minformation(s2))\n\u001b[0;32m     14\u001b[0m \u001b[38;5;66;03m# instance method called using class name oooooonlyyyyyyyyyyyyyyy>>>>>>>>error\u001b[39;00m\n\u001b[1;32m---> 15\u001b[0m \u001b[38;5;28mprint\u001b[39m(Student\u001b[38;5;241m.\u001b[39minformation())\n\u001b[0;32m     16\u001b[0m \u001b[38;5;28mprint\u001b[39m(Student\u001b[38;5;241m.\u001b[39minformation())\n",
      "\u001b[1;31mTypeError\u001b[0m: Student.information() missing 1 required positional argument: 'self'"
     ]
    }
   ],
   "source": [
    "s1 = Student(89,98,90)\n",
    "s2 = Student(80,90,70)\n",
    "\n",
    "# instance method called using instance  s1\n",
    "print(s1.avg())\n",
    "\n",
    "# instance method called using instance  s2\n",
    "print(s2.avg())\n",
    "\n",
    "# instance method called using class name but instance is passed a argument\n",
    "print(Student.information(s1))\n",
    "print(Student.information(s2))\n",
    "\n",
    "# instance method called using class name oooooonlyyyyyyyyyyyyyyy>>>>>>>>error\n",
    "print(Student.information())\n",
    "print(Student.information())"
   ]
  },
  {
   "cell_type": "code",
   "execution_count": 44,
   "id": "fc5dd0b1",
   "metadata": {},
   "outputs": [],
   "source": [
    "class Student:\n",
    "    \n",
    "    school = \"SSUET\"\n",
    "    \n",
    "    def __init__(self, m1,m2,m3):\n",
    "        self.m1 = m1\n",
    "        self.m2 = m2\n",
    "        self.m3 = m3\n",
    "    \n",
    "    def avg(self):\n",
    "        return (self.m1+self.m2+self.m3)/3\n",
    "    \n",
    "    @classmethod\n",
    "    def information(c):\n",
    "        return c.school"
   ]
  },
  {
   "cell_type": "code",
   "execution_count": 45,
   "id": "95d1802d",
   "metadata": {},
   "outputs": [
    {
     "name": "stdout",
     "output_type": "stream",
     "text": [
      "92.33333333333333\n",
      "80.0\n",
      "SSUET\n",
      "SSUET\n",
      "SSUET\n",
      "SSUET\n"
     ]
    }
   ],
   "source": [
    "s1 = Student(89,98,90)\n",
    "s2 = Student(80,90,70)\n",
    "\n",
    "# instance method called using instance  s1\n",
    "print(s1.avg())\n",
    "\n",
    "# instance method called using instance  s2\n",
    "print(s2.avg())\n",
    "\n",
    "                                              ########\n",
    "#                 Class method CAN BE CAN BE CAN BE CAN BE CAN BE called using class as well as instance  \n",
    "                                                ######\n",
    "\n",
    "# class method is called using instance\n",
    "print(s1.information())\n",
    "print(s1.information())\n",
    "\n",
    "# class method is called using class name\n",
    "print(Student.information())\n",
    "print(Student.information())"
   ]
  },
  {
   "cell_type": "markdown",
   "id": "5620dca4",
   "metadata": {},
   "source": [
    "# static methods"
   ]
  },
  {
   "cell_type": "code",
   "execution_count": 46,
   "id": "c35ad3f1",
   "metadata": {},
   "outputs": [],
   "source": [
    "class Student:\n",
    "    school = \"SSUET\"\n",
    "    def __init__(self, m1,m2,m3):\n",
    "        self.m1 = m1\n",
    "        self.m2 = m2\n",
    "        self.m3 = m3\n",
    "    def avg(self):\n",
    "        return (self.m1+self.m2+self.m3)/3\n",
    "    \n",
    "    @classmethod\n",
    "    def information(c):\n",
    "        return c.school\n",
    "    \n",
    "    @staticmethod\n",
    "    def hello():   # no self required\n",
    "        return \"Im a static method\""
   ]
  },
  {
   "cell_type": "code",
   "execution_count": 47,
   "id": "073cfa04",
   "metadata": {},
   "outputs": [],
   "source": [
    "s4 = Student (23,24,25)"
   ]
  },
  {
   "cell_type": "code",
   "execution_count": 48,
   "id": "8351b69a",
   "metadata": {},
   "outputs": [
    {
     "data": {
      "text/plain": [
       "'Im a static method'"
      ]
     },
     "execution_count": 48,
     "metadata": {},
     "output_type": "execute_result"
    }
   ],
   "source": [
    "s4.hello()"
   ]
  },
  {
   "cell_type": "markdown",
   "id": "91d92358",
   "metadata": {},
   "source": [
    "# Function_copy"
   ]
  },
  {
   "cell_type": "code",
   "execution_count": 49,
   "id": "edd7bc3b",
   "metadata": {},
   "outputs": [],
   "source": [
    "def welcome():\n",
    "    print(\"welcome to my class python\")"
   ]
  },
  {
   "cell_type": "code",
   "execution_count": 50,
   "id": "fb9ef1d7",
   "metadata": {},
   "outputs": [
    {
     "name": "stdout",
     "output_type": "stream",
     "text": [
      "welcome to my class python\n"
     ]
    }
   ],
   "source": [
    "welcome()"
   ]
  },
  {
   "cell_type": "code",
   "execution_count": 52,
   "id": "7d4d1ab4",
   "metadata": {},
   "outputs": [
    {
     "name": "stdout",
     "output_type": "stream",
     "text": [
      "welcome to my class python\n"
     ]
    }
   ],
   "source": [
    "well = welcome()"
   ]
  },
  {
   "cell_type": "code",
   "execution_count": 53,
   "id": "01c92e66",
   "metadata": {},
   "outputs": [
    {
     "name": "stdout",
     "output_type": "stream",
     "text": [
      "None\n"
     ]
    }
   ],
   "source": [
    "print(well)"
   ]
  },
  {
   "cell_type": "code",
   "execution_count": 54,
   "id": "bfd1216f",
   "metadata": {},
   "outputs": [],
   "source": [
    "def welcome():\n",
    "    return(\"welcome to my class python\")"
   ]
  },
  {
   "cell_type": "code",
   "execution_count": 55,
   "id": "65a4aed0",
   "metadata": {},
   "outputs": [],
   "source": [
    "well = welcome()"
   ]
  },
  {
   "cell_type": "code",
   "execution_count": 56,
   "id": "8b5edced",
   "metadata": {},
   "outputs": [
    {
     "name": "stdout",
     "output_type": "stream",
     "text": [
      "welcome to my class python\n"
     ]
    }
   ],
   "source": [
    "print(well)"
   ]
  },
  {
   "cell_type": "markdown",
   "id": "7f19cbcc",
   "metadata": {},
   "source": [
    "# Closures"
   ]
  },
  {
   "cell_type": "code",
   "execution_count": 63,
   "id": "0a9c7f0a",
   "metadata": {},
   "outputs": [],
   "source": [
    "def grandparent(msg):\n",
    "    def parent(msg):\n",
    "        \n",
    "        def child():\n",
    "            print(\"welcome to child\")\n",
    "            print(msg)\n",
    "            \n",
    "        return child()\n",
    "    return parent(msg)\n",
    "    "
   ]
  },
  {
   "cell_type": "code",
   "execution_count": 64,
   "id": "9a2831ce",
   "metadata": {},
   "outputs": [
    {
     "name": "stdout",
     "output_type": "stream",
     "text": [
      "welcome to child\n",
      "hello everyone\n"
     ]
    }
   ],
   "source": [
    "grandparent(\"hello everyone\")"
   ]
  },
  {
   "cell_type": "code",
   "execution_count": 67,
   "id": "4590c1e3",
   "metadata": {},
   "outputs": [],
   "source": [
    "def grandparent(msg):\n",
    "    def parent():\n",
    "        \n",
    "        def child():\n",
    "            print(\"welcome to child\")\n",
    "            print(msg)\n",
    "            \n",
    "        return child()\n",
    "    return parent()\n",
    "    "
   ]
  },
  {
   "cell_type": "code",
   "execution_count": 68,
   "id": "ff4af2fc",
   "metadata": {},
   "outputs": [
    {
     "name": "stdout",
     "output_type": "stream",
     "text": [
      "welcome to child\n",
      "hello everyone\n"
     ]
    }
   ],
   "source": [
    "grandparent(\"hello everyone\")"
   ]
  },
  {
   "cell_type": "code",
   "execution_count": 69,
   "id": "5d0c3fe2",
   "metadata": {},
   "outputs": [],
   "source": [
    "def grandparent(msg):\n",
    "    print(\"iam grandparent\")\n",
    "    def parent():\n",
    "        \n",
    "        def child():\n",
    "            print(\"welcome to child\")\n",
    "            print(msg)\n",
    "            \n",
    "        return child()\n",
    "    return parent()"
   ]
  },
  {
   "cell_type": "code",
   "execution_count": 70,
   "id": "f3162dff",
   "metadata": {},
   "outputs": [
    {
     "name": "stdout",
     "output_type": "stream",
     "text": [
      "iam grandparent\n",
      "welcome to child\n",
      "hello everyone\n"
     ]
    }
   ],
   "source": [
    "grandparent(\"hello everyone\")"
   ]
  },
  {
   "cell_type": "code",
   "execution_count": 71,
   "id": "129d6356",
   "metadata": {},
   "outputs": [],
   "source": [
    "def parent(func):\n",
    "    def child():\n",
    "        print(\"welcome\")\n",
    "        func(\"china\")\n",
    "        print(\"please come in\")\n",
    "    return child()"
   ]
  },
  {
   "cell_type": "code",
   "execution_count": 72,
   "id": "241213cb",
   "metadata": {},
   "outputs": [
    {
     "name": "stdout",
     "output_type": "stream",
     "text": [
      "welcome\n",
      "china\n",
      "please come in\n"
     ]
    }
   ],
   "source": [
    "parent(print)"
   ]
  },
  {
   "cell_type": "code",
   "execution_count": 4,
   "id": "c3f7b66d",
   "metadata": {},
   "outputs": [],
   "source": [
    "def parent(func):\n",
    "    def child():\n",
    "        print(\"welcome\")\n",
    "        print(func(\"london\"))\n",
    "        print(\"please come in\")\n",
    "    return child()"
   ]
  },
  {
   "cell_type": "code",
   "execution_count": 5,
   "id": "dbc16047",
   "metadata": {},
   "outputs": [
    {
     "name": "stdout",
     "output_type": "stream",
     "text": [
      "welcome\n",
      "6\n",
      "please come in\n"
     ]
    }
   ],
   "source": [
    "parent(len)"
   ]
  },
  {
   "cell_type": "code",
   "execution_count": 6,
   "id": "cc24ff98",
   "metadata": {},
   "outputs": [],
   "source": [
    "def char_count(char):\n",
    "    return len(char)\n",
    "    "
   ]
  },
  {
   "cell_type": "code",
   "execution_count": 7,
   "id": "ce0be5ca",
   "metadata": {},
   "outputs": [
    {
     "name": "stdout",
     "output_type": "stream",
     "text": [
      "welcome\n",
      "6\n",
      "please come in\n"
     ]
    }
   ],
   "source": [
    "parent(char_count)"
   ]
  },
  {
   "cell_type": "code",
   "execution_count": 8,
   "id": "d12d4dfc",
   "metadata": {},
   "outputs": [],
   "source": [
    "def char_count(char):\n",
    "    return len(upper)"
   ]
  },
  {
   "cell_type": "code",
   "execution_count": 10,
   "id": "093a6adb",
   "metadata": {},
   "outputs": [
    {
     "ename": "TypeError",
     "evalue": "parent() missing 1 required positional argument: 'func'",
     "output_type": "error",
     "traceback": [
      "\u001b[1;31m---------------------------------------------------------------------------\u001b[0m",
      "\u001b[1;31mTypeError\u001b[0m                                 Traceback (most recent call last)",
      "Cell \u001b[1;32mIn[10], line 1\u001b[0m\n\u001b[1;32m----> 1\u001b[0m parent()\n",
      "\u001b[1;31mTypeError\u001b[0m: parent() missing 1 required positional argument: 'func'"
     ]
    }
   ],
   "source": [
    "parent()"
   ]
  },
  {
   "cell_type": "markdown",
   "id": "b6895f56",
   "metadata": {},
   "source": [
    "# Directors"
   ]
  },
  {
   "cell_type": "code",
   "execution_count": 17,
   "id": "fe96f0f7",
   "metadata": {},
   "outputs": [],
   "source": [
    "def profile_fetcher(func):\n",
    "    \n",
    "    name= \"nasir\"\n",
    "    clas =\" navy\"\n",
    "    \n",
    "    profile =func(n=name, c=clas)\n",
    "    print(profile)"
   ]
  },
  {
   "cell_type": "code",
   "execution_count": 20,
   "id": "4c20ff99",
   "metadata": {},
   "outputs": [
    {
     "name": "stdout",
     "output_type": "stream",
     "text": [
      "{'n': 'nasir', 'c': ' navy'}\n"
     ]
    }
   ],
   "source": [
    "@profile_fetcher\n",
    "def profile_builder(**details):\n",
    "    \n",
    "    profile={}\n",
    "    \n",
    "    for k,v in details.items():\n",
    "        profile [k]=v\n",
    "        \n",
    "    return profile"
   ]
  },
  {
   "cell_type": "code",
   "execution_count": 18,
   "id": "915a1aa7",
   "metadata": {},
   "outputs": [
    {
     "name": "stdout",
     "output_type": "stream",
     "text": [
      "{'n': 'nasir', 'c': ' navy'}\n"
     ]
    }
   ],
   "source": [
    "@profile_fetcher\n",
    "def profile_builder(**details):\n",
    "    return details"
   ]
  },
  {
   "cell_type": "code",
   "execution_count": 25,
   "id": "efa943c4",
   "metadata": {},
   "outputs": [],
   "source": [
    "def mydeco(func):\n",
    "    name=input(\"Enter a name ! \")\n",
    "    invite =func(name)\n",
    "    print(invite)"
   ]
  },
  {
   "cell_type": "code",
   "execution_count": 26,
   "id": "22b99c75",
   "metadata": {},
   "outputs": [
    {
     "name": "stdout",
     "output_type": "stream",
     "text": [
      "Enter a name ! fatima\n",
      "welcome fatima\n"
     ]
    }
   ],
   "source": [
    "@mydeco\n",
    "def greetings(guest_name):\n",
    "    return f\"welcome {guest_name}\""
   ]
  },
  {
   "cell_type": "markdown",
   "id": "96fcb92e",
   "metadata": {},
   "source": [
    "# iterator"
   ]
  },
  {
   "cell_type": "code",
   "execution_count": null,
   "id": "ed12e6be",
   "metadata": {},
   "outputs": [],
   "source": [
    "list=[11,12,13,14,15,]\n",
    "\n",
    "for a in list\n",
    "\n"
   ]
  },
  {
   "cell_type": "code",
   "execution_count": 27,
   "id": "cf638598",
   "metadata": {},
   "outputs": [
    {
     "data": {
      "text/plain": [
       "tuple_iterator"
      ]
     },
     "execution_count": 27,
     "metadata": {},
     "output_type": "execute_result"
    }
   ],
   "source": [
    "tple =(1,2,3,4,5,6,7,8)\n",
    "my_iterator = iter(tple)\n",
    "type(my_iterator)"
   ]
  },
  {
   "cell_type": "code",
   "execution_count": 29,
   "id": "b4525e2f",
   "metadata": {},
   "outputs": [
    {
     "data": {
      "text/plain": [
       "2"
      ]
     },
     "execution_count": 29,
     "metadata": {},
     "output_type": "execute_result"
    }
   ],
   "source": [
    "next(my_iterator)"
   ]
  },
  {
   "cell_type": "code",
   "execution_count": 30,
   "id": "dd3eb9d2",
   "metadata": {},
   "outputs": [
    {
     "data": {
      "text/plain": [
       "3"
      ]
     },
     "execution_count": 30,
     "metadata": {},
     "output_type": "execute_result"
    }
   ],
   "source": [
    "next(my_iterator)"
   ]
  },
  {
   "cell_type": "code",
   "execution_count": 31,
   "id": "a18e769d",
   "metadata": {},
   "outputs": [
    {
     "data": {
      "text/plain": [
       "4"
      ]
     },
     "execution_count": 31,
     "metadata": {},
     "output_type": "execute_result"
    }
   ],
   "source": [
    "next(my_iterator)"
   ]
  },
  {
   "cell_type": "code",
   "execution_count": 32,
   "id": "e4214c13",
   "metadata": {},
   "outputs": [
    {
     "data": {
      "text/plain": [
       "5"
      ]
     },
     "execution_count": 32,
     "metadata": {},
     "output_type": "execute_result"
    }
   ],
   "source": [
    "next(my_iterator)"
   ]
  },
  {
   "cell_type": "code",
   "execution_count": 33,
   "id": "b6caf203",
   "metadata": {},
   "outputs": [
    {
     "data": {
      "text/plain": [
       "6"
      ]
     },
     "execution_count": 33,
     "metadata": {},
     "output_type": "execute_result"
    }
   ],
   "source": [
    "next(my_iterator)"
   ]
  },
  {
   "cell_type": "code",
   "execution_count": 34,
   "id": "f1e83d94",
   "metadata": {},
   "outputs": [
    {
     "data": {
      "text/plain": [
       "7"
      ]
     },
     "execution_count": 34,
     "metadata": {},
     "output_type": "execute_result"
    }
   ],
   "source": [
    "next(my_iterator)"
   ]
  },
  {
   "cell_type": "code",
   "execution_count": 35,
   "id": "064c4b23",
   "metadata": {},
   "outputs": [
    {
     "data": {
      "text/plain": [
       "8"
      ]
     },
     "execution_count": 35,
     "metadata": {},
     "output_type": "execute_result"
    }
   ],
   "source": [
    "next(my_iterator)"
   ]
  },
  {
   "cell_type": "code",
   "execution_count": 36,
   "id": "922e0747",
   "metadata": {},
   "outputs": [
    {
     "ename": "StopIteration",
     "evalue": "",
     "output_type": "error",
     "traceback": [
      "\u001b[1;31m---------------------------------------------------------------------------\u001b[0m",
      "\u001b[1;31mStopIteration\u001b[0m                             Traceback (most recent call last)",
      "Cell \u001b[1;32mIn[36], line 1\u001b[0m\n\u001b[1;32m----> 1\u001b[0m \u001b[38;5;28mnext\u001b[39m(my_iterator)\n",
      "\u001b[1;31mStopIteration\u001b[0m: "
     ]
    }
   ],
   "source": [
    "next(my_iterator)"
   ]
  },
  {
   "cell_type": "code",
   "execution_count": 39,
   "id": "a8f809bf",
   "metadata": {},
   "outputs": [
    {
     "name": "stdout",
     "output_type": "stream",
     "text": [
      "1\n"
     ]
    }
   ],
   "source": [
    "tple =(1,2,3,4,5,6,7,8)\n",
    "my_iterator = iter(tple)\n",
    "try:\n",
    "    print(next(my_iterator))\n",
    "except Stopiteration:\n",
    "    print(\"iterable is empty now\")\n"
   ]
  },
  {
   "cell_type": "code",
   "execution_count": 42,
   "id": "a6de6f66",
   "metadata": {},
   "outputs": [
    {
     "name": "stdout",
     "output_type": "stream",
     "text": [
      "2\n"
     ]
    }
   ],
   "source": [
    "tple =(1,2,3,4,5,6,7,8)\n",
    "my_iterator = iter(tple)\n",
    "next(my_iterator)\n",
    "try:\n",
    "    print(next(my_iterator))\n",
    "except Stopiteration:\n",
    "    print(\"iterable is empty now\")"
   ]
  },
  {
   "cell_type": "markdown",
   "id": "0aa0922a",
   "metadata": {},
   "source": [
    "# generator"
   ]
  },
  {
   "cell_type": "code",
   "execution_count": 4,
   "id": "e88e61f7",
   "metadata": {},
   "outputs": [
    {
     "ename": "AttributeError",
     "evalue": "'dict' object has no attribute 'append'",
     "output_type": "error",
     "traceback": [
      "\u001b[1;31m---------------------------------------------------------------------------\u001b[0m",
      "\u001b[1;31mAttributeError\u001b[0m                            Traceback (most recent call last)",
      "Cell \u001b[1;32mIn[4], line 8\u001b[0m\n\u001b[0;32m      5\u001b[0m         result\u001b[38;5;241m.\u001b[39mappend(i\u001b[38;5;241m*\u001b[39m\u001b[38;5;241m*\u001b[39m\u001b[38;5;241m2\u001b[39m)\n\u001b[0;32m      6\u001b[0m     \u001b[38;5;28;01mreturn\u001b[39;00m result\n\u001b[1;32m----> 8\u001b[0m my_nums \u001b[38;5;241m=\u001b[39m square_numbers([\u001b[38;5;241m1\u001b[39m,\u001b[38;5;241m2\u001b[39m,\u001b[38;5;241m3\u001b[39m,\u001b[38;5;241m4\u001b[39m,\u001b[38;5;241m5\u001b[39m])\n\u001b[0;32m      9\u001b[0m \u001b[38;5;28mprint\u001b[39m(my_nums)\n",
      "Cell \u001b[1;32mIn[4], line 5\u001b[0m, in \u001b[0;36msquare_numbers\u001b[1;34m(nums)\u001b[0m\n\u001b[0;32m      2\u001b[0m result \u001b[38;5;241m=\u001b[39m {}\n\u001b[0;32m      4\u001b[0m \u001b[38;5;28;01mfor\u001b[39;00m i \u001b[38;5;129;01min\u001b[39;00m nums:\n\u001b[1;32m----> 5\u001b[0m     result\u001b[38;5;241m.\u001b[39mappend(i\u001b[38;5;241m*\u001b[39m\u001b[38;5;241m*\u001b[39m\u001b[38;5;241m2\u001b[39m)\n\u001b[0;32m      6\u001b[0m \u001b[38;5;28;01mreturn\u001b[39;00m result\n",
      "\u001b[1;31mAttributeError\u001b[0m: 'dict' object has no attribute 'append'"
     ]
    }
   ],
   "source": [
    "def square_numbers(nums):\n",
    "    result = {}\n",
    "    \n",
    "    for i in nums:\n",
    "        result.append(i**2)\n",
    "    return result\n",
    "\n",
    "my_nums = square_numbers([1,2,3,4,5])\n",
    "print(my_nums)"
   ]
  },
  {
   "cell_type": "code",
   "execution_count": 6,
   "id": "bc9df859",
   "metadata": {},
   "outputs": [
    {
     "name": "stdout",
     "output_type": "stream",
     "text": [
      "<generator object square_numbers at 0x000002173ABD1B10>\n"
     ]
    }
   ],
   "source": [
    "def square_numbers(nums):\n",
    "     for i in nums:\n",
    "        yield (i**2)\n",
    "my_nums = square_numbers([1,2,3,4,5,6,7])\n",
    "print(my_nums)"
   ]
  },
  {
   "cell_type": "code",
   "execution_count": 48,
   "id": "99be3f7e",
   "metadata": {},
   "outputs": [
    {
     "name": "stdout",
     "output_type": "stream",
     "text": [
      "1\n",
      "4\n",
      "9\n",
      "16\n",
      "25\n",
      "36\n",
      "49\n"
     ]
    }
   ],
   "source": [
    " for i in my_nums:\n",
    "        print(i)"
   ]
  },
  {
   "cell_type": "code",
   "execution_count": 7,
   "id": "9a9341a2",
   "metadata": {},
   "outputs": [
    {
     "name": "stdout",
     "output_type": "stream",
     "text": [
      "1\n",
      "4\n",
      "9\n",
      "16\n",
      "25\n",
      "36\n",
      "49\n"
     ]
    }
   ],
   "source": [
    "for number in my_nums:\n",
    "    print(number)"
   ]
  },
  {
   "cell_type": "code",
   "execution_count": null,
   "id": "fa585be7",
   "metadata": {},
   "outputs": [],
   "source": []
  }
 ],
 "metadata": {
  "kernelspec": {
   "display_name": "Python 3 (ipykernel)",
   "language": "python",
   "name": "python3"
  },
  "language_info": {
   "codemirror_mode": {
    "name": "ipython",
    "version": 3
   },
   "file_extension": ".py",
   "mimetype": "text/x-python",
   "name": "python",
   "nbconvert_exporter": "python",
   "pygments_lexer": "ipython3",
   "version": "3.11.3"
  }
 },
 "nbformat": 4,
 "nbformat_minor": 5
}
